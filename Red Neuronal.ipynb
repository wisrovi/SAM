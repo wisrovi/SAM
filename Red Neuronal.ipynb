{
  "nbformat": 4,
  "nbformat_minor": 0,
  "metadata": {
    "colab": {
      "name": "El nuevo editor de código de Colaboratory",
      "provenance": [],
      "collapsed_sections": [],
      "include_colab_link": true
    },
    "kernelspec": {
      "display_name": "Python 3",
      "name": "python3"
    }
  },
  "cells": [
    {
      "cell_type": "markdown",
      "metadata": {
        "id": "view-in-github",
        "colab_type": "text"
      },
      "source": [
        "<a href=\"https://colab.research.google.com/github/wisrovi/SAM/blob/master/Red%20Neuronal.ipynb\" target=\"_parent\"><img src=\"https://colab.research.google.com/assets/colab-badge.svg\" alt=\"Open In Colab\"/></a>"
      ]
    },
    {
      "cell_type": "code",
      "metadata": {
        "id": "M2VlrhFccsuG",
        "colab_type": "code",
        "colab": {
          "base_uri": "https://localhost:8080/",
          "height": 34
        },
        "outputId": "52e7379f-de5a-40b5-eabf-d374d67c88e3"
      },
      "source": [
        "raiz = '/content/drive/'\n",
        "\n",
        "#API google colab con google drive\n",
        "from google.colab import drive\n",
        "drive.mount(raiz)"
      ],
      "execution_count": 2,
      "outputs": [
        {
          "output_type": "stream",
          "text": [
            "Drive already mounted at /content/drive/; to attempt to forcibly remount, call drive.mount(\"/content/drive/\", force_remount=True).\n"
          ],
          "name": "stdout"
        }
      ]
    },
    {
      "cell_type": "code",
      "metadata": {
        "id": "boRYxUOOypG4",
        "colab_type": "code",
        "colab": {
          "base_uri": "https://localhost:8080/",
          "height": 34
        },
        "outputId": "a8820474-d639-4ee0-912e-9b646db97cf4"
      },
      "source": [
        "a = !ls \"/content/drive/My Drive/Redes Neuronales\"\n",
        "if len(a)>0:\n",
        "  if str(a[0]).index('cannot access') > 0:\n",
        "    print(\"El directorio no existe, creando el directorio\")\n",
        "    !mkdir \"/content/drive/My Drive/Redes Neuronales\"\n",
        "else:\n",
        "  print(\"El directorio esta vacio\")"
      ],
      "execution_count": 34,
      "outputs": [
        {
          "output_type": "stream",
          "text": [
            "El directorio esta vacio\n"
          ],
          "name": "stdout"
        }
      ]
    },
    {
      "cell_type": "code",
      "metadata": {
        "id": "WlvgyB4-x6pY",
        "colab_type": "code",
        "colab": {}
      },
      "source": [
        "!ls \"/content/drive/My Drive/Redes Neuronales\""
      ],
      "execution_count": 0,
      "outputs": []
    }
  ]
}
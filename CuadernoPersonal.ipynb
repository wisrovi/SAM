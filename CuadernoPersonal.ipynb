{
  "nbformat": 4,
  "nbformat_minor": 0,
  "metadata": {
    "colab": {
      "name": "El nuevo editor de código de Colaboratory",
      "provenance": [],
      "collapsed_sections": [],
      "include_colab_link": true
    },
    "kernelspec": {
      "name": "python3",
      "display_name": "Python 3"
    },
    "accelerator": "GPU"
  },
  "cells": [
    {
      "cell_type": "markdown",
      "metadata": {
        "id": "view-in-github",
        "colab_type": "text"
      },
      "source": [
        "<a href=\"https://colab.research.google.com/github/wisrovi/SAM/blob/master/CuadernoPersonal.ipynb\" target=\"_parent\"><img src=\"https://colab.research.google.com/assets/colab-badge.svg\" alt=\"Open In Colab\"/></a>"
      ]
    },
    {
      "cell_type": "markdown",
      "metadata": {
        "id": "TjTltT8XQhSQ",
        "colab_type": "text"
      },
      "source": [
        ""
      ]
    },
    {
      "cell_type": "code",
      "metadata": {
        "id": "c2r7gKpLaQvx",
        "colab_type": "code",
        "colab": {}
      },
      "source": [
        "#https://colab.research.google.com/notebooks/editor_details.ipynb"
      ],
      "execution_count": 0,
      "outputs": []
    },
    {
      "cell_type": "code",
      "metadata": {
        "id": "ki71xqF6Qhd9",
        "colab_type": "code",
        "outputId": "530110fb-2a67-41ef-9472-13fbe6016332",
        "colab": {
          "base_uri": "https://localhost:8080/",
          "height": 122
        }
      },
      "source": [
        "#asociamos nuestra cuenta de google para que el sistema guarde allí los archivos y datos que se procesaran\n",
        "#API google colab con google drive\n",
        "from google.colab import drive\n",
        "drive.mount('/content/drive/')\n",
        "\n",
        "#La conexión a esta maquina virtual sólo dura 1 hora y 30 minutos"
      ],
      "execution_count": 0,
      "outputs": [
        {
          "output_type": "stream",
          "text": [
            "Go to this URL in a browser: https://accounts.google.com/o/oauth2/auth?client_id=947318989803-6bn6qk8qdgf4n4g3pfee6491hc0brc4i.apps.googleusercontent.com&redirect_uri=urn%3Aietf%3Awg%3Aoauth%3A2.0%3Aoob&scope=email%20https%3A%2F%2Fwww.googleapis.com%2Fauth%2Fdocs.test%20https%3A%2F%2Fwww.googleapis.com%2Fauth%2Fdrive%20https%3A%2F%2Fwww.googleapis.com%2Fauth%2Fdrive.photos.readonly%20https%3A%2F%2Fwww.googleapis.com%2Fauth%2Fpeopleapi.readonly&response_type=code\n",
            "\n",
            "Enter your authorization code:\n",
            "··········\n",
            "Mounted at /content/drive/\n"
          ],
          "name": "stdout"
        }
      ]
    },
    {
      "cell_type": "code",
      "metadata": {
        "id": "SZLf0xkxZ9oo",
        "colab_type": "code",
        "colab": {}
      },
      "source": [
        "BASE_FOLDER = \"/content/drive/My Drive/CuadernoPersonalRedesNeuronales\""
      ],
      "execution_count": 0,
      "outputs": []
    },
    {
      "cell_type": "code",
      "metadata": {
        "id": "z6DyvsegQ95c",
        "colab_type": "code",
        "outputId": "01bb44d4-e2c5-4613-d976-7767555666a0",
        "colab": {
          "base_uri": "https://localhost:8080/",
          "height": 34
        }
      },
      "source": [
        "def verContenidoCarpeta():\n",
        "  a = !ls BASE_FOLDER\n",
        "  return a\n",
        "\n",
        "a = verContenidoCarpeta()\n",
        "if len(a)>0:\n",
        "  if str(a[0]).index('cannot access') > 0:\n",
        "    print(\"El directorio no existe, creando el directorio\")\n",
        "    !mkdir BASE_FOLDER\n",
        "else:\n",
        "  print(\"El directorio esta vacio\")"
      ],
      "execution_count": 0,
      "outputs": [
        {
          "output_type": "stream",
          "text": [
            "El directorio esta vacio\n"
          ],
          "name": "stdout"
        }
      ]
    },
    {
      "cell_type": "code",
      "metadata": {
        "id": "8rnmqPeQRmDf",
        "colab_type": "code",
        "colab": {}
      },
      "source": [
        ""
      ],
      "execution_count": 0,
      "outputs": []
    }
  ]
}
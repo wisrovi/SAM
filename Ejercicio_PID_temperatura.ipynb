{
  "nbformat": 4,
  "nbformat_minor": 0,
  "metadata": {
    "colab": {
      "name": "Nuevo editor de código de Colab",
      "provenance": [],
      "collapsed_sections": [],
      "include_colab_link": true
    },
    "kernelspec": {
      "display_name": "Python 3",
      "name": "python3"
    }
  },
  "cells": [
    {
      "cell_type": "markdown",
      "metadata": {
        "id": "view-in-github",
        "colab_type": "text"
      },
      "source": [
        "<a href=\"https://colab.research.google.com/github/wisrovi/SAM/blob/master/Ejercicio_PID_temperatura.ipynb\" target=\"_parent\"><img src=\"https://colab.research.google.com/assets/colab-badge.svg\" alt=\"Open In Colab\"/></a>"
      ]
    },
    {
      "cell_type": "markdown",
      "metadata": {
        "id": "faS7SgkQS74P",
        "colab_type": "text"
      },
      "source": [
        "# Invernadero"
      ]
    },
    {
      "cell_type": "markdown",
      "metadata": {
        "id": "PT6tFqQPUJno",
        "colab_type": "text"
      },
      "source": [
        "<img src=\"https://hydroenv.com.mx/catalogo/images/00_Diana/tipos_invernaderos/ventilacion_en_invernaderos.jpg\">"
      ]
    },
    {
      "cell_type": "code",
      "metadata": {
        "id": "zWQeX8sqTN9q",
        "colab_type": "code",
        "colab": {}
      },
      "source": [
        "setPoint = 20\n",
        "\n",
        "actuador = {\n",
        "    1 : \"Ventilador\",\n",
        "    2 : \"Lampara calor\"\n",
        "}\n",
        "\n",
        "estadosActuadores = {\n",
        "    1 : \"ON\",\n",
        "    0 : \"OFF\"\n",
        "}\n",
        "\n",
        "sensores = {\n",
        "    1 : \"Temperatura\"\n",
        "}"
      ],
      "execution_count": 0,
      "outputs": []
    },
    {
      "cell_type": "markdown",
      "metadata": {
        "id": "h0k-3WCvVQ6e",
        "colab_type": "text"
      },
      "source": [
        "### Vamos a crear el dataseet"
      ]
    },
    {
      "cell_type": "code",
      "metadata": {
        "id": "jouChgoAVU3r",
        "colab_type": "code",
        "colab": {}
      },
      "source": [
        "import random\n",
        "\n",
        "def FuncionRespuesta(entrada):\n",
        "  salida1 = 0    #Ventilador\n",
        "  salida2 = 0    #calentador\n",
        "  if entrada > setPoint:\n",
        "    salida1 = 1\n",
        "    salida2 = 0\n",
        "  elif entrada < setPoint:\n",
        "    salida1 = 0\n",
        "    salida2 = 1\n",
        "  else:\n",
        "    salida1 = 0\n",
        "    salida2 = 0\n",
        "  return salida1, salida2"
      ],
      "execution_count": 0,
      "outputs": []
    },
    {
      "cell_type": "code",
      "metadata": {
        "id": "qwfbrEFNmLaC",
        "colab_type": "code",
        "colab": {}
      },
      "source": [
        "def temperaturaAleatoria():\n",
        "  return random.randint(10,45)"
      ],
      "execution_count": 0,
      "outputs": []
    },
    {
      "cell_type": "code",
      "metadata": {
        "id": "gvddRM3KVU8u",
        "colab_type": "code",
        "colab": {
          "base_uri": "https://localhost:8080/",
          "height": 70
        },
        "outputId": "39015aa0-0403-468f-d7fa-f564ae703676"
      },
      "source": [
        "temperatura = temperaturaAleatoria()\n",
        "salida1, salida2 = FuncionRespuesta(temperatura)  \n",
        "print(sensores[1] +\": \", temperatura)\n",
        "print(actuador[1] + \": \" + estadosActuadores[salida1])\n",
        "print(actuador[2] + \": \" + estadosActuadores[salida2])"
      ],
      "execution_count": 4,
      "outputs": [
        {
          "output_type": "stream",
          "text": [
            "Temperatura:  44\n",
            "Ventilador: ON\n",
            "Lampara calor: OFF\n"
          ],
          "name": "stdout"
        }
      ]
    },
    {
      "cell_type": "code",
      "metadata": {
        "id": "jCzDqk4-VVAq",
        "colab_type": "code",
        "colab": {}
      },
      "source": [
        "def GenerarDatos(cantidad):\n",
        "  training_data = []\n",
        "  target_data = []\n",
        "  valorPasado = 0\n",
        "  for i in range(cantidad):\n",
        "    temperatura = temperaturaAleatoria()\n",
        "    if valorPasado != temperatura:\n",
        "      valorPasado = temperatura\n",
        "      training_data.append([temperatura])\n",
        "      salida1, salida2 = FuncionRespuesta(temperatura) \n",
        "      target_data.append([salida1, salida2])\n",
        "    else:\n",
        "      i -= 1\n",
        "  return training_data, target_data\n"
      ],
      "execution_count": 0,
      "outputs": []
    },
    {
      "cell_type": "code",
      "metadata": {
        "id": "84SJYfh7VVC_",
        "colab_type": "code",
        "colab": {}
      },
      "source": [
        "training, target = GenerarDatos(5000)\n",
        "for i in range(len(training)):\n",
        "  #print(training[i], target[i])\n",
        "  pass"
      ],
      "execution_count": 0,
      "outputs": []
    },
    {
      "cell_type": "markdown",
      "metadata": {
        "id": "7lRAx7KghnrK",
        "colab_type": "text"
      },
      "source": [
        "# Convertimos los datos a arrays de numpy"
      ]
    },
    {
      "cell_type": "code",
      "metadata": {
        "id": "zns74EBRhw3e",
        "colab_type": "code",
        "colab": {}
      },
      "source": [
        "import numpy as np #Utilizaremos numpy para el manejo de arrays.\n",
        "\n",
        "#Creamos los arrays de entrada y salida.\n",
        "training_data = np.array(training, \"float32\")\n",
        "target_data = np.array(target, \"float32\")"
      ],
      "execution_count": 0,
      "outputs": []
    },
    {
      "cell_type": "markdown",
      "metadata": {
        "id": "6EgvQYD0eq4I",
        "colab_type": "text"
      },
      "source": [
        "# Importamos las clases que utilizaremos:"
      ]
    },
    {
      "cell_type": "code",
      "metadata": {
        "id": "7M_aO9inU9ta",
        "colab_type": "code",
        "colab": {
          "base_uri": "https://localhost:8080/",
          "height": 34
        },
        "outputId": "9679218b-e3a3-4a86-e3db-607aecaf8a83"
      },
      "source": [
        "from keras.models import Sequential #De Keras importamos el tipo de modelo Sequential\n",
        "from keras.layers.core import Dense # y el tipo de capa Dense que es la «normal».\n",
        "from keras.layers import Conv2D, MaxPooling2D, Flatten"
      ],
      "execution_count": 8,
      "outputs": [
        {
          "output_type": "stream",
          "text": [
            "Using TensorFlow backend.\n"
          ],
          "name": "stderr"
        }
      ]
    },
    {
      "cell_type": "markdown",
      "metadata": {
        "id": "bA4WA-vzfBmm",
        "colab_type": "text"
      },
      "source": [
        "# Ahora crearemos la arquitectura de nuestra red neuronal:"
      ]
    },
    {
      "cell_type": "code",
      "metadata": {
        "id": "FcA6Yoo2f0mL",
        "colab_type": "code",
        "colab": {}
      },
      "source": [
        "funcionesActivacion = {\n",
        "    \"relu\" : \"relu\",\n",
        "    \"simoide\" : 'sigmoid', \n",
        "    \"tangente\" : \"tanh\",\n",
        "    \"softmax\" : \"softmax\"\n",
        "}"
      ],
      "execution_count": 0,
      "outputs": []
    },
    {
      "cell_type": "markdown",
      "metadata": {
        "id": "dhbWUCU1wK9s",
        "colab_type": "text"
      },
      "source": [
        "Piense en un modelo secuencial como una tubería con sus datos brutos introducidos en la parte inferior y las predicciones que salen en la parte superior. Esta es una concepción útil en Keras, ya que las preocupaciones que tradicionalmente se asociaban con una capa también pueden dividirse y añadirse como capas separadas, mostrando claramente su papel en la transformación de los datos de entrada a predicción. Por ejemplo, las funciones de activación que transforman una señal sumada de cada neurona en una capa, pueden ser extraídas y añadidas a la Sequencial como un objeto similar a una capa llamado la clase Activation."
      ]
    },
    {
      "cell_type": "code",
      "metadata": {
        "id": "TliwwkLlasoh",
        "colab_type": "code",
        "colab": {
          "base_uri": "https://localhost:8080/",
          "height": 354
        },
        "outputId": "df631b25-643c-4ee8-d500-14d765c06eaf"
      },
      "source": [
        "numeroEntradas = 1\n",
        "NumeroNeuronasEntrada = numeroEntradas\n",
        "NumeroNeuronasPrimeraCapaOculta = 2\n",
        "\n",
        "numeroSalidas = 2\n",
        "NumeroNeuronasSalida = numeroSalidas\n",
        "\n",
        "model = Sequential()\n",
        "model.add(Dense(NumeroNeuronasPrimeraCapaOculta, input_dim=NumeroNeuronasEntrada, activation=funcionesActivacion['relu'])) #La mas probada por dar buenos resultados es la relu\n",
        "model.add(Dense(NumeroNeuronasSalida, activation=funcionesActivacion['simoide'])) #Añadimos dos capas tipo dense, una para cada salida\n",
        "\n",
        "model.summary()"
      ],
      "execution_count": 10,
      "outputs": [
        {
          "output_type": "stream",
          "text": [
            "WARNING:tensorflow:From /usr/local/lib/python3.6/dist-packages/keras/backend/tensorflow_backend.py:66: The name tf.get_default_graph is deprecated. Please use tf.compat.v1.get_default_graph instead.\n",
            "\n",
            "WARNING:tensorflow:From /usr/local/lib/python3.6/dist-packages/keras/backend/tensorflow_backend.py:541: The name tf.placeholder is deprecated. Please use tf.compat.v1.placeholder instead.\n",
            "\n",
            "WARNING:tensorflow:From /usr/local/lib/python3.6/dist-packages/keras/backend/tensorflow_backend.py:4432: The name tf.random_uniform is deprecated. Please use tf.random.uniform instead.\n",
            "\n",
            "Model: \"sequential_1\"\n",
            "_________________________________________________________________\n",
            "Layer (type)                 Output Shape              Param #   \n",
            "=================================================================\n",
            "dense_1 (Dense)              (None, 2)                 4         \n",
            "_________________________________________________________________\n",
            "dense_2 (Dense)              (None, 2)                 6         \n",
            "=================================================================\n",
            "Total params: 10\n",
            "Trainable params: 10\n",
            "Non-trainable params: 0\n",
            "_________________________________________________________________\n"
          ],
          "name": "stdout"
        }
      ]
    },
    {
      "cell_type": "code",
      "metadata": {
        "id": "iZFvxHKrwtnP",
        "colab_type": "code",
        "colab": {
          "base_uri": "https://localhost:8080/",
          "height": 272
        },
        "outputId": "891ac68c-fc60-426c-a6de-a8016d66f9e6"
      },
      "source": [
        "from keras.utils import plot_model\n",
        "# gráfico de trazado\n",
        "plot_model(model, to_file='Red_Neuronall.png')"
      ],
      "execution_count": 11,
      "outputs": [
        {
          "output_type": "execute_result",
          "data": {
            "image/png": "[encoded data removed]",
            "text/plain": [
              "<IPython.core.display.Image object>"
            ]
          },
          "metadata": {
            "tags": []
          },
          "execution_count": 11
        }
      ]
    },
    {
      "cell_type": "markdown",
      "metadata": {
        "id": "dJdumwX1fRg1",
        "colab_type": "text"
      },
      "source": [
        "Primero creamos un modelo vació de tipo Sequential. Este modelo se refiere a que crearemos una serie de capas de neuronas secuenciales, «una delante de otra»."
      ]
    },
    {
      "cell_type": "markdown",
      "metadata": {
        "id": "XNqj1ZhogrPa",
        "colab_type": "text"
      },
      "source": [
        "# A Entrenar la red!"
      ]
    },
    {
      "cell_type": "markdown",
      "metadata": {
        "id": "kx0t8qoWgvIO",
        "colab_type": "text"
      },
      "source": [
        "Antes de de entrenar la red haremos unos ajustes de nuestro modelo:"
      ]
    },
    {
      "cell_type": "code",
      "metadata": {
        "id": "QjNcej8CgvOI",
        "colab_type": "code",
        "colab": {
          "base_uri": "https://localhost:8080/",
          "height": 72
        },
        "outputId": "aa83c2ed-5954-4b00-db68-0f7527417ff2"
      },
      "source": [
        "model.compile(loss='mean_squared_error',  #Usamos el error cuadratico para tener valores absolutos y facil de medir\n",
        "              optimizer='adam',  #Adam es un tipo de optimizador que no requiere parámetros de learning rate explícitos sino que los estima\n",
        "              metrics=['binary_accuracy'])  #Finalmente algo que no hemos visto son las métricas. Son funciones útiles que ayudan a monitorizar el proceso pero que no participan activamente en el entrenamiento."
      ],
      "execution_count": 12,
      "outputs": [
        {
          "output_type": "stream",
          "text": [
            "WARNING:tensorflow:From /usr/local/lib/python3.6/dist-packages/keras/optimizers.py:793: The name tf.train.Optimizer is deprecated. Please use tf.compat.v1.train.Optimizer instead.\n",
            "\n"
          ],
          "name": "stdout"
        }
      ]
    },
    {
      "cell_type": "markdown",
      "metadata": {
        "id": "vsM_p5tpg-vb",
        "colab_type": "text"
      },
      "source": [
        "Con esto indicamos el tipo de pérdida (loss) que utilizaremos, el «optimizador» de los pesos de las conexiones de las neuronas y las métricas que queremos obtener."
      ]
    },
    {
      "cell_type": "markdown",
      "metadata": {
        "id": "w4zkngBShBTE",
        "colab_type": "text"
      },
      "source": [
        "### Ahora sí que entrenaremos la red:"
      ]
    },
    {
      "cell_type": "markdown",
      "metadata": {
        "id": "jFfa8vVBhHWN",
        "colab_type": "text"
      },
      "source": [
        "Indicamos con model.fit() las entradas y sus salidas y la cantidad de iteraciones de aprendizaje (epochs) de entrenamiento."
      ]
    },
    {
      "cell_type": "code",
      "metadata": {
        "id": "Zb_tRmSlbB4U",
        "colab_type": "code",
        "colab": {
          "base_uri": "https://localhost:8080/",
          "height": 1000
        },
        "outputId": "e6f56e46-ee2f-4f7a-b59a-497884aa0d97"
      },
      "source": [
        "history = model.fit(training_data, target_data, epochs=250)"
      ],
      "execution_count": 13,
      "outputs": [
        {
          "output_type": "stream",
          "text": [
            "WARNING:tensorflow:From /usr/local/lib/python3.6/dist-packages/keras/backend/tensorflow_backend.py:1033: The name tf.assign_add is deprecated. Please use tf.compat.v1.assign_add instead.\n",
            "\n",
            "WARNING:tensorflow:From /usr/local/lib/python3.6/dist-packages/keras/backend/tensorflow_backend.py:1020: The name tf.assign is deprecated. Please use tf.compat.v1.assign instead.\n",
            "\n",
            "WARNING:tensorflow:From /usr/local/lib/python3.6/dist-packages/keras/backend/tensorflow_backend.py:3005: The name tf.Session is deprecated. Please use tf.compat.v1.Session instead.\n",
            "\n",
            "Epoch 1/250\n",
            "WARNING:tensorflow:From /usr/local/lib/python3.6/dist-packages/keras/backend/tensorflow_backend.py:190: The name tf.get_default_session is deprecated. Please use tf.compat.v1.get_default_session instead.\n",
            "\n",
            "WARNING:tensorflow:From /usr/local/lib/python3.6/dist-packages/keras/backend/tensorflow_backend.py:197: The name tf.ConfigProto is deprecated. Please use tf.compat.v1.ConfigProto instead.\n",
            "\n",
            "WARNING:tensorflow:From /usr/local/lib/python3.6/dist-packages/keras/backend/tensorflow_backend.py:207: The name tf.global_variables is deprecated. Please use tf.compat.v1.global_variables instead.\n",
            "\n",
            "WARNING:tensorflow:From /usr/local/lib/python3.6/dist-packages/keras/backend/tensorflow_backend.py:216: The name tf.is_variable_initialized is deprecated. Please use tf.compat.v1.is_variable_initialized instead.\n",
            "\n",
            "WARNING:tensorflow:From /usr/local/lib/python3.6/dist-packages/keras/backend/tensorflow_backend.py:223: The name tf.variables_initializer is deprecated. Please use tf.compat.v1.variables_initializer instead.\n",
            "\n",
            "4857/4857 [==============================] - 0s 56us/step - loss: 0.2941 - binary_accuracy: 0.7058\n",
            "Epoch 2/250\n",
            "4857/4857 [==============================] - 0s 29us/step - loss: 0.2599 - binary_accuracy: 0.7058\n",
            "Epoch 3/250\n",
            "4857/4857 [==============================] - 0s 30us/step - loss: 0.1271 - binary_accuracy: 0.7517\n",
            "Epoch 4/250\n",
            "4857/4857 [==============================] - 0s 30us/step - loss: 0.1133 - binary_accuracy: 0.8022\n",
            "Epoch 5/250\n",
            "4857/4857 [==============================] - 0s 29us/step - loss: 0.1074 - binary_accuracy: 0.8334\n",
            "Epoch 6/250\n",
            "4857/4857 [==============================] - 0s 30us/step - loss: 0.1018 - binary_accuracy: 0.8581\n",
            "Epoch 7/250\n",
            "4857/4857 [==============================] - 0s 33us/step - loss: 0.0963 - binary_accuracy: 0.8749\n",
            "Epoch 8/250\n",
            "4857/4857 [==============================] - 0s 30us/step - loss: 0.0912 - binary_accuracy: 0.8940\n",
            "Epoch 9/250\n",
            "4857/4857 [==============================] - 0s 34us/step - loss: 0.0862 - binary_accuracy: 0.9151\n",
            "Epoch 10/250\n",
            "4857/4857 [==============================] - 0s 30us/step - loss: 0.0815 - binary_accuracy: 0.9155\n",
            "Epoch 11/250\n",
            "4857/4857 [==============================] - 0s 30us/step - loss: 0.0770 - binary_accuracy: 0.9342\n",
            "Epoch 12/250\n",
            "4857/4857 [==============================] - 0s 29us/step - loss: 0.0726 - binary_accuracy: 0.9385\n",
            "Epoch 13/250\n",
            "4857/4857 [==============================] - 0s 29us/step - loss: 0.0685 - binary_accuracy: 0.9450\n",
            "Epoch 14/250\n",
            "4857/4857 [==============================] - 0s 30us/step - loss: 0.0648 - binary_accuracy: 0.9508\n",
            "Epoch 15/250\n",
            "4857/4857 [==============================] - 0s 30us/step - loss: 0.0611 - binary_accuracy: 0.9627\n",
            "Epoch 16/250\n",
            "4857/4857 [==============================] - 0s 29us/step - loss: 0.0578 - binary_accuracy: 0.9694\n",
            "Epoch 17/250\n",
            "4857/4857 [==============================] - 0s 28us/step - loss: 0.0547 - binary_accuracy: 0.9693\n",
            "Epoch 18/250\n",
            "4857/4857 [==============================] - 0s 30us/step - loss: 0.0521 - binary_accuracy: 0.9688\n",
            "Epoch 19/250\n",
            "4857/4857 [==============================] - 0s 35us/step - loss: 0.0493 - binary_accuracy: 0.9722\n",
            "Epoch 20/250\n",
            "4857/4857 [==============================] - 0s 30us/step - loss: 0.0469 - binary_accuracy: 0.9732\n",
            "Epoch 21/250\n",
            "4857/4857 [==============================] - 0s 30us/step - loss: 0.0447 - binary_accuracy: 0.9834\n",
            "Epoch 22/250\n",
            "4857/4857 [==============================] - 0s 30us/step - loss: 0.0427 - binary_accuracy: 0.9804\n",
            "Epoch 23/250\n",
            "4857/4857 [==============================] - 0s 28us/step - loss: 0.0408 - binary_accuracy: 0.9799\n",
            "Epoch 24/250\n",
            "4857/4857 [==============================] - 0s 37us/step - loss: 0.0391 - binary_accuracy: 0.9896\n",
            "Epoch 25/250\n",
            "4857/4857 [==============================] - 0s 37us/step - loss: 0.0376 - binary_accuracy: 0.9832\n",
            "Epoch 26/250\n",
            "4857/4857 [==============================] - 0s 34us/step - loss: 0.0361 - binary_accuracy: 0.9905\n",
            "Epoch 27/250\n",
            "4857/4857 [==============================] - 0s 36us/step - loss: 0.0347 - binary_accuracy: 0.9940\n",
            "Epoch 28/250\n",
            "4857/4857 [==============================] - 0s 35us/step - loss: 0.0334 - binary_accuracy: 0.9958\n",
            "Epoch 29/250\n",
            "4857/4857 [==============================] - 0s 34us/step - loss: 0.0323 - binary_accuracy: 0.9926\n",
            "Epoch 30/250\n",
            "4857/4857 [==============================] - 0s 29us/step - loss: 0.0311 - binary_accuracy: 0.9952\n",
            "Epoch 31/250\n",
            "4857/4857 [==============================] - 0s 28us/step - loss: 0.0302 - binary_accuracy: 0.9961\n",
            "Epoch 32/250\n",
            "4857/4857 [==============================] - 0s 28us/step - loss: 0.0292 - binary_accuracy: 0.9999\n",
            "Epoch 33/250\n",
            "4857/4857 [==============================] - 0s 28us/step - loss: 0.0283 - binary_accuracy: 1.0000\n",
            "Epoch 34/250\n",
            "4857/4857 [==============================] - 0s 28us/step - loss: 0.0275 - binary_accuracy: 0.9984\n",
            "Epoch 35/250\n",
            "4857/4857 [==============================] - 0s 29us/step - loss: 0.0267 - binary_accuracy: 0.9994\n",
            "Epoch 36/250\n",
            "4857/4857 [==============================] - 0s 30us/step - loss: 0.0259 - binary_accuracy: 0.9985\n",
            "Epoch 37/250\n",
            "4857/4857 [==============================] - 0s 28us/step - loss: 0.0252 - binary_accuracy: 0.9979\n",
            "Epoch 38/250\n",
            "4857/4857 [==============================] - 0s 31us/step - loss: 0.0245 - binary_accuracy: 0.9981\n",
            "Epoch 39/250\n",
            "4857/4857 [==============================] - 0s 29us/step - loss: 0.0238 - binary_accuracy: 1.0000\n",
            "Epoch 40/250\n",
            "4857/4857 [==============================] - 0s 29us/step - loss: 0.0232 - binary_accuracy: 1.0000\n",
            "Epoch 41/250\n",
            "4857/4857 [==============================] - 0s 31us/step - loss: 0.0226 - binary_accuracy: 1.0000\n",
            "Epoch 42/250\n",
            "4857/4857 [==============================] - 0s 29us/step - loss: 0.0220 - binary_accuracy: 1.0000\n",
            "Epoch 43/250\n",
            "4857/4857 [==============================] - 0s 29us/step - loss: 0.0214 - binary_accuracy: 1.0000\n",
            "Epoch 44/250\n",
            "4857/4857 [==============================] - 0s 30us/step - loss: 0.0211 - binary_accuracy: 0.9997\n",
            "Epoch 45/250\n",
            "4857/4857 [==============================] - 0s 29us/step - loss: 0.0205 - binary_accuracy: 1.0000\n",
            "Epoch 46/250\n",
            "4857/4857 [==============================] - 0s 30us/step - loss: 0.0200 - binary_accuracy: 1.0000\n",
            "Epoch 47/250\n",
            "4857/4857 [==============================] - 0s 29us/step - loss: 0.0196 - binary_accuracy: 1.0000\n",
            "Epoch 48/250\n",
            "4857/4857 [==============================] - 0s 31us/step - loss: 0.0191 - binary_accuracy: 1.0000\n",
            "Epoch 49/250\n",
            "4857/4857 [==============================] - 0s 28us/step - loss: 0.0187 - binary_accuracy: 1.0000\n",
            "Epoch 50/250\n",
            "4857/4857 [==============================] - 0s 35us/step - loss: 0.0183 - binary_accuracy: 1.0000\n",
            "Epoch 51/250\n",
            "4857/4857 [==============================] - 0s 37us/step - loss: 0.0179 - binary_accuracy: 1.0000\n",
            "Epoch 52/250\n",
            "4857/4857 [==============================] - 0s 34us/step - loss: 0.0176 - binary_accuracy: 1.0000\n",
            "Epoch 53/250\n",
            "4857/4857 [==============================] - 0s 35us/step - loss: 0.0172 - binary_accuracy: 1.0000\n",
            "Epoch 54/250\n",
            "4857/4857 [==============================] - 0s 35us/step - loss: 0.0168 - binary_accuracy: 1.0000\n",
            "Epoch 55/250\n",
            "4857/4857 [==============================] - 0s 32us/step - loss: 0.0165 - binary_accuracy: 1.0000\n",
            "Epoch 56/250\n",
            "4857/4857 [==============================] - 0s 35us/step - loss: 0.0162 - binary_accuracy: 1.0000\n",
            "Epoch 57/250\n",
            "4857/4857 [==============================] - 0s 34us/step - loss: 0.0159 - binary_accuracy: 1.0000\n",
            "Epoch 58/250\n",
            "4857/4857 [==============================] - 0s 35us/step - loss: 0.0156 - binary_accuracy: 1.0000\n",
            "Epoch 59/250\n",
            "4857/4857 [==============================] - 0s 31us/step - loss: 0.0153 - binary_accuracy: 1.0000\n",
            "Epoch 60/250\n",
            "4857/4857 [==============================] - 0s 34us/step - loss: 0.0150 - binary_accuracy: 1.0000\n",
            "Epoch 61/250\n",
            "4857/4857 [==============================] - 0s 35us/step - loss: 0.0148 - binary_accuracy: 1.0000\n",
            "Epoch 62/250\n",
            "4857/4857 [==============================] - 0s 33us/step - loss: 0.0145 - binary_accuracy: 1.0000\n",
            "Epoch 63/250\n",
            "4857/4857 [==============================] - 0s 29us/step - loss: 0.0143 - binary_accuracy: 1.0000\n",
            "Epoch 64/250\n",
            "4857/4857 [==============================] - 0s 30us/step - loss: 0.0140 - binary_accuracy: 1.0000\n",
            "Epoch 65/250\n",
            "4857/4857 [==============================] - 0s 28us/step - loss: 0.0138 - binary_accuracy: 1.0000\n",
            "Epoch 66/250\n",
            "4857/4857 [==============================] - 0s 29us/step - loss: 0.0136 - binary_accuracy: 1.0000\n",
            "Epoch 67/250\n",
            "4857/4857 [==============================] - 0s 28us/step - loss: 0.0134 - binary_accuracy: 1.0000\n",
            "Epoch 68/250\n",
            "4857/4857 [==============================] - 0s 30us/step - loss: 0.0131 - binary_accuracy: 1.0000\n",
            "Epoch 69/250\n",
            "4857/4857 [==============================] - 0s 36us/step - loss: 0.0129 - binary_accuracy: 1.0000\n",
            "Epoch 70/250\n",
            "4857/4857 [==============================] - 0s 37us/step - loss: 0.0127 - binary_accuracy: 1.0000\n",
            "Epoch 71/250\n",
            "4857/4857 [==============================] - 0s 40us/step - loss: 0.0125 - binary_accuracy: 1.0000\n",
            "Epoch 72/250\n",
            "4857/4857 [==============================] - 0s 32us/step - loss: 0.0123 - binary_accuracy: 1.0000\n",
            "Epoch 73/250\n",
            "4857/4857 [==============================] - 0s 38us/step - loss: 0.0121 - binary_accuracy: 1.0000\n",
            "Epoch 74/250\n",
            "4857/4857 [==============================] - 0s 39us/step - loss: 0.0120 - binary_accuracy: 1.0000\n",
            "Epoch 75/250\n",
            "4857/4857 [==============================] - 0s 41us/step - loss: 0.0118 - binary_accuracy: 1.0000\n",
            "Epoch 76/250\n",
            "4857/4857 [==============================] - 0s 34us/step - loss: 0.0116 - binary_accuracy: 1.0000\n",
            "Epoch 77/250\n",
            "4857/4857 [==============================] - 0s 35us/step - loss: 0.0115 - binary_accuracy: 1.0000\n",
            "Epoch 78/250\n",
            "4857/4857 [==============================] - 0s 36us/step - loss: 0.0112 - binary_accuracy: 1.0000\n",
            "Epoch 79/250\n",
            "4857/4857 [==============================] - 0s 37us/step - loss: 0.0111 - binary_accuracy: 1.0000\n",
            "Epoch 80/250\n",
            "4857/4857 [==============================] - 0s 30us/step - loss: 0.0110 - binary_accuracy: 1.0000\n",
            "Epoch 81/250\n",
            "4857/4857 [==============================] - 0s 28us/step - loss: 0.0108 - binary_accuracy: 1.0000\n",
            "Epoch 82/250\n",
            "4857/4857 [==============================] - 0s 27us/step - loss: 0.0107 - binary_accuracy: 1.0000\n",
            "Epoch 83/250\n",
            "4857/4857 [==============================] - 0s 28us/step - loss: 0.0105 - binary_accuracy: 1.0000\n",
            "Epoch 84/250\n",
            "4857/4857 [==============================] - 0s 31us/step - loss: 0.0103 - binary_accuracy: 1.0000\n",
            "Epoch 85/250\n",
            "4857/4857 [==============================] - 0s 31us/step - loss: 0.0102 - binary_accuracy: 1.0000\n",
            "Epoch 86/250\n",
            "4857/4857 [==============================] - 0s 36us/step - loss: 0.0101 - binary_accuracy: 1.0000\n",
            "Epoch 87/250\n",
            "4857/4857 [==============================] - 0s 29us/step - loss: 0.0099 - binary_accuracy: 1.0000\n",
            "Epoch 88/250\n",
            "4857/4857 [==============================] - 0s 29us/step - loss: 0.0098 - binary_accuracy: 1.0000\n",
            "Epoch 89/250\n",
            "4857/4857 [==============================] - 0s 30us/step - loss: 0.0097 - binary_accuracy: 1.0000\n",
            "Epoch 90/250\n",
            "4857/4857 [==============================] - 0s 31us/step - loss: 0.0096 - binary_accuracy: 1.0000\n",
            "Epoch 91/250\n",
            "4857/4857 [==============================] - 0s 31us/step - loss: 0.0095 - binary_accuracy: 1.0000\n",
            "Epoch 92/250\n",
            "4857/4857 [==============================] - 0s 32us/step - loss: 0.0093 - binary_accuracy: 1.0000\n",
            "Epoch 93/250\n",
            "4857/4857 [==============================] - 0s 35us/step - loss: 0.0092 - binary_accuracy: 1.0000\n",
            "Epoch 94/250\n",
            "4857/4857 [==============================] - 0s 29us/step - loss: 0.0091 - binary_accuracy: 1.0000\n",
            "Epoch 95/250\n",
            "4857/4857 [==============================] - 0s 28us/step - loss: 0.0090 - binary_accuracy: 1.0000\n",
            "Epoch 96/250\n",
            "4857/4857 [==============================] - 0s 29us/step - loss: 0.0089 - binary_accuracy: 1.0000\n",
            "Epoch 97/250\n",
            "4857/4857 [==============================] - 0s 30us/step - loss: 0.0088 - binary_accuracy: 1.0000\n",
            "Epoch 98/250\n",
            "4857/4857 [==============================] - 0s 30us/step - loss: 0.0086 - binary_accuracy: 1.0000\n",
            "Epoch 99/250\n",
            "4857/4857 [==============================] - 0s 31us/step - loss: 0.0086 - binary_accuracy: 1.0000\n",
            "Epoch 100/250\n",
            "4857/4857 [==============================] - 0s 28us/step - loss: 0.0086 - binary_accuracy: 1.0000\n",
            "Epoch 101/250\n",
            "4857/4857 [==============================] - 0s 28us/step - loss: 0.0083 - binary_accuracy: 1.0000\n",
            "Epoch 102/250\n",
            "4857/4857 [==============================] - 0s 29us/step - loss: 0.0083 - binary_accuracy: 1.0000\n",
            "Epoch 103/250\n",
            "4857/4857 [==============================] - 0s 31us/step - loss: 0.0082 - binary_accuracy: 1.0000\n",
            "Epoch 104/250\n",
            "4857/4857 [==============================] - 0s 32us/step - loss: 0.0081 - binary_accuracy: 1.0000\n",
            "Epoch 105/250\n",
            "4857/4857 [==============================] - 0s 31us/step - loss: 0.0080 - binary_accuracy: 1.0000\n",
            "Epoch 106/250\n",
            "4857/4857 [==============================] - 0s 29us/step - loss: 0.0078 - binary_accuracy: 1.0000\n",
            "Epoch 107/250\n",
            "4857/4857 [==============================] - 0s 30us/step - loss: 0.0078 - binary_accuracy: 1.0000\n",
            "Epoch 108/250\n",
            "4857/4857 [==============================] - 0s 30us/step - loss: 0.0077 - binary_accuracy: 1.0000\n",
            "Epoch 109/250\n",
            "4857/4857 [==============================] - 0s 29us/step - loss: 0.0076 - binary_accuracy: 1.0000\n",
            "Epoch 110/250\n",
            "4857/4857 [==============================] - 0s 30us/step - loss: 0.0076 - binary_accuracy: 1.0000\n",
            "Epoch 111/250\n",
            "4857/4857 [==============================] - 0s 29us/step - loss: 0.0074 - binary_accuracy: 1.0000\n",
            "Epoch 112/250\n",
            "4857/4857 [==============================] - 0s 28us/step - loss: 0.0073 - binary_accuracy: 1.0000\n",
            "Epoch 113/250\n",
            "4857/4857 [==============================] - 0s 28us/step - loss: 0.0073 - binary_accuracy: 1.0000\n",
            "Epoch 114/250\n",
            "4857/4857 [==============================] - 0s 28us/step - loss: 0.0072 - binary_accuracy: 1.0000\n",
            "Epoch 115/250\n",
            "4857/4857 [==============================] - 0s 29us/step - loss: 0.0071 - binary_accuracy: 1.0000\n",
            "Epoch 116/250\n",
            "4857/4857 [==============================] - 0s 29us/step - loss: 0.0070 - binary_accuracy: 1.0000\n",
            "Epoch 117/250\n",
            "4857/4857 [==============================] - 0s 27us/step - loss: 0.0070 - binary_accuracy: 1.0000\n",
            "Epoch 118/250\n",
            "4857/4857 [==============================] - 0s 29us/step - loss: 0.0069 - binary_accuracy: 1.0000\n",
            "Epoch 119/250\n",
            "4857/4857 [==============================] - 0s 30us/step - loss: 0.0068 - binary_accuracy: 1.0000\n",
            "Epoch 120/250\n",
            "4857/4857 [==============================] - 0s 30us/step - loss: 0.0068 - binary_accuracy: 1.0000\n",
            "Epoch 121/250\n",
            "4857/4857 [==============================] - 0s 32us/step - loss: 0.0066 - binary_accuracy: 1.0000\n",
            "Epoch 122/250\n",
            "4857/4857 [==============================] - 0s 37us/step - loss: 0.0066 - binary_accuracy: 1.0000\n",
            "Epoch 123/250\n",
            "4857/4857 [==============================] - 0s 35us/step - loss: 0.0065 - binary_accuracy: 1.0000\n",
            "Epoch 124/250\n",
            "4857/4857 [==============================] - 0s 36us/step - loss: 0.0064 - binary_accuracy: 1.0000\n",
            "Epoch 125/250\n",
            "4857/4857 [==============================] - 0s 35us/step - loss: 0.0065 - binary_accuracy: 1.0000\n",
            "Epoch 126/250\n",
            "4857/4857 [==============================] - 0s 36us/step - loss: 0.0063 - binary_accuracy: 1.0000\n",
            "Epoch 127/250\n",
            "4857/4857 [==============================] - 0s 30us/step - loss: 0.0063 - binary_accuracy: 1.0000\n",
            "Epoch 128/250\n",
            "4857/4857 [==============================] - 0s 31us/step - loss: 0.0062 - binary_accuracy: 1.0000\n",
            "Epoch 129/250\n",
            "4857/4857 [==============================] - 0s 31us/step - loss: 0.0061 - binary_accuracy: 1.0000\n",
            "Epoch 130/250\n",
            "4857/4857 [==============================] - 0s 31us/step - loss: 0.0060 - binary_accuracy: 1.0000\n",
            "Epoch 131/250\n",
            "4857/4857 [==============================] - 0s 29us/step - loss: 0.0059 - binary_accuracy: 1.0000\n",
            "Epoch 132/250\n",
            "4857/4857 [==============================] - 0s 31us/step - loss: 0.0059 - binary_accuracy: 1.0000\n",
            "Epoch 133/250\n",
            "4857/4857 [==============================] - 0s 29us/step - loss: 0.0058 - binary_accuracy: 1.0000\n",
            "Epoch 134/250\n",
            "4857/4857 [==============================] - 0s 31us/step - loss: 0.0058 - binary_accuracy: 1.0000\n",
            "Epoch 135/250\n",
            "4857/4857 [==============================] - 0s 38us/step - loss: 0.0057 - binary_accuracy: 1.0000\n",
            "Epoch 136/250\n",
            "4857/4857 [==============================] - 0s 32us/step - loss: 0.0057 - binary_accuracy: 1.0000\n",
            "Epoch 137/250\n",
            "4857/4857 [==============================] - 0s 31us/step - loss: 0.0056 - binary_accuracy: 1.0000\n",
            "Epoch 138/250\n",
            "4857/4857 [==============================] - 0s 29us/step - loss: 0.0055 - binary_accuracy: 1.0000\n",
            "Epoch 139/250\n",
            "4857/4857 [==============================] - 0s 29us/step - loss: 0.0055 - binary_accuracy: 1.0000\n",
            "Epoch 140/250\n",
            "4857/4857 [==============================] - 0s 30us/step - loss: 0.0054 - binary_accuracy: 1.0000\n",
            "Epoch 141/250\n",
            "4857/4857 [==============================] - 0s 30us/step - loss: 0.0053 - binary_accuracy: 1.0000\n",
            "Epoch 142/250\n",
            "4857/4857 [==============================] - 0s 29us/step - loss: 0.0053 - binary_accuracy: 1.0000\n",
            "Epoch 143/250\n",
            "4857/4857 [==============================] - 0s 31us/step - loss: 0.0053 - binary_accuracy: 1.0000\n",
            "Epoch 144/250\n",
            "4857/4857 [==============================] - 0s 34us/step - loss: 0.0052 - binary_accuracy: 1.0000\n",
            "Epoch 145/250\n",
            "4857/4857 [==============================] - 0s 32us/step - loss: 0.0052 - binary_accuracy: 1.0000\n",
            "Epoch 146/250\n",
            "4857/4857 [==============================] - 0s 28us/step - loss: 0.0052 - binary_accuracy: 1.0000\n",
            "Epoch 147/250\n",
            "4857/4857 [==============================] - 0s 31us/step - loss: 0.0051 - binary_accuracy: 1.0000\n",
            "Epoch 148/250\n",
            "4857/4857 [==============================] - 0s 30us/step - loss: 0.0050 - binary_accuracy: 1.0000\n",
            "Epoch 149/250\n",
            "4857/4857 [==============================] - 0s 30us/step - loss: 0.0050 - binary_accuracy: 1.0000\n",
            "Epoch 150/250\n",
            "4857/4857 [==============================] - 0s 29us/step - loss: 0.0049 - binary_accuracy: 1.0000\n",
            "Epoch 151/250\n",
            "4857/4857 [==============================] - 0s 29us/step - loss: 0.0049 - binary_accuracy: 1.0000\n",
            "Epoch 152/250\n",
            "4857/4857 [==============================] - 0s 29us/step - loss: 0.0048 - binary_accuracy: 1.0000\n",
            "Epoch 153/250\n",
            "4857/4857 [==============================] - 0s 31us/step - loss: 0.0048 - binary_accuracy: 1.0000\n",
            "Epoch 154/250\n",
            "4857/4857 [==============================] - 0s 30us/step - loss: 0.0048 - binary_accuracy: 1.0000\n",
            "Epoch 155/250\n",
            "4857/4857 [==============================] - 0s 28us/step - loss: 0.0047 - binary_accuracy: 1.0000\n",
            "Epoch 156/250\n",
            "4857/4857 [==============================] - 0s 29us/step - loss: 0.0046 - binary_accuracy: 1.0000\n",
            "Epoch 157/250\n",
            "4857/4857 [==============================] - 0s 31us/step - loss: 0.0046 - binary_accuracy: 1.0000\n",
            "Epoch 158/250\n",
            "4857/4857 [==============================] - 0s 31us/step - loss: 0.0045 - binary_accuracy: 1.0000\n",
            "Epoch 159/250\n",
            "4857/4857 [==============================] - 0s 30us/step - loss: 0.0044 - binary_accuracy: 1.0000\n",
            "Epoch 160/250\n",
            "4857/4857 [==============================] - 0s 30us/step - loss: 0.0044 - binary_accuracy: 1.0000\n",
            "Epoch 161/250\n",
            "4857/4857 [==============================] - 0s 30us/step - loss: 0.0044 - binary_accuracy: 1.0000\n",
            "Epoch 162/250\n",
            "4857/4857 [==============================] - 0s 29us/step - loss: 0.0044 - binary_accuracy: 1.0000\n",
            "Epoch 163/250\n",
            "4857/4857 [==============================] - 0s 29us/step - loss: 0.0043 - binary_accuracy: 1.0000\n",
            "Epoch 164/250\n",
            "4857/4857 [==============================] - 0s 32us/step - loss: 0.0042 - binary_accuracy: 1.0000\n",
            "Epoch 165/250\n",
            "4857/4857 [==============================] - 0s 30us/step - loss: 0.0042 - binary_accuracy: 1.0000\n",
            "Epoch 166/250\n",
            "4857/4857 [==============================] - 0s 29us/step - loss: 0.0041 - binary_accuracy: 1.0000\n",
            "Epoch 167/250\n",
            "4857/4857 [==============================] - 0s 35us/step - loss: 0.0041 - binary_accuracy: 1.0000\n",
            "Epoch 168/250\n",
            "4857/4857 [==============================] - 0s 35us/step - loss: 0.0041 - binary_accuracy: 1.0000\n",
            "Epoch 169/250\n",
            "4857/4857 [==============================] - 0s 34us/step - loss: 0.0040 - binary_accuracy: 1.0000\n",
            "Epoch 170/250\n",
            "4857/4857 [==============================] - 0s 36us/step - loss: 0.0040 - binary_accuracy: 1.0000\n",
            "Epoch 171/250\n",
            "4857/4857 [==============================] - 0s 37us/step - loss: 0.0040 - binary_accuracy: 1.0000\n",
            "Epoch 172/250\n",
            "4857/4857 [==============================] - 0s 34us/step - loss: 0.0039 - binary_accuracy: 1.0000\n",
            "Epoch 173/250\n",
            "4857/4857 [==============================] - 0s 29us/step - loss: 0.0039 - binary_accuracy: 1.0000\n",
            "Epoch 174/250\n",
            "4857/4857 [==============================] - 0s 30us/step - loss: 0.0038 - binary_accuracy: 1.0000\n",
            "Epoch 175/250\n",
            "4857/4857 [==============================] - 0s 31us/step - loss: 0.0038 - binary_accuracy: 1.0000\n",
            "Epoch 176/250\n",
            "4857/4857 [==============================] - 0s 29us/step - loss: 0.0038 - binary_accuracy: 1.0000\n",
            "Epoch 177/250\n",
            "4857/4857 [==============================] - 0s 31us/step - loss: 0.0037 - binary_accuracy: 1.0000\n",
            "Epoch 178/250\n",
            "4857/4857 [==============================] - 0s 28us/step - loss: 0.0036 - binary_accuracy: 1.0000\n",
            "Epoch 179/250\n",
            "4857/4857 [==============================] - 0s 29us/step - loss: 0.0036 - binary_accuracy: 1.0000\n",
            "Epoch 180/250\n",
            "4857/4857 [==============================] - 0s 37us/step - loss: 0.0036 - binary_accuracy: 1.0000\n",
            "Epoch 181/250\n",
            "4857/4857 [==============================] - 0s 39us/step - loss: 0.0035 - binary_accuracy: 1.0000\n",
            "Epoch 182/250\n",
            "4857/4857 [==============================] - 0s 35us/step - loss: 0.0035 - binary_accuracy: 1.0000\n",
            "Epoch 183/250\n",
            "4857/4857 [==============================] - 0s 35us/step - loss: 0.0035 - binary_accuracy: 1.0000\n",
            "Epoch 184/250\n",
            "4857/4857 [==============================] - 0s 37us/step - loss: 0.0034 - binary_accuracy: 1.0000\n",
            "Epoch 185/250\n",
            "4857/4857 [==============================] - 0s 30us/step - loss: 0.0034 - binary_accuracy: 1.0000\n",
            "Epoch 186/250\n",
            "4857/4857 [==============================] - 0s 29us/step - loss: 0.0033 - binary_accuracy: 1.0000\n",
            "Epoch 187/250\n",
            "4857/4857 [==============================] - 0s 29us/step - loss: 0.0033 - binary_accuracy: 1.0000\n",
            "Epoch 188/250\n",
            "4857/4857 [==============================] - 0s 30us/step - loss: 0.0033 - binary_accuracy: 1.0000\n",
            "Epoch 189/250\n",
            "4857/4857 [==============================] - 0s 29us/step - loss: 0.0033 - binary_accuracy: 1.0000\n",
            "Epoch 190/250\n",
            "4857/4857 [==============================] - 0s 30us/step - loss: 0.0032 - binary_accuracy: 1.0000\n",
            "Epoch 191/250\n",
            "4857/4857 [==============================] - 0s 29us/step - loss: 0.0032 - binary_accuracy: 1.0000\n",
            "Epoch 192/250\n",
            "4857/4857 [==============================] - 0s 30us/step - loss: 0.0031 - binary_accuracy: 1.0000\n",
            "Epoch 193/250\n",
            "4857/4857 [==============================] - 0s 29us/step - loss: 0.0031 - binary_accuracy: 1.0000\n",
            "Epoch 194/250\n",
            "4857/4857 [==============================] - 0s 29us/step - loss: 0.0031 - binary_accuracy: 1.0000\n",
            "Epoch 195/250\n",
            "4857/4857 [==============================] - 0s 29us/step - loss: 0.0030 - binary_accuracy: 1.0000\n",
            "Epoch 196/250\n",
            "4857/4857 [==============================] - 0s 31us/step - loss: 0.0030 - binary_accuracy: 1.0000\n",
            "Epoch 197/250\n",
            "4857/4857 [==============================] - 0s 31us/step - loss: 0.0029 - binary_accuracy: 1.0000\n",
            "Epoch 198/250\n",
            "4857/4857 [==============================] - 0s 29us/step - loss: 0.0030 - binary_accuracy: 1.0000\n",
            "Epoch 199/250\n",
            "4857/4857 [==============================] - 0s 31us/step - loss: 0.0029 - binary_accuracy: 1.0000\n",
            "Epoch 200/250\n",
            "4857/4857 [==============================] - 0s 29us/step - loss: 0.0029 - binary_accuracy: 1.0000\n",
            "Epoch 201/250\n",
            "4857/4857 [==============================] - 0s 29us/step - loss: 0.0028 - binary_accuracy: 1.0000\n",
            "Epoch 202/250\n",
            "4857/4857 [==============================] - 0s 29us/step - loss: 0.0028 - binary_accuracy: 1.0000\n",
            "Epoch 203/250\n",
            "4857/4857 [==============================] - 0s 30us/step - loss: 0.0028 - binary_accuracy: 1.0000\n",
            "Epoch 204/250\n",
            "4857/4857 [==============================] - 0s 29us/step - loss: 0.0027 - binary_accuracy: 1.0000\n",
            "Epoch 205/250\n",
            "4857/4857 [==============================] - 0s 29us/step - loss: 0.0027 - binary_accuracy: 1.0000\n",
            "Epoch 206/250\n",
            "4857/4857 [==============================] - 0s 30us/step - loss: 0.0027 - binary_accuracy: 1.0000\n",
            "Epoch 207/250\n",
            "4857/4857 [==============================] - 0s 32us/step - loss: 0.0026 - binary_accuracy: 1.0000\n",
            "Epoch 208/250\n",
            "4857/4857 [==============================] - 0s 31us/step - loss: 0.0026 - binary_accuracy: 1.0000\n",
            "Epoch 209/250\n",
            "4857/4857 [==============================] - 0s 30us/step - loss: 0.0025 - binary_accuracy: 1.0000\n",
            "Epoch 210/250\n",
            "4857/4857 [==============================] - 0s 31us/step - loss: 0.0025 - binary_accuracy: 1.0000\n",
            "Epoch 211/250\n",
            "4857/4857 [==============================] - 0s 30us/step - loss: 0.0025 - binary_accuracy: 1.0000\n",
            "Epoch 212/250\n",
            "4857/4857 [==============================] - 0s 34us/step - loss: 0.0025 - binary_accuracy: 1.0000\n",
            "Epoch 213/250\n",
            "4857/4857 [==============================] - 0s 31us/step - loss: 0.0025 - binary_accuracy: 1.0000\n",
            "Epoch 214/250\n",
            "4857/4857 [==============================] - 0s 29us/step - loss: 0.0025 - binary_accuracy: 1.0000\n",
            "Epoch 215/250\n",
            "4857/4857 [==============================] - 0s 29us/step - loss: 0.0024 - binary_accuracy: 1.0000\n",
            "Epoch 216/250\n",
            "4857/4857 [==============================] - 0s 29us/step - loss: 0.0024 - binary_accuracy: 1.0000\n",
            "Epoch 217/250\n",
            "4857/4857 [==============================] - 0s 31us/step - loss: 0.0023 - binary_accuracy: 1.0000\n",
            "Epoch 218/250\n",
            "4857/4857 [==============================] - 0s 29us/step - loss: 0.0023 - binary_accuracy: 1.0000\n",
            "Epoch 219/250\n",
            "4857/4857 [==============================] - 0s 35us/step - loss: 0.0023 - binary_accuracy: 1.0000\n",
            "Epoch 220/250\n",
            "4857/4857 [==============================] - 0s 37us/step - loss: 0.0023 - binary_accuracy: 1.0000\n",
            "Epoch 221/250\n",
            "4857/4857 [==============================] - 0s 37us/step - loss: 0.0022 - binary_accuracy: 1.0000\n",
            "Epoch 222/250\n",
            "4857/4857 [==============================] - 0s 36us/step - loss: 0.0022 - binary_accuracy: 1.0000\n",
            "Epoch 223/250\n",
            "4857/4857 [==============================] - 0s 34us/step - loss: 0.0022 - binary_accuracy: 1.0000\n",
            "Epoch 224/250\n",
            "4857/4857 [==============================] - 0s 36us/step - loss: 0.0021 - binary_accuracy: 1.0000\n",
            "Epoch 225/250\n",
            "4857/4857 [==============================] - 0s 35us/step - loss: 0.0021 - binary_accuracy: 1.0000\n",
            "Epoch 226/250\n",
            "4857/4857 [==============================] - 0s 36us/step - loss: 0.0021 - binary_accuracy: 1.0000\n",
            "Epoch 227/250\n",
            "4857/4857 [==============================] - 0s 36us/step - loss: 0.0021 - binary_accuracy: 1.0000\n",
            "Epoch 228/250\n",
            "4857/4857 [==============================] - 0s 37us/step - loss: 0.0021 - binary_accuracy: 1.0000\n",
            "Epoch 229/250\n",
            "4857/4857 [==============================] - 0s 37us/step - loss: 0.0021 - binary_accuracy: 1.0000\n",
            "Epoch 230/250\n",
            "4857/4857 [==============================] - 0s 36us/step - loss: 0.0020 - binary_accuracy: 1.0000\n",
            "Epoch 231/250\n",
            "4857/4857 [==============================] - 0s 29us/step - loss: 0.0020 - binary_accuracy: 1.0000\n",
            "Epoch 232/250\n",
            "4857/4857 [==============================] - 0s 30us/step - loss: 0.0019 - binary_accuracy: 1.0000\n",
            "Epoch 233/250\n",
            "4857/4857 [==============================] - 0s 32us/step - loss: 0.0019 - binary_accuracy: 1.0000\n",
            "Epoch 234/250\n",
            "4857/4857 [==============================] - 0s 30us/step - loss: 0.0019 - binary_accuracy: 1.0000\n",
            "Epoch 235/250\n",
            "4857/4857 [==============================] - 0s 30us/step - loss: 0.0019 - binary_accuracy: 1.0000\n",
            "Epoch 236/250\n",
            "4857/4857 [==============================] - 0s 30us/step - loss: 0.0019 - binary_accuracy: 1.0000\n",
            "Epoch 237/250\n",
            "4857/4857 [==============================] - 0s 31us/step - loss: 0.0018 - binary_accuracy: 1.0000\n",
            "Epoch 238/250\n",
            "4857/4857 [==============================] - 0s 29us/step - loss: 0.0018 - binary_accuracy: 1.0000\n",
            "Epoch 239/250\n",
            "4857/4857 [==============================] - 0s 29us/step - loss: 0.0018 - binary_accuracy: 1.0000\n",
            "Epoch 240/250\n",
            "4857/4857 [==============================] - 0s 28us/step - loss: 0.0017 - binary_accuracy: 1.0000\n",
            "Epoch 241/250\n",
            "4857/4857 [==============================] - 0s 28us/step - loss: 0.0018 - binary_accuracy: 1.0000\n",
            "Epoch 242/250\n",
            "4857/4857 [==============================] - 0s 29us/step - loss: 0.0017 - binary_accuracy: 1.0000\n",
            "Epoch 243/250\n",
            "4857/4857 [==============================] - 0s 30us/step - loss: 0.0017 - binary_accuracy: 1.0000\n",
            "Epoch 244/250\n",
            "4857/4857 [==============================] - 0s 33us/step - loss: 0.0017 - binary_accuracy: 1.0000\n",
            "Epoch 245/250\n",
            "4857/4857 [==============================] - 0s 31us/step - loss: 0.0016 - binary_accuracy: 1.0000\n",
            "Epoch 246/250\n",
            "4857/4857 [==============================] - 0s 33us/step - loss: 0.0017 - binary_accuracy: 1.0000\n",
            "Epoch 247/250\n",
            "4857/4857 [==============================] - 0s 29us/step - loss: 0.0016 - binary_accuracy: 1.0000\n",
            "Epoch 248/250\n",
            "4857/4857 [==============================] - 0s 31us/step - loss: 0.0016 - binary_accuracy: 1.0000\n",
            "Epoch 249/250\n",
            "4857/4857 [==============================] - 0s 33us/step - loss: 0.0016 - binary_accuracy: 1.0000\n",
            "Epoch 250/250\n",
            "4857/4857 [==============================] - 0s 30us/step - loss: 0.0015 - binary_accuracy: 1.0000\n"
          ],
          "name": "stdout"
        }
      ]
    },
    {
      "cell_type": "code",
      "metadata": {
        "id": "a9s5gv5xxxYS",
        "colab_type": "code",
        "colab": {
          "base_uri": "https://localhost:8080/",
          "height": 313
        },
        "outputId": "590760c4-f29d-41dc-bf86-e8627533b9dc"
      },
      "source": [
        "import matplotlib.pyplot as plt\n",
        "\n",
        "# list all data in history\n",
        "print(history.history.keys())\n",
        "# summarize history for accuracy\n",
        "\n",
        "# summarize history for loss\n",
        "plt.plot(history.history['loss'])\n",
        "plt.plot(history.history['binary_accuracy'])\n",
        "plt.title('model loss')\n",
        "plt.ylabel('loss')\n",
        "plt.xlabel('epoch')\n",
        "plt.legend(['train', 'test'], loc='upper left')\n",
        "plt.show()"
      ],
      "execution_count": 14,
      "outputs": [
        {
          "output_type": "stream",
          "text": [
            "dict_keys(['loss', 'binary_accuracy'])\n"
          ],
          "name": "stdout"
        },
        {
          "output_type": "display_data",
          "data": {
            "image/png": "[encoded data removed]",
            "text/plain": [
              "<Figure size 432x288 with 1 Axes>"
            ]
          },
          "metadata": {
            "tags": []
          }
        }
      ]
    },
    {
      "cell_type": "markdown",
      "metadata": {
        "id": "VPdNvRkfhMb1",
        "colab_type": "text"
      },
      "source": [
        "Este es un ejemplo sencillo, pero recuerda que en modelos más grandes y complejos, necesitarán más iteraciones y a la vez será más lento el entrenamiento."
      ]
    },
    {
      "cell_type": "markdown",
      "metadata": {
        "id": "B0FwHqRchYD7",
        "colab_type": "text"
      },
      "source": [
        "Como los pesos iniciales de la red son aleatorios, puede que las salidas que tengas en tu ordenador sean levemente distintas en cuanto a las iteraciones, pero llegarás a la «precisión binaria» (binara_accuracy) de 1.0."
      ]
    },
    {
      "cell_type": "markdown",
      "metadata": {
        "id": "Bfeer-uAhbUP",
        "colab_type": "text"
      },
      "source": [
        "### Evaluamos y Predecimos"
      ]
    },
    {
      "cell_type": "markdown",
      "metadata": {
        "id": "-PiALlGnhhSI",
        "colab_type": "text"
      },
      "source": [
        "Primero evaluamos el modelo"
      ]
    },
    {
      "cell_type": "code",
      "metadata": {
        "id": "R1aGDDq6bLWJ",
        "colab_type": "code",
        "colab": {
          "base_uri": "https://localhost:8080/",
          "height": 34
        },
        "outputId": "3fb863e7-e23b-450f-9d8e-dbd8b4a6c456"
      },
      "source": [
        "scores = model.evaluate(training_data, target_data)"
      ],
      "execution_count": 15,
      "outputs": [
        {
          "output_type": "stream",
          "text": [
            "4857/4857 [==============================] - 0s 25us/step\n"
          ],
          "name": "stdout"
        }
      ]
    },
    {
      "cell_type": "code",
      "metadata": {
        "id": "1wY6E-_tbQmu",
        "colab_type": "code",
        "colab": {
          "base_uri": "https://localhost:8080/",
          "height": 52
        },
        "outputId": "97c49c52-e788-4f2e-9a3c-8a84e0e9d76e"
      },
      "source": [
        "print(\"\\n%s: %.2f%%\" % (model.metrics_names[1], scores[1]*100))"
      ],
      "execution_count": 16,
      "outputs": [
        {
          "output_type": "stream",
          "text": [
            "\n",
            "binary_accuracy: 100.00%\n"
          ],
          "name": "stdout"
        }
      ]
    },
    {
      "cell_type": "code",
      "metadata": {
        "id": "sJT0buCxbyRg",
        "colab_type": "code",
        "colab": {
          "base_uri": "https://localhost:8080/",
          "height": 70
        },
        "outputId": "6b7c0c83-c0d2-4f29-a077-675de8b88324"
      },
      "source": [
        "def usarRedNeuronalPredecirSalidas(entrada):\n",
        "  training_data = np.array([entrada], \"float32\")\n",
        "  prediccion = model.predict(training_data).round()[0]\n",
        "\n",
        "  salida1 = int(prediccion[0])\n",
        "  salida2 = int(prediccion[1])\n",
        "  return salida1, salida2\n",
        "\n",
        "\n",
        "entrada = temperaturaAleatoria()\n",
        "salida1, salida2 = usarRedNeuronalPredecirSalidas(entrada)\n",
        "print(\"Temperatura: \", entrada)\n",
        "print(actuador[1] + \": \" + estadosActuadores[salida1])\n",
        "print(actuador[2] + \": \" + estadosActuadores[salida2])"
      ],
      "execution_count": 17,
      "outputs": [
        {
          "output_type": "stream",
          "text": [
            "Temperatura:  33\n",
            "Ventilador: ON\n",
            "Lampara calor: OFF\n"
          ],
          "name": "stdout"
        }
      ]
    },
    {
      "cell_type": "code",
      "metadata": {
        "id": "xPATphbaeFfw",
        "colab_type": "code",
        "colab": {
          "base_uri": "https://localhost:8080/",
          "height": 341
        },
        "outputId": "85b7c915-de5b-48af-df37-48281f695929"
      },
      "source": [
        "cantidadDatosEvaludar = 30\n",
        "\n",
        "historialTemperatura = []\n",
        "historialVentilador = []\n",
        "historialCalefactor = []\n",
        "puntoEquilibrio = []\n",
        "for i in range(cantidadDatosEvaludar):\n",
        "  entrada = temperaturaAleatoria()\n",
        "  salida1, salida2 = usarRedNeuronalPredecirSalidas(entrada)\n",
        "  historialTemperatura.append(entrada)\n",
        "  historialVentilador.append(salida1*100)\n",
        "  historialCalefactor.append(salida2*100)  \n",
        "  puntoEquilibrio.append(setPoint)\n",
        "    \n",
        "    \n",
        "    \n",
        "    \n",
        "    \n",
        "    \n",
        "    \n",
        "    \n",
        "import matplotlib.pyplot as plt\n",
        "import numpy as np\n",
        "import pandas as pd\n",
        " \n",
        "# Data\n",
        "df=pd.DataFrame({\n",
        "    't': range(0,len(historialTemperatura)), \n",
        "    sensores[1]: historialTemperatura, \n",
        "    actuador[1]: historialVentilador, \n",
        "    actuador[2]: historialCalefactor , \n",
        "    \"SetPoint\": puntoEquilibrio \n",
        "})\n",
        " \n",
        "# multiple line plot\n",
        "plt.rcParams[\"figure.figsize\"] = (20,5)\n",
        "plt.plot( 't', sensores[1], data=df, marker='o', markerfacecolor='r', markersize=12, color='r', linewidth=4)\n",
        "plt.plot( 't', actuador[1], data=df, marker='v', color='b', linewidth=2)\n",
        "plt.plot( 't', \"SetPoint\", data=df, marker='', color='g', linewidth=2)\n",
        "plt.plot( 't', actuador[2], data=df, marker='^', color='y', linewidth=2, linestyle='dashed')\n",
        "plt.legend()\n"
      ],
      "execution_count": 18,
      "outputs": [
        {
          "output_type": "execute_result",
          "data": {
            "text/plain": [
              "<matplotlib.legend.Legend at 0x7fd0e7332da0>"
            ]
          },
          "metadata": {
            "tags": []
          },
          "execution_count": 18
        },
        {
          "output_type": "display_data",
          "data": {
            "image/png": "[encoded data removed]",
            "text/plain": [
              "<Figure size 1440x360 with 1 Axes>"
            ]
          },
          "metadata": {
            "tags": []
          }
        }
      ]
    },
    {
      "cell_type": "markdown",
      "metadata": {
        "id": "sqVWYtyuh_V6",
        "colab_type": "text"
      },
      "source": [
        "# Afinando parámetros de la red neuronal"
      ]
    },
    {
      "cell_type": "markdown",
      "metadata": {
        "id": "cbFWexHDiIHE",
        "colab_type": "text"
      },
      "source": [
        "Cantidad de capas de la red (en nuestro caso son 3)\n",
        "\n",
        "Cantidad de neuronas en cada red (nosotros tenemos 1 de entrada, 2 en capa oculta y 2 de salida)\n",
        "\n",
        "Funciones de activación de cada capa. Nosotros utilizamos relu y sigmoid\n",
        "\n",
        "Al compilar el modelo definir las funciones de pérdida, optimizer y métricas.\n",
        "\n",
        "Cantidad de iteraciones de entrenamiento."
      ]
    },
    {
      "cell_type": "code",
      "metadata": {
        "id": "5fIQTuEdiAt9",
        "colab_type": "code",
        "colab": {}
      },
      "source": [
        "#model = Sequential()\n",
        "#model.add(Conv2D(2, (3, 3), activation='relu'))\n",
        "#model.add(MaxPooling2D(pool_size=(2, 2)))\n",
        "#model.add(Flatten())"
      ],
      "execution_count": 0,
      "outputs": []
    },
    {
      "cell_type": "markdown",
      "metadata": {
        "id": "LDF-XkEXiW2P",
        "colab_type": "text"
      },
      "source": [
        "En este ejemplo que es muy sencillo, puedes intentar variar por ejemplo la cantidad de neuronas de entrada, probar con 8 o con 32 y ver qué resultados obtienes. Por ejemplo, si necesita más o menos iteraciones para alcanzar el 100% de aciertos. "
      ]
    },
    {
      "cell_type": "markdown",
      "metadata": {
        "id": "3ZVWK_y_idTK",
        "colab_type": "text"
      },
      "source": [
        "# Guardar la red y usarla -de verdad-"
      ]
    },
    {
      "cell_type": "markdown",
      "metadata": {
        "id": "OHLNdQAkij2v",
        "colab_type": "text"
      },
      "source": [
        "Si esto fuera un caso real, en el cual entrenamos una red, la ajustamos y obtenemos buenos resultados, ahora deberíamos Guardar esa red ya que esa red óptima, tiene los pesos que estábamos buscando. Sería tonto y lento entrenar cada vez la red antes de «publicar en producción»."
      ]
    },
    {
      "cell_type": "markdown",
      "metadata": {
        "id": "A98K8AhNin_r",
        "colab_type": "text"
      },
      "source": [
        "Lo que hacemos es guardar esa red y en OTRO código cargaríamos la red y la utilizamos como si fuera una librería o una funcion que creamos. Pasándole entradas y obteniendo las predicciones."
      ]
    },
    {
      "cell_type": "markdown",
      "metadata": {
        "id": "t261Sjozir9G",
        "colab_type": "text"
      },
      "source": [
        "Para guardar y cargar nuestra red, utilizaremos el siguiente código de ejemplo:"
      ]
    },
    {
      "cell_type": "code",
      "metadata": {
        "id": "t1chvayfkHyc",
        "colab_type": "code",
        "colab": {}
      },
      "source": [
        "nombreModeloGuardado = \"model.json\"\n",
        "nombrePesosGuardados = \"model.h5\""
      ],
      "execution_count": 0,
      "outputs": []
    },
    {
      "cell_type": "code",
      "metadata": {
        "id": "JPduVpd1iefb",
        "colab_type": "code",
        "colab": {
          "base_uri": "https://localhost:8080/",
          "height": 52
        },
        "outputId": "d47a4d62-13b8-4f80-c107-e31123e75a1c"
      },
      "source": [
        "# serializar el modelo a JSON\n",
        "model_json = model.to_json()\n",
        "with open(nombreModeloGuardado, \"w\") as json_file:\n",
        "    json_file.write(model_json)\n",
        "    print(\"Modelo guardado!\")\n",
        "# serializar los pesos a HDF5\n",
        "model.save_weights(nombrePesosGuardados)\n",
        "print(\"Pesos Guardados!\")"
      ],
      "execution_count": 21,
      "outputs": [
        {
          "output_type": "stream",
          "text": [
            "Modelo guardado!\n",
            "Pesos Guardados!\n"
          ],
          "name": "stdout"
        }
      ]
    },
    {
      "cell_type": "markdown",
      "metadata": {
        "id": "AvTWSP1Ei62U",
        "colab_type": "text"
      },
      "source": [
        "Para cargarla:"
      ]
    },
    {
      "cell_type": "code",
      "metadata": {
        "id": "qsk6dXkhi9U1",
        "colab_type": "code",
        "colab": {
          "base_uri": "https://localhost:8080/",
          "height": 52
        },
        "outputId": "7842bf6b-cdf1-4e52-b9f7-b08023a77c82"
      },
      "source": [
        "from keras.models import model_from_json\n",
        "\n",
        "# cargar json y crear el modelo\n",
        "json_file = open(nombreModeloGuardado, 'r')\n",
        "loaded_model_json = json_file.read()\n",
        "json_file.close()\n",
        "loaded_model = model_from_json(loaded_model_json)\n",
        "print(\"Modelo Cargado!\")\n",
        "\n",
        "\n",
        "# cargar pesos al nuevo modelo\n",
        "loaded_model.load_weights(nombrePesosGuardados)\n",
        "print(\"Pesos Cargados!\")\n",
        " \n",
        "# Compilar modelo cargado y listo para usar.\n",
        "loaded_model.compile(loss='mean_squared_error', optimizer='adam', metrics=['binary_accuracy'])\n"
      ],
      "execution_count": 22,
      "outputs": [
        {
          "output_type": "stream",
          "text": [
            "Modelo Cargado!\n",
            "Pesos Cargados!\n"
          ],
          "name": "stdout"
        }
      ]
    },
    {
      "cell_type": "markdown",
      "metadata": {
        "id": "ytLKciNDk74_",
        "colab_type": "text"
      },
      "source": [
        "Luego de esto, ya usaríamos normalmente loaded_model.predict() y listo!"
      ]
    },
    {
      "cell_type": "code",
      "metadata": {
        "id": "vf3RN085jiSF",
        "colab_type": "code",
        "colab": {
          "base_uri": "https://localhost:8080/",
          "height": 70
        },
        "outputId": "91133da5-6f32-4503-e355-2e0740039c56"
      },
      "source": [
        "def usarRedaNeuronalCargadParaPredecirSalidas(entrada):\n",
        "  training_data = np.array([entrada], \"float32\")\n",
        "  prediccion = loaded_model.predict(training_data).round()[0]\n",
        "\n",
        "  salida1 = int(prediccion[0])\n",
        "  salida2 = int(prediccion[1])\n",
        "  return salida1, salida2\n",
        "\n",
        "\n",
        "entrada = temperaturaAleatoria()\n",
        "salida1, salida2 = usarRedaNeuronalCargadParaPredecirSalidas(entrada)\n",
        "print(\"Temperatura: \", entrada)\n",
        "print(actuador[1] + \": \" + estadosActuadores[salida1])\n",
        "print(actuador[2] + \": \" + estadosActuadores[salida2])"
      ],
      "execution_count": 23,
      "outputs": [
        {
          "output_type": "stream",
          "text": [
            "Temperatura:  14\n",
            "Ventilador: OFF\n",
            "Lampara calor: ON\n"
          ],
          "name": "stdout"
        }
      ]
    },
    {
      "cell_type": "code",
      "metadata": {
        "id": "ws47TT7L0MdY",
        "colab_type": "code",
        "colab": {
          "base_uri": "https://localhost:8080/",
          "height": 341
        },
        "outputId": "a09a66f6-78fd-453d-9c58-bdbb6c54d003"
      },
      "source": [
        "cantidadDatosEvaludar = 30\n",
        "\n",
        "historialTemperatura = []\n",
        "historialVentilador = []\n",
        "historialCalefactor = []\n",
        "puntoEquilibrio = []\n",
        "for i in range(cantidadDatosEvaludar):\n",
        "  entrada = temperaturaAleatoria()\n",
        "  salida1, salida2 = usarRedaNeuronalCargadParaPredecirSalidas(entrada)\n",
        "  historialTemperatura.append(entrada)\n",
        "  historialVentilador.append(salida1*100)\n",
        "  historialCalefactor.append(salida2*100)  \n",
        "  puntoEquilibrio.append(setPoint)\n",
        "    \n",
        "    \n",
        "    \n",
        "    \n",
        "    \n",
        "    \n",
        "    \n",
        "    \n",
        "import matplotlib.pyplot as plt\n",
        "import numpy as np\n",
        "import pandas as pd\n",
        " \n",
        "# Data\n",
        "df=pd.DataFrame({\n",
        "    't': range(0,len(historialTemperatura)), \n",
        "    sensores[1]: historialTemperatura, \n",
        "    actuador[1]: historialVentilador, \n",
        "    actuador[2]: historialCalefactor , \n",
        "    \"SetPoint\": puntoEquilibrio \n",
        "})\n",
        " \n",
        "# multiple line plot\n",
        "plt.rcParams[\"figure.figsize\"] = (20,5)\n",
        "plt.plot( 't', sensores[1], data=df, marker='o', markerfacecolor='r', markersize=12, color='r', linewidth=4)\n",
        "plt.plot( 't', actuador[1], data=df, marker='v', color='b', linewidth=2)\n",
        "plt.plot( 't', \"SetPoint\", data=df, marker='', color='g', linewidth=2)\n",
        "plt.plot( 't', actuador[2], data=df, marker='^', color='y', linewidth=2, linestyle='dashed')\n",
        "plt.legend()\n"
      ],
      "execution_count": 24,
      "outputs": [
        {
          "output_type": "execute_result",
          "data": {
            "text/plain": [
              "<matplotlib.legend.Legend at 0x7fd0ef64e0b8>"
            ]
          },
          "metadata": {
            "tags": []
          },
          "execution_count": 24
        },
        {
          "output_type": "display_data",
          "data": {
            "image/png": "[encoded data removed]",
            "text/plain": [
              "<Figure size 1440x360 with 1 Axes>"
            ]
          },
          "metadata": {
            "tags": []
          }
        }
      ]
    },
    {
      "cell_type": "markdown",
      "metadata": {
        "id": "5oWGQy2_m2f-",
        "colab_type": "text"
      },
      "source": [
        "# ¿Vale la pena una red neuronal? ¿porqué no programar con if-else?"
      ]
    },
    {
      "cell_type": "markdown",
      "metadata": {
        "id": "j8jqIJEBnLcH",
        "colab_type": "text"
      },
      "source": [
        "Luego de visto todo esto, ¿no conviene hacer una programación «tradicional» en vez de entrenar una red neuronal? Pues siempre dependerá del caso."
      ]
    },
    {
      "cell_type": "markdown",
      "metadata": {
        "id": "YTsBwZ_UnTyc",
        "colab_type": "text"
      },
      "source": [
        "No quiere decir que haya que reemplazar todo el código del mundo con redes neuronales, pero sí pensar en que casos las redes neuronales nos brindan una flexibilidad y un poder de predicción increíbles -y que se justifican el tiempo de desarrollo-."
      ]
    },
    {
      "cell_type": "markdown",
      "metadata": {
        "id": "uIKGNcpqnatk",
        "colab_type": "text"
      },
      "source": [
        "Hemos utilizado la librería Keras -y a través de ella, Tensorflow como backend- y creamos el modelo, entrenamos los datos y obtuvimos un buen resultado. Este es el puntapié inicial para seguir viendo diversas arquitecturas de Redes Neuronales e ir aprendiendo poco a poco con Python."
      ]
    }
  ]
}
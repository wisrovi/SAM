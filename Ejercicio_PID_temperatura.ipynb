{
  "nbformat": 4,
  "nbformat_minor": 0,
  "metadata": {
    "colab": {
      "name": "Nuevo editor de código de Colab",
      "provenance": [],
      "collapsed_sections": [],
      "include_colab_link": true
    },
    "kernelspec": {
      "display_name": "Python 3",
      "name": "python3"
    }
  },
  "cells": [
    {
      "cell_type": "markdown",
      "metadata": {
        "id": "view-in-github",
        "colab_type": "text"
      },
      "source": [
        "<a href=\"https://colab.research.google.com/github/wisrovi/SAM/blob/master/Ejercicio_PID_temperatura.ipynb\" target=\"_parent\"><img src=\"https://colab.research.google.com/assets/colab-badge.svg\" alt=\"Open In Colab\"/></a>"
      ]
    },
    {
      "cell_type": "markdown",
      "metadata": {
        "id": "faS7SgkQS74P",
        "colab_type": "text"
      },
      "source": [
        "# Invernadero"
      ]
    },
    {
      "cell_type": "markdown",
      "metadata": {
        "id": "PT6tFqQPUJno",
        "colab_type": "text"
      },
      "source": [
        "<img src=\"https://hydroenv.com.mx/catalogo/images/00_Diana/tipos_invernaderos/ventilacion_en_invernaderos.jpg\">"
      ]
    },
    {
      "cell_type": "code",
      "metadata": {
        "id": "zWQeX8sqTN9q",
        "colab_type": "code",
        "colab": {}
      },
      "source": [
        "setPoint = 20\n",
        "\n",
        "actuador = {\n",
        "    1 : \"Ventilador\",\n",
        "    2 : \"Lampara calor\"\n",
        "}\n",
        "\n",
        "estadosActuadores = {\n",
        "    1 : \"ON\",\n",
        "    0 : \"OFF\"\n",
        "}\n",
        "\n",
        "sensores = {\n",
        "    1 : \"Temperatura\"\n",
        "}"
      ],
      "execution_count": 0,
      "outputs": []
    },
    {
      "cell_type": "markdown",
      "metadata": {
        "id": "h0k-3WCvVQ6e",
        "colab_type": "text"
      },
      "source": [
        "### Vamos a crear el dataseet"
      ]
    },
    {
      "cell_type": "code",
      "metadata": {
        "id": "jouChgoAVU3r",
        "colab_type": "code",
        "colab": {}
      },
      "source": [
        "import random\n",
        "\n",
        "def FuncionRespuesta(entrada):\n",
        "  salida1 = 0    #Ventilador\n",
        "  salida2 = 0    #calentador\n",
        "  if entrada > setPoint:\n",
        "    salida1 = 1\n",
        "    salida2 = 0\n",
        "  elif entrada < setPoint:\n",
        "    salida1 = 0\n",
        "    salida2 = 1\n",
        "  else:\n",
        "    salida1 = 0\n",
        "    salida2 = 0\n",
        "  return salida1, salida2"
      ],
      "execution_count": 0,
      "outputs": []
    },
    {
      "cell_type": "code",
      "metadata": {
        "id": "qwfbrEFNmLaC",
        "colab_type": "code",
        "colab": {}
      },
      "source": [
        "def temperaturaAleatoria():\n",
        "  return random.randint(5,45)"
      ],
      "execution_count": 0,
      "outputs": []
    },
    {
      "cell_type": "code",
      "metadata": {
        "id": "gvddRM3KVU8u",
        "colab_type": "code",
        "colab": {
          "base_uri": "https://localhost:8080/",
          "height": 70
        },
        "outputId": "69c9ee66-385c-416e-f010-80d98822acd7"
      },
      "source": [
        "temperatura = temperaturaAleatoria()\n",
        "salida1, salida2 = FuncionRespuesta(temperatura)  \n",
        "print(sensores[1] +\": \", temperatura)\n",
        "print(actuador[1] + \": \" + estadosActuadores[salida1])\n",
        "print(actuador[2] + \": \" + estadosActuadores[salida2])"
      ],
      "execution_count": 4,
      "outputs": [
        {
          "output_type": "stream",
          "text": [
            "Temperatura:  18\n",
            "Ventilador: OFF\n",
            "Lampara calor: ON\n"
          ],
          "name": "stdout"
        }
      ]
    },
    {
      "cell_type": "code",
      "metadata": {
        "id": "jCzDqk4-VVAq",
        "colab_type": "code",
        "colab": {}
      },
      "source": [
        "def GenerarDatos(cantidad):\n",
        "  training_data = []\n",
        "  target_data = []\n",
        "  valorPasado = 0\n",
        "  for i in range(cantidad):\n",
        "    temperatura = temperaturaAleatoria()\n",
        "    if valorPasado != temperatura:\n",
        "      valorPasado = temperatura\n",
        "      training_data.append([temperatura])\n",
        "      salida1, salida2 = FuncionRespuesta(temperatura) \n",
        "      target_data.append([salida1, salida2])\n",
        "    else:\n",
        "      i -= 1\n",
        "  return training_data, target_data\n"
      ],
      "execution_count": 0,
      "outputs": []
    },
    {
      "cell_type": "code",
      "metadata": {
        "id": "84SJYfh7VVC_",
        "colab_type": "code",
        "colab": {}
      },
      "source": [
        "training, target = GenerarDatos(10000)\n",
        "for i in range(len(training)):\n",
        "  #print(training[i], target[i])\n",
        "  pass"
      ],
      "execution_count": 0,
      "outputs": []
    },
    {
      "cell_type": "markdown",
      "metadata": {
        "id": "7lRAx7KghnrK",
        "colab_type": "text"
      },
      "source": [
        "# Convertimos los datos a arrays de numpy"
      ]
    },
    {
      "cell_type": "code",
      "metadata": {
        "id": "zns74EBRhw3e",
        "colab_type": "code",
        "colab": {}
      },
      "source": [
        "import numpy as np #Utilizaremos numpy para el manejo de arrays.\n",
        "\n",
        "#Creamos los arrays de entrada y salida.\n",
        "training_data = np.array(training, \"float32\")\n",
        "target_data = np.array(target, \"float32\")"
      ],
      "execution_count": 0,
      "outputs": []
    },
    {
      "cell_type": "markdown",
      "metadata": {
        "id": "6EgvQYD0eq4I",
        "colab_type": "text"
      },
      "source": [
        "# Importamos las clases que utilizaremos:"
      ]
    },
    {
      "cell_type": "code",
      "metadata": {
        "id": "7M_aO9inU9ta",
        "colab_type": "code",
        "colab": {
          "base_uri": "https://localhost:8080/",
          "height": 34
        },
        "outputId": "203784c3-d011-42b0-add7-2425c55c58d2"
      },
      "source": [
        "from keras.models import Sequential #De Keras importamos el tipo de modelo Sequential\n",
        "from keras.layers.core import Dense # y el tipo de capa Dense que es la «normal»."
      ],
      "execution_count": 9,
      "outputs": [
        {
          "output_type": "stream",
          "text": [
            "Using TensorFlow backend.\n"
          ],
          "name": "stderr"
        }
      ]
    },
    {
      "cell_type": "markdown",
      "metadata": {
        "id": "bA4WA-vzfBmm",
        "colab_type": "text"
      },
      "source": [
        "# Ahora crearemos la arquitectura de nuestra red neuronal:"
      ]
    },
    {
      "cell_type": "code",
      "metadata": {
        "id": "FcA6Yoo2f0mL",
        "colab_type": "code",
        "colab": {}
      },
      "source": [
        "funcionesActivacion = {\n",
        "    \"relu\" : \"relu\",\n",
        "    \"simoide\" : 'sigmoid'\n",
        "}"
      ],
      "execution_count": 0,
      "outputs": []
    },
    {
      "cell_type": "code",
      "metadata": {
        "id": "TliwwkLlasoh",
        "colab_type": "code",
        "colab": {
          "base_uri": "https://localhost:8080/",
          "height": 354
        },
        "outputId": "a1a650ae-539d-492f-8935-772fe6074119"
      },
      "source": [
        "numeroEntradas = 1\n",
        "NumeroNeuronasEntrada = numeroEntradas\n",
        "NumeroNeuronasPrimeraCapaOculta = 2\n",
        "\n",
        "numeroSalidas = 2\n",
        "NumeroNeuronasSalida = numeroSalidas\n",
        "\n",
        "model = Sequential()\n",
        "model.add(Dense(NumeroNeuronasPrimeraCapaOculta, input_dim=NumeroNeuronasEntrada, activation=funcionesActivacion['relu'])) #La mas probada por dar buenos resultados es la relu\n",
        "model.add(Dense(NumeroNeuronasSalida, activation=funcionesActivacion['simoide'])) #Añadimos dos capas tipo dense, una para cada salida\n",
        "\n",
        "model.summary()"
      ],
      "execution_count": 11,
      "outputs": [
        {
          "output_type": "stream",
          "text": [
            "WARNING:tensorflow:From /usr/local/lib/python3.6/dist-packages/keras/backend/tensorflow_backend.py:66: The name tf.get_default_graph is deprecated. Please use tf.compat.v1.get_default_graph instead.\n",
            "\n",
            "WARNING:tensorflow:From /usr/local/lib/python3.6/dist-packages/keras/backend/tensorflow_backend.py:541: The name tf.placeholder is deprecated. Please use tf.compat.v1.placeholder instead.\n",
            "\n",
            "WARNING:tensorflow:From /usr/local/lib/python3.6/dist-packages/keras/backend/tensorflow_backend.py:4432: The name tf.random_uniform is deprecated. Please use tf.random.uniform instead.\n",
            "\n",
            "Model: \"sequential_1\"\n",
            "_________________________________________________________________\n",
            "Layer (type)                 Output Shape              Param #   \n",
            "=================================================================\n",
            "dense_1 (Dense)              (None, 2)                 4         \n",
            "_________________________________________________________________\n",
            "dense_2 (Dense)              (None, 2)                 6         \n",
            "=================================================================\n",
            "Total params: 10\n",
            "Trainable params: 10\n",
            "Non-trainable params: 0\n",
            "_________________________________________________________________\n"
          ],
          "name": "stdout"
        }
      ]
    },
    {
      "cell_type": "markdown",
      "metadata": {
        "id": "dJdumwX1fRg1",
        "colab_type": "text"
      },
      "source": [
        "Primero creamos un modelo vació de tipo Sequential. Este modelo se refiere a que crearemos una serie de capas de neuronas secuenciales, «una delante de otra»."
      ]
    },
    {
      "cell_type": "markdown",
      "metadata": {
        "id": "XNqj1ZhogrPa",
        "colab_type": "text"
      },
      "source": [
        "# A Entrenar la red!"
      ]
    },
    {
      "cell_type": "markdown",
      "metadata": {
        "id": "kx0t8qoWgvIO",
        "colab_type": "text"
      },
      "source": [
        "Antes de de entrenar la red haremos unos ajustes de nuestro modelo:"
      ]
    },
    {
      "cell_type": "code",
      "metadata": {
        "id": "QjNcej8CgvOI",
        "colab_type": "code",
        "colab": {
          "base_uri": "https://localhost:8080/",
          "height": 72
        },
        "outputId": "ebbb98cb-8178-4abe-e7e5-44f46b06b83a"
      },
      "source": [
        "model.compile(loss='mean_squared_error',\n",
        "              optimizer='adam',\n",
        "              metrics=['binary_accuracy'])"
      ],
      "execution_count": 12,
      "outputs": [
        {
          "output_type": "stream",
          "text": [
            "WARNING:tensorflow:From /usr/local/lib/python3.6/dist-packages/keras/optimizers.py:793: The name tf.train.Optimizer is deprecated. Please use tf.compat.v1.train.Optimizer instead.\n",
            "\n"
          ],
          "name": "stdout"
        }
      ]
    },
    {
      "cell_type": "markdown",
      "metadata": {
        "id": "vsM_p5tpg-vb",
        "colab_type": "text"
      },
      "source": [
        "Con esto indicamos el tipo de pérdida (loss) que utilizaremos, el «optimizador» de los pesos de las conexiones de las neuronas y las métricas que queremos obtener."
      ]
    },
    {
      "cell_type": "markdown",
      "metadata": {
        "id": "w4zkngBShBTE",
        "colab_type": "text"
      },
      "source": [
        "### Ahora sí que entrenaremos la red:"
      ]
    },
    {
      "cell_type": "markdown",
      "metadata": {
        "id": "jFfa8vVBhHWN",
        "colab_type": "text"
      },
      "source": [
        "Indicamos con model.fit() las entradas y sus salidas y la cantidad de iteraciones de aprendizaje (epochs) de entrenamiento."
      ]
    },
    {
      "cell_type": "code",
      "metadata": {
        "id": "Zb_tRmSlbB4U",
        "colab_type": "code",
        "colab": {
          "base_uri": "https://localhost:8080/",
          "height": 1000
        },
        "outputId": "7786e449-0864-4df0-efc9-82cc7a19ab9e"
      },
      "source": [
        "model.fit(training_data, target_data, epochs=100)"
      ],
      "execution_count": 14,
      "outputs": [
        {
          "output_type": "stream",
          "text": [
            "Epoch 1/100\n",
            "9749/9749 [==============================] - 0s 34us/step - loss: 0.3076 - binary_accuracy: 0.6960\n",
            "Epoch 2/100\n",
            "9749/9749 [==============================] - 0s 30us/step - loss: 0.3075 - binary_accuracy: 0.6960\n",
            "Epoch 3/100\n",
            "9749/9749 [==============================] - 0s 30us/step - loss: 0.3074 - binary_accuracy: 0.6960\n",
            "Epoch 4/100\n",
            "9749/9749 [==============================] - 0s 30us/step - loss: 0.3074 - binary_accuracy: 0.6960\n",
            "Epoch 5/100\n",
            "9749/9749 [==============================] - 0s 29us/step - loss: 0.3073 - binary_accuracy: 0.6960\n",
            "Epoch 6/100\n",
            "9749/9749 [==============================] - 0s 30us/step - loss: 0.3073 - binary_accuracy: 0.6960\n",
            "Epoch 7/100\n",
            "9749/9749 [==============================] - 0s 30us/step - loss: 0.3072 - binary_accuracy: 0.6960\n",
            "Epoch 8/100\n",
            "9749/9749 [==============================] - 0s 31us/step - loss: 0.3072 - binary_accuracy: 0.6960\n",
            "Epoch 9/100\n",
            "9749/9749 [==============================] - 0s 33us/step - loss: 0.3071 - binary_accuracy: 0.6960\n",
            "Epoch 10/100\n",
            "9749/9749 [==============================] - 0s 29us/step - loss: 0.3071 - binary_accuracy: 0.6960\n",
            "Epoch 11/100\n",
            "9749/9749 [==============================] - 0s 31us/step - loss: 0.3070 - binary_accuracy: 0.6960\n",
            "Epoch 12/100\n",
            "9749/9749 [==============================] - 0s 32us/step - loss: 0.3069 - binary_accuracy: 0.6960\n",
            "Epoch 13/100\n",
            "9749/9749 [==============================] - 0s 30us/step - loss: 0.3069 - binary_accuracy: 0.6960\n",
            "Epoch 14/100\n",
            "9749/9749 [==============================] - 0s 30us/step - loss: 0.3069 - binary_accuracy: 0.6960\n",
            "Epoch 15/100\n",
            "9749/9749 [==============================] - 0s 31us/step - loss: 0.3068 - binary_accuracy: 0.6960\n",
            "Epoch 16/100\n",
            "9749/9749 [==============================] - 0s 30us/step - loss: 0.3068 - binary_accuracy: 0.6960\n",
            "Epoch 17/100\n",
            "9749/9749 [==============================] - 0s 30us/step - loss: 0.3067 - binary_accuracy: 0.6960\n",
            "Epoch 18/100\n",
            "9749/9749 [==============================] - 0s 38us/step - loss: 0.3067 - binary_accuracy: 0.6960\n",
            "Epoch 19/100\n",
            "9749/9749 [==============================] - 0s 30us/step - loss: 0.3067 - binary_accuracy: 0.6960\n",
            "Epoch 20/100\n",
            "9749/9749 [==============================] - 0s 30us/step - loss: 0.3066 - binary_accuracy: 0.6960\n",
            "Epoch 21/100\n",
            "9749/9749 [==============================] - 0s 29us/step - loss: 0.3065 - binary_accuracy: 0.6960\n",
            "Epoch 22/100\n",
            "9749/9749 [==============================] - 0s 30us/step - loss: 0.3059 - binary_accuracy: 0.6960\n",
            "Epoch 23/100\n",
            "9749/9749 [==============================] - 0s 30us/step - loss: 0.1135 - binary_accuracy: 0.8567\n",
            "Epoch 24/100\n",
            "9749/9749 [==============================] - 0s 29us/step - loss: 0.0435 - binary_accuracy: 0.9340\n",
            "Epoch 25/100\n",
            "9749/9749 [==============================] - 0s 31us/step - loss: 0.0211 - binary_accuracy: 0.9652\n",
            "Epoch 26/100\n",
            "9749/9749 [==============================] - 0s 30us/step - loss: 0.0133 - binary_accuracy: 0.9822\n",
            "Epoch 27/100\n",
            "9749/9749 [==============================] - 0s 30us/step - loss: 0.0109 - binary_accuracy: 0.9963\n",
            "Epoch 28/100\n",
            "9749/9749 [==============================] - 0s 29us/step - loss: 0.0102 - binary_accuracy: 1.0000\n",
            "Epoch 29/100\n",
            "9749/9749 [==============================] - 0s 30us/step - loss: 0.0099 - binary_accuracy: 1.0000\n",
            "Epoch 30/100\n",
            "9749/9749 [==============================] - 0s 31us/step - loss: 0.0098 - binary_accuracy: 1.0000\n",
            "Epoch 31/100\n",
            "9749/9749 [==============================] - 0s 30us/step - loss: 0.0096 - binary_accuracy: 1.0000\n",
            "Epoch 32/100\n",
            "9749/9749 [==============================] - 0s 31us/step - loss: 0.0095 - binary_accuracy: 1.0000\n",
            "Epoch 33/100\n",
            "9749/9749 [==============================] - 0s 33us/step - loss: 0.0093 - binary_accuracy: 1.0000\n",
            "Epoch 34/100\n",
            "9749/9749 [==============================] - 0s 30us/step - loss: 0.0092 - binary_accuracy: 1.0000\n",
            "Epoch 35/100\n",
            "9749/9749 [==============================] - 0s 30us/step - loss: 0.0090 - binary_accuracy: 1.0000\n",
            "Epoch 36/100\n",
            "9749/9749 [==============================] - 0s 31us/step - loss: 0.0088 - binary_accuracy: 1.0000\n",
            "Epoch 37/100\n",
            "9749/9749 [==============================] - 0s 31us/step - loss: 0.0087 - binary_accuracy: 1.0000\n",
            "Epoch 38/100\n",
            "9749/9749 [==============================] - 0s 31us/step - loss: 0.0085 - binary_accuracy: 1.0000\n",
            "Epoch 39/100\n",
            "9749/9749 [==============================] - 0s 31us/step - loss: 0.0083 - binary_accuracy: 1.0000\n",
            "Epoch 40/100\n",
            "9749/9749 [==============================] - 0s 30us/step - loss: 0.0082 - binary_accuracy: 1.0000\n",
            "Epoch 41/100\n",
            "9749/9749 [==============================] - 0s 30us/step - loss: 0.0080 - binary_accuracy: 1.0000\n",
            "Epoch 42/100\n",
            "9749/9749 [==============================] - 0s 30us/step - loss: 0.0078 - binary_accuracy: 1.0000\n",
            "Epoch 43/100\n",
            "9749/9749 [==============================] - 0s 31us/step - loss: 0.0076 - binary_accuracy: 1.0000\n",
            "Epoch 44/100\n",
            "9749/9749 [==============================] - 0s 34us/step - loss: 0.0075 - binary_accuracy: 1.0000\n",
            "Epoch 45/100\n",
            "9749/9749 [==============================] - 0s 30us/step - loss: 0.0073 - binary_accuracy: 1.0000\n",
            "Epoch 46/100\n",
            "9749/9749 [==============================] - 0s 31us/step - loss: 0.0072 - binary_accuracy: 1.0000\n",
            "Epoch 47/100\n",
            "9749/9749 [==============================] - 0s 31us/step - loss: 0.0070 - binary_accuracy: 1.0000\n",
            "Epoch 48/100\n",
            "9749/9749 [==============================] - 0s 30us/step - loss: 0.0069 - binary_accuracy: 1.0000\n",
            "Epoch 49/100\n",
            "9749/9749 [==============================] - 0s 30us/step - loss: 0.0067 - binary_accuracy: 1.0000\n",
            "Epoch 50/100\n",
            "9749/9749 [==============================] - 0s 32us/step - loss: 0.0066 - binary_accuracy: 1.0000\n",
            "Epoch 51/100\n",
            "9749/9749 [==============================] - 0s 31us/step - loss: 0.0065 - binary_accuracy: 1.0000\n",
            "Epoch 52/100\n",
            "9749/9749 [==============================] - 0s 30us/step - loss: 0.0064 - binary_accuracy: 1.0000\n",
            "Epoch 53/100\n",
            "9749/9749 [==============================] - 0s 34us/step - loss: 0.0062 - binary_accuracy: 1.0000\n",
            "Epoch 54/100\n",
            "9749/9749 [==============================] - 0s 30us/step - loss: 0.0061 - binary_accuracy: 1.0000\n",
            "Epoch 55/100\n",
            "9749/9749 [==============================] - 0s 31us/step - loss: 0.0060 - binary_accuracy: 1.0000\n",
            "Epoch 56/100\n",
            "9749/9749 [==============================] - 0s 33us/step - loss: 0.0059 - binary_accuracy: 1.0000\n",
            "Epoch 57/100\n",
            "9749/9749 [==============================] - 0s 33us/step - loss: 0.0058 - binary_accuracy: 1.0000\n",
            "Epoch 58/100\n",
            "9749/9749 [==============================] - 0s 31us/step - loss: 0.0057 - binary_accuracy: 1.0000\n",
            "Epoch 59/100\n",
            "9749/9749 [==============================] - 0s 30us/step - loss: 0.0055 - binary_accuracy: 1.0000\n",
            "Epoch 60/100\n",
            "9749/9749 [==============================] - 0s 30us/step - loss: 0.0054 - binary_accuracy: 1.0000\n",
            "Epoch 61/100\n",
            "9749/9749 [==============================] - 0s 30us/step - loss: 0.0053 - binary_accuracy: 1.0000\n",
            "Epoch 62/100\n",
            "9749/9749 [==============================] - 0s 33us/step - loss: 0.0052 - binary_accuracy: 1.0000\n",
            "Epoch 63/100\n",
            "9749/9749 [==============================] - 0s 33us/step - loss: 0.0051 - binary_accuracy: 1.0000\n",
            "Epoch 64/100\n",
            "9749/9749 [==============================] - 0s 34us/step - loss: 0.0051 - binary_accuracy: 1.0000\n",
            "Epoch 65/100\n",
            "9749/9749 [==============================] - 0s 32us/step - loss: 0.0050 - binary_accuracy: 1.0000\n",
            "Epoch 66/100\n",
            "9749/9749 [==============================] - 0s 33us/step - loss: 0.0049 - binary_accuracy: 1.0000\n",
            "Epoch 67/100\n",
            "9749/9749 [==============================] - 0s 33us/step - loss: 0.0048 - binary_accuracy: 1.0000\n",
            "Epoch 68/100\n",
            "9749/9749 [==============================] - 0s 31us/step - loss: 0.0047 - binary_accuracy: 1.0000\n",
            "Epoch 69/100\n",
            "9749/9749 [==============================] - 0s 33us/step - loss: 0.0046 - binary_accuracy: 1.0000\n",
            "Epoch 70/100\n",
            "9749/9749 [==============================] - 0s 34us/step - loss: 0.0045 - binary_accuracy: 1.0000\n",
            "Epoch 71/100\n",
            "9749/9749 [==============================] - 0s 33us/step - loss: 0.0044 - binary_accuracy: 1.0000\n",
            "Epoch 72/100\n",
            "9749/9749 [==============================] - 0s 32us/step - loss: 0.0043 - binary_accuracy: 1.0000\n",
            "Epoch 73/100\n",
            "9749/9749 [==============================] - 0s 33us/step - loss: 0.0042 - binary_accuracy: 1.0000\n",
            "Epoch 74/100\n",
            "9749/9749 [==============================] - 0s 30us/step - loss: 0.0042 - binary_accuracy: 1.0000\n",
            "Epoch 75/100\n",
            "9749/9749 [==============================] - 0s 32us/step - loss: 0.0041 - binary_accuracy: 1.0000\n",
            "Epoch 76/100\n",
            "9749/9749 [==============================] - 0s 31us/step - loss: 0.0040 - binary_accuracy: 1.0000\n",
            "Epoch 77/100\n",
            "9749/9749 [==============================] - 0s 32us/step - loss: 0.0040 - binary_accuracy: 1.0000\n",
            "Epoch 78/100\n",
            "9749/9749 [==============================] - 0s 33us/step - loss: 0.0039 - binary_accuracy: 1.0000\n",
            "Epoch 79/100\n",
            "9749/9749 [==============================] - 0s 35us/step - loss: 0.0038 - binary_accuracy: 1.0000\n",
            "Epoch 80/100\n",
            "9749/9749 [==============================] - 0s 34us/step - loss: 0.0037 - binary_accuracy: 1.0000\n",
            "Epoch 81/100\n",
            "9749/9749 [==============================] - 0s 33us/step - loss: 0.0037 - binary_accuracy: 1.0000\n",
            "Epoch 82/100\n",
            "9749/9749 [==============================] - 0s 34us/step - loss: 0.0036 - binary_accuracy: 1.0000\n",
            "Epoch 83/100\n",
            "9749/9749 [==============================] - 0s 33us/step - loss: 0.0035 - binary_accuracy: 1.0000\n",
            "Epoch 84/100\n",
            "9749/9749 [==============================] - 0s 31us/step - loss: 0.0035 - binary_accuracy: 1.0000\n",
            "Epoch 85/100\n",
            "9749/9749 [==============================] - 0s 32us/step - loss: 0.0034 - binary_accuracy: 1.0000\n",
            "Epoch 86/100\n",
            "9749/9749 [==============================] - 0s 33us/step - loss: 0.0034 - binary_accuracy: 1.0000\n",
            "Epoch 87/100\n",
            "9749/9749 [==============================] - 0s 32us/step - loss: 0.0033 - binary_accuracy: 1.0000\n",
            "Epoch 88/100\n",
            "9749/9749 [==============================] - 0s 31us/step - loss: 0.0032 - binary_accuracy: 1.0000\n",
            "Epoch 89/100\n",
            "9749/9749 [==============================] - 0s 31us/step - loss: 0.0031 - binary_accuracy: 1.0000\n",
            "Epoch 90/100\n",
            "9749/9749 [==============================] - 0s 35us/step - loss: 0.0031 - binary_accuracy: 1.0000\n",
            "Epoch 91/100\n",
            "9749/9749 [==============================] - 0s 34us/step - loss: 0.0030 - binary_accuracy: 1.0000\n",
            "Epoch 92/100\n",
            "9749/9749 [==============================] - 0s 34us/step - loss: 0.0030 - binary_accuracy: 1.0000\n",
            "Epoch 93/100\n",
            "9749/9749 [==============================] - 0s 35us/step - loss: 0.0029 - binary_accuracy: 1.0000\n",
            "Epoch 94/100\n",
            "9749/9749 [==============================] - 0s 34us/step - loss: 0.0028 - binary_accuracy: 1.0000\n",
            "Epoch 95/100\n",
            "9749/9749 [==============================] - 0s 36us/step - loss: 0.0028 - binary_accuracy: 1.0000\n",
            "Epoch 96/100\n",
            "9749/9749 [==============================] - 0s 31us/step - loss: 0.0027 - binary_accuracy: 1.0000\n",
            "Epoch 97/100\n",
            "9749/9749 [==============================] - 0s 33us/step - loss: 0.0027 - binary_accuracy: 1.0000\n",
            "Epoch 98/100\n",
            "9749/9749 [==============================] - 0s 30us/step - loss: 0.0026 - binary_accuracy: 1.0000\n",
            "Epoch 99/100\n",
            "9749/9749 [==============================] - 0s 30us/step - loss: 0.0026 - binary_accuracy: 1.0000\n",
            "Epoch 100/100\n",
            "9749/9749 [==============================] - 0s 31us/step - loss: 0.0025 - binary_accuracy: 1.0000\n"
          ],
          "name": "stdout"
        },
        {
          "output_type": "execute_result",
          "data": {
            "text/plain": [
              "<keras.callbacks.History at 0x7f32c723d3c8>"
            ]
          },
          "metadata": {
            "tags": []
          },
          "execution_count": 14
        }
      ]
    },
    {
      "cell_type": "markdown",
      "metadata": {
        "id": "VPdNvRkfhMb1",
        "colab_type": "text"
      },
      "source": [
        "Este es un ejemplo sencillo, pero recuerda que en modelos más grandes y complejos, necesitarán más iteraciones y a la vez será más lento el entrenamiento."
      ]
    },
    {
      "cell_type": "markdown",
      "metadata": {
        "id": "B0FwHqRchYD7",
        "colab_type": "text"
      },
      "source": [
        "Como los pesos iniciales de la red son aleatorios, puede que las salidas que tengas en tu ordenador sean levemente distintas en cuanto a las iteraciones, pero llegarás a la «precisión binaria» (binara_accuracy) de 1.0."
      ]
    },
    {
      "cell_type": "markdown",
      "metadata": {
        "id": "Bfeer-uAhbUP",
        "colab_type": "text"
      },
      "source": [
        "### Evaluamos y Predecimos"
      ]
    },
    {
      "cell_type": "markdown",
      "metadata": {
        "id": "-PiALlGnhhSI",
        "colab_type": "text"
      },
      "source": [
        "Primero evaluamos el modelo"
      ]
    },
    {
      "cell_type": "code",
      "metadata": {
        "id": "R1aGDDq6bLWJ",
        "colab_type": "code",
        "colab": {
          "base_uri": "https://localhost:8080/",
          "height": 34
        },
        "outputId": "9094feb8-1b63-4064-e471-4e5ad93426a1"
      },
      "source": [
        "scores = model.evaluate(training_data, target_data)"
      ],
      "execution_count": 15,
      "outputs": [
        {
          "output_type": "stream",
          "text": [
            "9749/9749 [==============================] - 0s 20us/step\n"
          ],
          "name": "stdout"
        }
      ]
    },
    {
      "cell_type": "code",
      "metadata": {
        "id": "1wY6E-_tbQmu",
        "colab_type": "code",
        "colab": {
          "base_uri": "https://localhost:8080/",
          "height": 52
        },
        "outputId": "4cc4d432-dd08-4b41-af4e-a1e5fef723f6"
      },
      "source": [
        "print(\"\\n%s: %.2f%%\" % (model.metrics_names[1], scores[1]*100))"
      ],
      "execution_count": 16,
      "outputs": [
        {
          "output_type": "stream",
          "text": [
            "\n",
            "binary_accuracy: 100.00%\n"
          ],
          "name": "stdout"
        }
      ]
    },
    {
      "cell_type": "code",
      "metadata": {
        "id": "sJT0buCxbyRg",
        "colab_type": "code",
        "colab": {
          "base_uri": "https://localhost:8080/",
          "height": 70
        },
        "outputId": "dcc71eeb-a4ef-4323-8564-bdb48549a20e"
      },
      "source": [
        "def usarRedNeuronalPredecirSalidas(entrada):\n",
        "  training_data = np.array([entrada], \"float32\")\n",
        "  prediccion = model.predict(training_data).round()[0]\n",
        "\n",
        "  salida1 = int(prediccion[0])\n",
        "  salida2 = int(prediccion[1])\n",
        "  return salida1, salida2\n",
        "\n",
        "\n",
        "entrada = temperaturaAleatoria()\n",
        "salida1, salida2 = usarRedNeuronalPredecirSalidas(entrada)\n",
        "print(\"Temperatura: \", entrada)\n",
        "print(actuador[1] + \": \" + estadosActuadores[salida1])\n",
        "print(actuador[2] + \": \" + estadosActuadores[salida2])"
      ],
      "execution_count": 17,
      "outputs": [
        {
          "output_type": "stream",
          "text": [
            "Temperatura:  32\n",
            "Ventilador: ON\n",
            "Lampara calor: OFF\n"
          ],
          "name": "stdout"
        }
      ]
    },
    {
      "cell_type": "code",
      "metadata": {
        "id": "xPATphbaeFfw",
        "colab_type": "code",
        "colab": {
          "base_uri": "https://localhost:8080/",
          "height": 341
        },
        "outputId": "93caf78a-bdfb-4c20-fe6c-1937052de069"
      },
      "source": [
        "cantidadDatosEvaludar = 30\n",
        "\n",
        "historialTemperatura = []\n",
        "historialVentilador = []\n",
        "historialCalefactor = []\n",
        "puntoEquilibrio = []\n",
        "for i in range(cantidadDatosEvaludar):\n",
        "  entrada = temperaturaAleatoria()\n",
        "  salida1, salida2 = usarRedNeuronalPredecirSalidas(entrada)\n",
        "  historialTemperatura.append(entrada)\n",
        "  historialVentilador.append(salida1*100)\n",
        "  historialCalefactor.append(salida2*100)  \n",
        "  puntoEquilibrio.append(setPoint)\n",
        "    \n",
        "    \n",
        "    \n",
        "    \n",
        "    \n",
        "    \n",
        "    \n",
        "    \n",
        "import matplotlib.pyplot as plt\n",
        "import numpy as np\n",
        "import pandas as pd\n",
        " \n",
        "# Data\n",
        "df=pd.DataFrame({\n",
        "    't': range(0,len(historialTemperatura)), \n",
        "    sensores[1]: historialTemperatura, \n",
        "    actuador[1]: historialVentilador, \n",
        "    actuador[2]: historialCalefactor , \n",
        "    \"SetPoint\": puntoEquilibrio \n",
        "})\n",
        " \n",
        "# multiple line plot\n",
        "plt.rcParams[\"figure.figsize\"] = (20,5)\n",
        "plt.plot( 't', sensores[1], data=df, marker='o', markerfacecolor='r', markersize=12, color='r', linewidth=4)\n",
        "plt.plot( 't', actuador[1], data=df, marker='v', color='b', linewidth=2)\n",
        "plt.plot( 't', \"SetPoint\", data=df, marker='', color='g', linewidth=2)\n",
        "plt.plot( 't', actuador[2], data=df, marker='^', color='y', linewidth=2, linestyle='dashed')\n",
        "plt.legend()\n"
      ],
      "execution_count": 47,
      "outputs": [
        {
          "output_type": "execute_result",
          "data": {
            "text/plain": [
              "<matplotlib.legend.Legend at 0x7f3291906c18>"
            ]
          },
          "metadata": {
            "tags": []
          },
          "execution_count": 47
        },
        {
          "output_type": "display_data",
          "data": {
            "image/png": "[encoded data removed]",
            "text/plain": [
              "<Figure size 1440x360 with 1 Axes>"
            ]
          },
          "metadata": {
            "tags": []
          }
        }
      ]
    },
    {
      "cell_type": "markdown",
      "metadata": {
        "id": "sqVWYtyuh_V6",
        "colab_type": "text"
      },
      "source": [
        "# Afinando parámetros de la red neuronal"
      ]
    },
    {
      "cell_type": "markdown",
      "metadata": {
        "id": "cbFWexHDiIHE",
        "colab_type": "text"
      },
      "source": [
        "Cantidad de capas de la red (en nuestro caso son 3)\n",
        "\n",
        "Cantidad de neuronas en cada red (nosotros tenemos 1 de entrada, 2 en capa oculta y 2 de salida)\n",
        "\n",
        "Funciones de activación de cada capa. Nosotros utilizamos relu y sigmoid\n",
        "\n",
        "Al compilar el modelo definir las funciones de pérdida, optimizer y métricas.\n",
        "\n",
        "Cantidad de iteraciones de entrenamiento."
      ]
    },
    {
      "cell_type": "code",
      "metadata": {
        "id": "5fIQTuEdiAt9",
        "colab_type": "code",
        "colab": {}
      },
      "source": [
        ""
      ],
      "execution_count": 0,
      "outputs": []
    },
    {
      "cell_type": "markdown",
      "metadata": {
        "id": "LDF-XkEXiW2P",
        "colab_type": "text"
      },
      "source": [
        "En este ejemplo que es muy sencillo, puedes intentar variar por ejemplo la cantidad de neuronas de entrada, probar con 8 o con 32 y ver qué resultados obtienes. Por ejemplo, si necesita más o menos iteraciones para alcanzar el 100% de aciertos. "
      ]
    },
    {
      "cell_type": "markdown",
      "metadata": {
        "id": "3ZVWK_y_idTK",
        "colab_type": "text"
      },
      "source": [
        "# Guardar la red y usarla -de verdad-"
      ]
    },
    {
      "cell_type": "markdown",
      "metadata": {
        "id": "OHLNdQAkij2v",
        "colab_type": "text"
      },
      "source": [
        "Si esto fuera un caso real, en el cual entrenamos una red, la ajustamos y obtenemos buenos resultados, ahora deberíamos Guardar esa red ya que esa red óptima, tiene los pesos que estábamos buscando. Sería tonto y lento entrenar cada vez la red antes de «publicar en producción»."
      ]
    },
    {
      "cell_type": "markdown",
      "metadata": {
        "id": "A98K8AhNin_r",
        "colab_type": "text"
      },
      "source": [
        "Lo que hacemos es guardar esa red y en OTRO código cargaríamos la red y la utilizamos como si fuera una librería o una funcion que creamos. Pasándole entradas y obteniendo las predicciones."
      ]
    },
    {
      "cell_type": "markdown",
      "metadata": {
        "id": "t261Sjozir9G",
        "colab_type": "text"
      },
      "source": [
        "Para guardar y cargar nuestra red, utilizaremos el siguiente código de ejemplo:"
      ]
    },
    {
      "cell_type": "code",
      "metadata": {
        "id": "t1chvayfkHyc",
        "colab_type": "code",
        "colab": {}
      },
      "source": [
        "nombreModeloGuardado = \"model.json\"\n",
        "nombrePesosGuardados = \"model.h5\""
      ],
      "execution_count": 0,
      "outputs": []
    },
    {
      "cell_type": "code",
      "metadata": {
        "id": "JPduVpd1iefb",
        "colab_type": "code",
        "colab": {
          "base_uri": "https://localhost:8080/",
          "height": 52
        },
        "outputId": "dabbf791-b4fe-4199-811a-3b7cfbf6c1d1"
      },
      "source": [
        "# serializar el modelo a JSON\n",
        "model_json = model.to_json()\n",
        "with open(nombreModeloGuardado, \"w\") as json_file:\n",
        "    json_file.write(model_json)\n",
        "    print(\"Modelo guardado!\")\n",
        "# serializar los pesos a HDF5\n",
        "model.save_weights(nombrePesosGuardados)\n",
        "print(\"Pesos Guardados!\")"
      ],
      "execution_count": 20,
      "outputs": [
        {
          "output_type": "stream",
          "text": [
            "Modelo guardado!\n",
            "Pesos Guardados!\n"
          ],
          "name": "stdout"
        }
      ]
    },
    {
      "cell_type": "markdown",
      "metadata": {
        "id": "AvTWSP1Ei62U",
        "colab_type": "text"
      },
      "source": [
        "Para cargarla:"
      ]
    },
    {
      "cell_type": "code",
      "metadata": {
        "id": "qsk6dXkhi9U1",
        "colab_type": "code",
        "colab": {
          "base_uri": "https://localhost:8080/",
          "height": 52
        },
        "outputId": "f0ca179d-9064-4fe8-9e56-d6257129e6f2"
      },
      "source": [
        "from keras.models import model_from_json\n",
        "\n",
        "# cargar json y crear el modelo\n",
        "json_file = open(nombreModeloGuardado, 'r')\n",
        "loaded_model_json = json_file.read()\n",
        "json_file.close()\n",
        "loaded_model = model_from_json(loaded_model_json)\n",
        "print(\"Modelo Cargado!\")\n",
        "\n",
        "\n",
        "# cargar pesos al nuevo modelo\n",
        "loaded_model.load_weights(nombrePesosGuardados)\n",
        "print(\"Pesos Cargados!\")\n",
        " \n",
        "# Compilar modelo cargado y listo para usar.\n",
        "loaded_model.compile(loss='mean_squared_error', optimizer='adam', metrics=['binary_accuracy'])\n"
      ],
      "execution_count": 21,
      "outputs": [
        {
          "output_type": "stream",
          "text": [
            "Modelo Cargado!\n",
            "Pesos Cargados!\n"
          ],
          "name": "stdout"
        }
      ]
    },
    {
      "cell_type": "markdown",
      "metadata": {
        "id": "ytLKciNDk74_",
        "colab_type": "text"
      },
      "source": [
        "Luego de esto, ya usaríamos normalmente loaded_model.predict() y listo!"
      ]
    },
    {
      "cell_type": "code",
      "metadata": {
        "id": "vf3RN085jiSF",
        "colab_type": "code",
        "colab": {
          "base_uri": "https://localhost:8080/",
          "height": 70
        },
        "outputId": "6de7dc7f-76ca-4ac9-ab51-d58cbdb96160"
      },
      "source": [
        "def usarRedaNeuronalCargadParaPredecirSalidas(entrada):\n",
        "  training_data = np.array([entrada], \"float32\")\n",
        "  prediccion = loaded_model.predict(training_data).round()[0]\n",
        "\n",
        "  salida1 = int(prediccion[0])\n",
        "  salida2 = int(prediccion[1])\n",
        "  return salida1, salida2\n",
        "\n",
        "\n",
        "entrada = temperaturaAleatoria()\n",
        "salida1, salida2 = usarRedaNeuronalCargadParaPredecirSalidas(entrada)\n",
        "print(\"Temperatura: \", entrada)\n",
        "print(actuador[1] + \": \" + estadosActuadores[salida1])\n",
        "print(actuador[2] + \": \" + estadosActuadores[salida2])"
      ],
      "execution_count": 22,
      "outputs": [
        {
          "output_type": "stream",
          "text": [
            "Temperatura:  42\n",
            "Ventilador: ON\n",
            "Lampara calor: OFF\n"
          ],
          "name": "stdout"
        }
      ]
    },
    {
      "cell_type": "markdown",
      "metadata": {
        "id": "5oWGQy2_m2f-",
        "colab_type": "text"
      },
      "source": [
        "# ¿Vale la pena una red neuronal? ¿porqué no programar con if-else?"
      ]
    },
    {
      "cell_type": "markdown",
      "metadata": {
        "id": "j8jqIJEBnLcH",
        "colab_type": "text"
      },
      "source": [
        "Luego de visto todo esto, ¿no conviene hacer una programación «tradicional» en vez de entrenar una red neuronal? Pues siempre dependerá del caso."
      ]
    },
    {
      "cell_type": "markdown",
      "metadata": {
        "id": "YTsBwZ_UnTyc",
        "colab_type": "text"
      },
      "source": [
        "No quiere decir que haya que reemplazar todo el código del mundo con redes neuronales, pero sí pensar en que casos las redes neuronales nos brindan una flexibilidad y un poder de predicción increíbles -y que se justifican el tiempo de desarrollo-."
      ]
    },
    {
      "cell_type": "markdown",
      "metadata": {
        "id": "uIKGNcpqnatk",
        "colab_type": "text"
      },
      "source": [
        "Hemos utilizado la librería Keras -y a través de ella, Tensorflow como backend- y creamos el modelo, entrenamos los datos y obtuvimos un buen resultado. Este es el puntapié inicial para seguir viendo diversas arquitecturas de Redes Neuronales e ir aprendiendo poco a poco con Python."
      ]
    }
  ]
}
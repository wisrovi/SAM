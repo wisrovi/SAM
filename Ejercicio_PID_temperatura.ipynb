{
  "nbformat": 4,
  "nbformat_minor": 0,
  "metadata": {
    "colab": {
      "name": "Nuevo editor de código de Colab",
      "provenance": [],
      "collapsed_sections": [],
      "toc_visible": true,
      "include_colab_link": true
    },
    "kernelspec": {
      "display_name": "Python 3",
      "name": "python3"
    }
  },
  "cells": [
    {
      "cell_type": "markdown",
      "metadata": {
        "id": "view-in-github",
        "colab_type": "text"
      },
      "source": [
        "<a href=\"https://colab.research.google.com/github/wisrovi/SAM/blob/master/Ejercicio_PID_temperatura.ipynb\" target=\"_parent\"><img src=\"https://colab.research.google.com/assets/colab-badge.svg\" alt=\"Open In Colab\"/></a>"
      ]
    },
    {
      "cell_type": "markdown",
      "metadata": {
        "id": "faS7SgkQS74P"
      },
      "source": [
        "# Invernadero"
      ]
    },
    {
      "cell_type": "markdown",
      "metadata": {
        "id": "PT6tFqQPUJno"
      },
      "source": [
        "<img src=\"https://hydroenv.com.mx/catalogo/images/00_Diana/tipos_invernaderos/ventilacion_en_invernaderos.jpg\">"
      ]
    },
    {
      "cell_type": "code",
      "metadata": {
        "id": "zWQeX8sqTN9q"
      },
      "source": [
        "setPoint = 20\n",
        "\n",
        "actuador = {\n",
        "    1 : \"Ventilador\",\n",
        "    2 : \"Lampara calor\"\n",
        "}\n",
        "\n",
        "estadosActuadores = {\n",
        "    1 : \"ON\",\n",
        "    0 : \"OFF\"\n",
        "}\n",
        "\n",
        "sensores = {\n",
        "    1 : \"Temperatura\"\n",
        "}"
      ],
      "execution_count": 1,
      "outputs": []
    },
    {
      "cell_type": "markdown",
      "metadata": {
        "id": "h0k-3WCvVQ6e"
      },
      "source": [
        "### Vamos a crear el dataseet"
      ]
    },
    {
      "cell_type": "code",
      "metadata": {
        "id": "jouChgoAVU3r"
      },
      "source": [
        "import random\n",
        "\n",
        "def FuncionRespuesta(entrada):\n",
        "  salida1 = 0    #Ventilador\n",
        "  salida2 = 0    #calentador\n",
        "  if entrada > setPoint:\n",
        "    salida1 = 1\n",
        "    salida2 = 0\n",
        "  elif entrada < setPoint:\n",
        "    salida1 = 0\n",
        "    salida2 = 1\n",
        "  else:\n",
        "    salida1 = 0\n",
        "    salida2 = 0\n",
        "  return salida1, salida2"
      ],
      "execution_count": 2,
      "outputs": []
    },
    {
      "cell_type": "code",
      "metadata": {
        "id": "qwfbrEFNmLaC"
      },
      "source": [
        "def temperaturaAleatoria():\n",
        "  return random.randint(10,45)"
      ],
      "execution_count": 3,
      "outputs": []
    },
    {
      "cell_type": "code",
      "metadata": {
        "id": "gvddRM3KVU8u",
        "outputId": "dd75c940-c529-4555-f95a-9b2794ae6835",
        "colab": {
          "base_uri": "https://localhost:8080/"
        }
      },
      "source": [
        "temperatura = temperaturaAleatoria()\n",
        "salida1, salida2 = FuncionRespuesta(temperatura)  \n",
        "print(sensores[1] +\": \", temperatura)\n",
        "print(actuador[1] + \": \" + estadosActuadores[salida1])\n",
        "print(actuador[2] + \": \" + estadosActuadores[salida2])"
      ],
      "execution_count": 4,
      "outputs": [
        {
          "output_type": "stream",
          "text": [
            "Temperatura:  16\n",
            "Ventilador: OFF\n",
            "Lampara calor: ON\n"
          ],
          "name": "stdout"
        }
      ]
    },
    {
      "cell_type": "code",
      "metadata": {
        "id": "jCzDqk4-VVAq"
      },
      "source": [
        "def GenerarDatos(cantidad):\n",
        "  training_data = []\n",
        "  target_data = []\n",
        "  valorPasado = 0\n",
        "  for i in range(cantidad):\n",
        "    temperatura = temperaturaAleatoria()\n",
        "    if valorPasado != temperatura:\n",
        "      valorPasado = temperatura\n",
        "      training_data.append([temperatura])\n",
        "      salida1, salida2 = FuncionRespuesta(temperatura) \n",
        "      target_data.append([salida1, salida2])\n",
        "    else:\n",
        "      i -= 1\n",
        "  return training_data, target_data\n"
      ],
      "execution_count": 5,
      "outputs": []
    },
    {
      "cell_type": "code",
      "metadata": {
        "id": "84SJYfh7VVC_"
      },
      "source": [
        "training, target = GenerarDatos(5000)\n",
        "for i in range(len(training)):\n",
        "  #print(training[i], target[i])\n",
        "  pass"
      ],
      "execution_count": 6,
      "outputs": []
    },
    {
      "cell_type": "markdown",
      "metadata": {
        "id": "7lRAx7KghnrK"
      },
      "source": [
        "# Convertimos los datos a arrays de numpy"
      ]
    },
    {
      "cell_type": "code",
      "metadata": {
        "id": "zns74EBRhw3e"
      },
      "source": [
        "import numpy as np #Utilizaremos numpy para el manejo de arrays.\n",
        "\n",
        "#Creamos los arrays de entrada y salida.\n",
        "training_data = np.array(training, \"float32\")\n",
        "target_data = np.array(target, \"float32\")"
      ],
      "execution_count": 7,
      "outputs": []
    },
    {
      "cell_type": "code",
      "metadata": {
        "id": "fOHGfKt0PhjM",
        "outputId": "d0f55f9d-ff24-4a14-8082-20546c90b2e3",
        "colab": {
          "base_uri": "https://localhost:8080/"
        }
      },
      "source": [
        "training_data"
      ],
      "execution_count": 8,
      "outputs": [
        {
          "output_type": "execute_result",
          "data": {
            "text/plain": [
              "array([[25.],\n",
              "       [38.],\n",
              "       [28.],\n",
              "       ...,\n",
              "       [25.],\n",
              "       [15.],\n",
              "       [44.]], dtype=float32)"
            ]
          },
          "metadata": {
            "tags": []
          },
          "execution_count": 8
        }
      ]
    },
    {
      "cell_type": "code",
      "metadata": {
        "id": "rBmr-805PlSa",
        "outputId": "0baa469c-b178-46e7-b9e2-b49adaa72cf4",
        "colab": {
          "base_uri": "https://localhost:8080/"
        }
      },
      "source": [
        "target_data"
      ],
      "execution_count": 9,
      "outputs": [
        {
          "output_type": "execute_result",
          "data": {
            "text/plain": [
              "array([[1., 0.],\n",
              "       [1., 0.],\n",
              "       [1., 0.],\n",
              "       ...,\n",
              "       [1., 0.],\n",
              "       [0., 1.],\n",
              "       [1., 0.]], dtype=float32)"
            ]
          },
          "metadata": {
            "tags": []
          },
          "execution_count": 9
        }
      ]
    },
    {
      "cell_type": "markdown",
      "metadata": {
        "id": "6EgvQYD0eq4I"
      },
      "source": [
        "# Importamos las clases que utilizaremos:"
      ]
    },
    {
      "cell_type": "code",
      "metadata": {
        "id": "7M_aO9inU9ta",
        "outputId": "7430e3ac-c7af-4e3a-c717-1153c3a51e5b",
        "colab": {
          "base_uri": "https://localhost:8080/",
          "height": 330
        }
      },
      "source": [
        "from keras.models import Sequential #De Keras importamos el tipo de modelo Sequential\n",
        "from keras.layers.core import Input, Dense # y el tipo de capa Dense que es la «normal».\n",
        "from keras.layers import Conv2D, MaxPooling2D, Flatten"
      ],
      "execution_count": 94,
      "outputs": [
        {
          "output_type": "error",
          "ename": "ImportError",
          "evalue": "ignored",
          "traceback": [
            "\u001b[0;31m---------------------------------------------------------------------------\u001b[0m",
            "\u001b[0;31mImportError\u001b[0m                               Traceback (most recent call last)",
            "\u001b[0;32m<ipython-input-94-8835b243bfb9>\u001b[0m in \u001b[0;36m<module>\u001b[0;34m()\u001b[0m\n\u001b[1;32m      1\u001b[0m \u001b[0;32mfrom\u001b[0m \u001b[0mkeras\u001b[0m\u001b[0;34m.\u001b[0m\u001b[0mmodels\u001b[0m \u001b[0;32mimport\u001b[0m \u001b[0mSequential\u001b[0m \u001b[0;31m#De Keras importamos el tipo de modelo Sequential\u001b[0m\u001b[0;34m\u001b[0m\u001b[0;34m\u001b[0m\u001b[0m\n\u001b[0;32m----> 2\u001b[0;31m \u001b[0;32mfrom\u001b[0m \u001b[0mkeras\u001b[0m\u001b[0;34m.\u001b[0m\u001b[0mlayers\u001b[0m\u001b[0;34m.\u001b[0m\u001b[0mcore\u001b[0m \u001b[0;32mimport\u001b[0m \u001b[0mInput\u001b[0m\u001b[0;34m,\u001b[0m \u001b[0mDense\u001b[0m \u001b[0;31m# y el tipo de capa Dense que es la «normal».\u001b[0m\u001b[0;34m\u001b[0m\u001b[0;34m\u001b[0m\u001b[0m\n\u001b[0m\u001b[1;32m      3\u001b[0m \u001b[0;32mfrom\u001b[0m \u001b[0mkeras\u001b[0m\u001b[0;34m.\u001b[0m\u001b[0mlayers\u001b[0m \u001b[0;32mimport\u001b[0m \u001b[0mConv2D\u001b[0m\u001b[0;34m,\u001b[0m \u001b[0mMaxPooling2D\u001b[0m\u001b[0;34m,\u001b[0m \u001b[0mFlatten\u001b[0m\u001b[0;34m\u001b[0m\u001b[0;34m\u001b[0m\u001b[0m\n",
            "\u001b[0;31mImportError\u001b[0m: cannot import name 'Input'",
            "",
            "\u001b[0;31m---------------------------------------------------------------------------\u001b[0;32m\nNOTE: If your import is failing due to a missing package, you can\nmanually install dependencies using either !pip or !apt.\n\nTo view examples of installing some common dependencies, click the\n\"Open Examples\" button below.\n\u001b[0;31m---------------------------------------------------------------------------\u001b[0m\n"
          ]
        }
      ]
    },
    {
      "cell_type": "markdown",
      "metadata": {
        "id": "bA4WA-vzfBmm"
      },
      "source": [
        "# Ahora crearemos la arquitectura de nuestra red neuronal:"
      ]
    },
    {
      "cell_type": "code",
      "metadata": {
        "id": "FcA6Yoo2f0mL"
      },
      "source": [
        "funcionesActivacion = {\n",
        "    \"relu\" : \"relu\",\n",
        "    \"simoide\" : 'sigmoid', \n",
        "    \"tangente\" : \"tanh\",\n",
        "    \"softmax\" : \"softmax\"\n",
        "}"
      ],
      "execution_count": 11,
      "outputs": []
    },
    {
      "cell_type": "markdown",
      "metadata": {
        "id": "dhbWUCU1wK9s"
      },
      "source": [
        "Piense en un modelo secuencial como una tubería con sus datos brutos introducidos en la parte inferior y las predicciones que salen en la parte superior. Esta es una concepción útil en Keras, ya que las preocupaciones que tradicionalmente se asociaban con una capa también pueden dividirse y añadirse como capas separadas, mostrando claramente su papel en la transformación de los datos de entrada a predicción. Por ejemplo, las funciones de activación que transforman una señal sumada de cada neurona en una capa, pueden ser extraídas y añadidas a la Sequencial como un objeto similar a una capa llamado la clase Activation."
      ]
    },
    {
      "cell_type": "code",
      "metadata": {
        "id": "TliwwkLlasoh",
        "outputId": "8e0ba0f9-cb77-48c7-b588-1e9a7199c7bc",
        "colab": {
          "base_uri": "https://localhost:8080/",
          "height": 246
        }
      },
      "source": [
        "numeroEntradas = 1\n",
        "NumeroNeuronasEntrada = numeroEntradas\n",
        "NumeroNeuronasPrimeraCapaOculta = 2\n",
        "\n",
        "numeroSalidas = 2\n",
        "NumeroNeuronasSalida = numeroSalidas\n",
        "\n",
        "model = Sequential()\n",
        "model.add(Input(NumeroNeuronasEntrada))\n",
        "model.add(Dense(NumeroNeuronasPrimeraCapaOculta, activation=funcionesActivacion['relu']), name=\"Capa 1\") #La mas probada por dar buenos resultados es la relu\n",
        "model.add(Dense(NumeroNeuronasSalida, activation=funcionesActivacion['simoide']), name=\"Capa 2\") #Añadimos dos capas tipo dense, una para cada salida\n",
        "\n",
        "model.summary()"
      ],
      "execution_count": 93,
      "outputs": [
        {
          "output_type": "error",
          "ename": "NameError",
          "evalue": "ignored",
          "traceback": [
            "\u001b[0;31m---------------------------------------------------------------------------\u001b[0m",
            "\u001b[0;31mNameError\u001b[0m                                 Traceback (most recent call last)",
            "\u001b[0;32m<ipython-input-93-7c26f7cf6e52>\u001b[0m in \u001b[0;36m<module>\u001b[0;34m()\u001b[0m\n\u001b[1;32m      7\u001b[0m \u001b[0;34m\u001b[0m\u001b[0m\n\u001b[1;32m      8\u001b[0m \u001b[0mmodel\u001b[0m \u001b[0;34m=\u001b[0m \u001b[0mSequential\u001b[0m\u001b[0;34m(\u001b[0m\u001b[0;34m)\u001b[0m\u001b[0;34m\u001b[0m\u001b[0;34m\u001b[0m\u001b[0m\n\u001b[0;32m----> 9\u001b[0;31m \u001b[0mmodel\u001b[0m\u001b[0;34m.\u001b[0m\u001b[0madd\u001b[0m\u001b[0;34m(\u001b[0m\u001b[0mInput\u001b[0m\u001b[0;34m(\u001b[0m\u001b[0mNumeroNeuronasEntrada\u001b[0m\u001b[0;34m)\u001b[0m\u001b[0;34m)\u001b[0m\u001b[0;34m\u001b[0m\u001b[0;34m\u001b[0m\u001b[0m\n\u001b[0m\u001b[1;32m     10\u001b[0m \u001b[0mmodel\u001b[0m\u001b[0;34m.\u001b[0m\u001b[0madd\u001b[0m\u001b[0;34m(\u001b[0m\u001b[0mDense\u001b[0m\u001b[0;34m(\u001b[0m\u001b[0mNumeroNeuronasPrimeraCapaOculta\u001b[0m\u001b[0;34m,\u001b[0m \u001b[0mactivation\u001b[0m\u001b[0;34m=\u001b[0m\u001b[0mfuncionesActivacion\u001b[0m\u001b[0;34m[\u001b[0m\u001b[0;34m'relu'\u001b[0m\u001b[0;34m]\u001b[0m\u001b[0;34m)\u001b[0m\u001b[0;34m)\u001b[0m \u001b[0;31m#La mas probada por dar buenos resultados es la relu\u001b[0m\u001b[0;34m\u001b[0m\u001b[0;34m\u001b[0m\u001b[0m\n\u001b[1;32m     11\u001b[0m \u001b[0mmodel\u001b[0m\u001b[0;34m.\u001b[0m\u001b[0madd\u001b[0m\u001b[0;34m(\u001b[0m\u001b[0mDense\u001b[0m\u001b[0;34m(\u001b[0m\u001b[0mNumeroNeuronasSalida\u001b[0m\u001b[0;34m,\u001b[0m \u001b[0mactivation\u001b[0m\u001b[0;34m=\u001b[0m\u001b[0mfuncionesActivacion\u001b[0m\u001b[0;34m[\u001b[0m\u001b[0;34m'simoide'\u001b[0m\u001b[0;34m]\u001b[0m\u001b[0;34m)\u001b[0m\u001b[0;34m)\u001b[0m \u001b[0;31m#Añadimos dos capas tipo dense, una para cada salida\u001b[0m\u001b[0;34m\u001b[0m\u001b[0;34m\u001b[0m\u001b[0m\n",
            "\u001b[0;31mNameError\u001b[0m: name 'Input' is not defined"
          ]
        }
      ]
    },
    {
      "cell_type": "code",
      "metadata": {
        "id": "iZFvxHKrwtnP",
        "outputId": "34be0ff5-3350-47c4-8e10-241b92f9fa3b",
        "colab": {
          "base_uri": "https://localhost:8080/",
          "height": 272
        }
      },
      "source": [
        "from keras.utils import plot_model\n",
        "# gráfico de trazado\n",
        "plot_model(model, to_file='Red_Neuronall.png')"
      ],
      "execution_count": 13,
      "outputs": [
        {
          "output_type": "execute_result",
          "data": {
            "image/png": "[encoded data removed]",
            "text/plain": [
              "<IPython.core.display.Image object>"
            ]
          },
          "metadata": {
            "tags": []
          },
          "execution_count": 13
        }
      ]
    },
    {
      "cell_type": "markdown",
      "metadata": {
        "id": "dJdumwX1fRg1"
      },
      "source": [
        "Primero creamos un modelo vació de tipo Sequential. Este modelo se refiere a que crearemos una serie de capas de neuronas secuenciales, «una delante de otra»."
      ]
    },
    {
      "cell_type": "markdown",
      "metadata": {
        "id": "XNqj1ZhogrPa"
      },
      "source": [
        "# A Entrenar la red!"
      ]
    },
    {
      "cell_type": "markdown",
      "metadata": {
        "id": "kx0t8qoWgvIO"
      },
      "source": [
        "Antes de de entrenar la red haremos unos ajustes de nuestro modelo:"
      ]
    },
    {
      "cell_type": "code",
      "metadata": {
        "id": "QjNcej8CgvOI"
      },
      "source": [
        "model.compile(loss='mean_squared_error',  #Usamos el error cuadratico para tener valores absolutos y facil de medir\n",
        "              optimizer='adam',  #Adam es un tipo de optimizador que no requiere parámetros de learning rate explícitos sino que los estima\n",
        "              metrics=['binary_accuracy'])  #Finalmente algo que no hemos visto son las métricas. Son funciones útiles que ayudan a monitorizar el proceso pero que no participan activamente en el entrenamiento."
      ],
      "execution_count": 14,
      "outputs": []
    },
    {
      "cell_type": "markdown",
      "metadata": {
        "id": "vsM_p5tpg-vb"
      },
      "source": [
        "Con esto indicamos el tipo de pérdida (loss) que utilizaremos, el «optimizador» de los pesos de las conexiones de las neuronas y las métricas que queremos obtener."
      ]
    },
    {
      "cell_type": "markdown",
      "metadata": {
        "id": "w4zkngBShBTE"
      },
      "source": [
        "### Ahora sí que entrenaremos la red:"
      ]
    },
    {
      "cell_type": "markdown",
      "metadata": {
        "id": "jFfa8vVBhHWN"
      },
      "source": [
        "Indicamos con model.fit() las entradas y sus salidas y la cantidad de iteraciones de aprendizaje (epochs) de entrenamiento."
      ]
    },
    {
      "cell_type": "code",
      "metadata": {
        "id": "Zb_tRmSlbB4U",
        "outputId": "9787d7cd-fd81-424f-8d6a-2baead07ea97",
        "colab": {
          "base_uri": "https://localhost:8080/"
        }
      },
      "source": [
        "history = model.fit(training_data, target_data, epochs=250)"
      ],
      "execution_count": 88,
      "outputs": [
        {
          "output_type": "stream",
          "text": [
            "Epoch 1/250\n",
            "152/152 [==============================] - 0s 938us/step - loss: 0.0014 - binary_accuracy: 1.0000\n",
            "Epoch 2/250\n",
            "152/152 [==============================] - 0s 818us/step - loss: 0.0014 - binary_accuracy: 1.0000\n",
            "Epoch 3/250\n",
            "152/152 [==============================] - 0s 880us/step - loss: 0.0013 - binary_accuracy: 1.0000\n",
            "Epoch 4/250\n",
            "152/152 [==============================] - 0s 943us/step - loss: 0.0013 - binary_accuracy: 1.0000\n",
            "Epoch 5/250\n",
            "152/152 [==============================] - 0s 980us/step - loss: 0.0013 - binary_accuracy: 1.0000\n",
            "Epoch 6/250\n",
            "152/152 [==============================] - 0s 902us/step - loss: 0.0013 - binary_accuracy: 1.0000\n",
            "Epoch 7/250\n",
            "152/152 [==============================] - 0s 936us/step - loss: 0.0013 - binary_accuracy: 1.0000\n",
            "Epoch 8/250\n",
            "152/152 [==============================] - 0s 938us/step - loss: 0.0013 - binary_accuracy: 1.0000\n",
            "Epoch 9/250\n",
            "152/152 [==============================] - 0s 826us/step - loss: 0.0013 - binary_accuracy: 1.0000\n",
            "Epoch 10/250\n",
            "152/152 [==============================] - 0s 825us/step - loss: 0.0012 - binary_accuracy: 1.0000\n",
            "Epoch 11/250\n",
            "152/152 [==============================] - 0s 797us/step - loss: 0.0012 - binary_accuracy: 1.0000\n",
            "Epoch 12/250\n",
            "152/152 [==============================] - 0s 834us/step - loss: 0.0012 - binary_accuracy: 1.0000\n",
            "Epoch 13/250\n",
            "152/152 [==============================] - 0s 811us/step - loss: 0.0012 - binary_accuracy: 1.0000\n",
            "Epoch 14/250\n",
            "152/152 [==============================] - 0s 869us/step - loss: 0.0012 - binary_accuracy: 1.0000\n",
            "Epoch 15/250\n",
            "152/152 [==============================] - 0s 837us/step - loss: 0.0012 - binary_accuracy: 1.0000\n",
            "Epoch 16/250\n",
            "152/152 [==============================] - 0s 969us/step - loss: 0.0011 - binary_accuracy: 1.0000\n",
            "Epoch 17/250\n",
            "152/152 [==============================] - 0s 823us/step - loss: 0.0011 - binary_accuracy: 1.0000\n",
            "Epoch 18/250\n",
            "152/152 [==============================] - 0s 847us/step - loss: 0.0011 - binary_accuracy: 1.0000\n",
            "Epoch 19/250\n",
            "152/152 [==============================] - 0s 821us/step - loss: 0.0011 - binary_accuracy: 1.0000\n",
            "Epoch 20/250\n",
            "152/152 [==============================] - 0s 892us/step - loss: 0.0011 - binary_accuracy: 1.0000\n",
            "Epoch 21/250\n",
            "152/152 [==============================] - 0s 842us/step - loss: 0.0011 - binary_accuracy: 1.0000\n",
            "Epoch 22/250\n",
            "152/152 [==============================] - 0s 848us/step - loss: 0.0010 - binary_accuracy: 1.0000\n",
            "Epoch 23/250\n",
            "152/152 [==============================] - 0s 898us/step - loss: 0.0010 - binary_accuracy: 1.0000\n",
            "Epoch 24/250\n",
            "152/152 [==============================] - 0s 795us/step - loss: 0.0010 - binary_accuracy: 1.0000\n",
            "Epoch 25/250\n",
            "152/152 [==============================] - 0s 833us/step - loss: 0.0010 - binary_accuracy: 1.0000\n",
            "Epoch 26/250\n",
            "152/152 [==============================] - 0s 828us/step - loss: 9.9351e-04 - binary_accuracy: 1.0000\n",
            "Epoch 27/250\n",
            "152/152 [==============================] - 0s 811us/step - loss: 9.6991e-04 - binary_accuracy: 1.0000\n",
            "Epoch 28/250\n",
            "152/152 [==============================] - 0s 859us/step - loss: 9.4398e-04 - binary_accuracy: 1.0000\n",
            "Epoch 29/250\n",
            "152/152 [==============================] - 0s 934us/step - loss: 9.4409e-04 - binary_accuracy: 1.0000\n",
            "Epoch 30/250\n",
            "152/152 [==============================] - 0s 909us/step - loss: 9.2428e-04 - binary_accuracy: 1.0000\n",
            "Epoch 31/250\n",
            "152/152 [==============================] - 0s 853us/step - loss: 9.4848e-04 - binary_accuracy: 1.0000\n",
            "Epoch 32/250\n",
            "152/152 [==============================] - 0s 818us/step - loss: 9.0572e-04 - binary_accuracy: 1.0000\n",
            "Epoch 33/250\n",
            "152/152 [==============================] - 0s 873us/step - loss: 8.8965e-04 - binary_accuracy: 1.0000\n",
            "Epoch 34/250\n",
            "152/152 [==============================] - 0s 837us/step - loss: 8.9671e-04 - binary_accuracy: 1.0000\n",
            "Epoch 35/250\n",
            "152/152 [==============================] - 0s 861us/step - loss: 9.1114e-04 - binary_accuracy: 1.0000\n",
            "Epoch 36/250\n",
            "152/152 [==============================] - 0s 825us/step - loss: 8.5804e-04 - binary_accuracy: 1.0000\n",
            "Epoch 37/250\n",
            "152/152 [==============================] - 0s 836us/step - loss: 8.6027e-04 - binary_accuracy: 1.0000\n",
            "Epoch 38/250\n",
            "152/152 [==============================] - 0s 887us/step - loss: 8.4494e-04 - binary_accuracy: 1.0000\n",
            "Epoch 39/250\n",
            "152/152 [==============================] - 0s 854us/step - loss: 8.0982e-04 - binary_accuracy: 1.0000\n",
            "Epoch 40/250\n",
            "152/152 [==============================] - 0s 806us/step - loss: 8.0455e-04 - binary_accuracy: 1.0000\n",
            "Epoch 41/250\n",
            "152/152 [==============================] - 0s 806us/step - loss: 8.2053e-04 - binary_accuracy: 1.0000\n",
            "Epoch 42/250\n",
            "152/152 [==============================] - 0s 835us/step - loss: 7.8921e-04 - binary_accuracy: 1.0000\n",
            "Epoch 43/250\n",
            "152/152 [==============================] - 0s 887us/step - loss: 7.9808e-04 - binary_accuracy: 1.0000\n",
            "Epoch 44/250\n",
            "152/152 [==============================] - 0s 830us/step - loss: 7.7144e-04 - binary_accuracy: 1.0000\n",
            "Epoch 45/250\n",
            "152/152 [==============================] - 0s 845us/step - loss: 7.5116e-04 - binary_accuracy: 1.0000\n",
            "Epoch 46/250\n",
            "152/152 [==============================] - 0s 899us/step - loss: 7.3950e-04 - binary_accuracy: 1.0000\n",
            "Epoch 47/250\n",
            "152/152 [==============================] - 0s 870us/step - loss: 7.4874e-04 - binary_accuracy: 1.0000\n",
            "Epoch 48/250\n",
            "152/152 [==============================] - 0s 959us/step - loss: 7.2572e-04 - binary_accuracy: 1.0000\n",
            "Epoch 49/250\n",
            "152/152 [==============================] - 0s 913us/step - loss: 7.2623e-04 - binary_accuracy: 1.0000\n",
            "Epoch 50/250\n",
            "152/152 [==============================] - 0s 981us/step - loss: 7.2609e-04 - binary_accuracy: 1.0000\n",
            "Epoch 51/250\n",
            "152/152 [==============================] - 0s 903us/step - loss: 6.9533e-04 - binary_accuracy: 1.0000\n",
            "Epoch 52/250\n",
            "152/152 [==============================] - 0s 1ms/step - loss: 7.0885e-04 - binary_accuracy: 1.0000\n",
            "Epoch 53/250\n",
            "152/152 [==============================] - 0s 862us/step - loss: 6.9489e-04 - binary_accuracy: 1.0000\n",
            "Epoch 54/250\n",
            "152/152 [==============================] - 0s 940us/step - loss: 6.6743e-04 - binary_accuracy: 1.0000\n",
            "Epoch 55/250\n",
            "152/152 [==============================] - 0s 938us/step - loss: 6.6982e-04 - binary_accuracy: 1.0000\n",
            "Epoch 56/250\n",
            "152/152 [==============================] - 0s 944us/step - loss: 6.6820e-04 - binary_accuracy: 1.0000\n",
            "Epoch 57/250\n",
            "152/152 [==============================] - 0s 1ms/step - loss: 6.6041e-04 - binary_accuracy: 1.0000\n",
            "Epoch 58/250\n",
            "152/152 [==============================] - 0s 947us/step - loss: 6.4500e-04 - binary_accuracy: 1.0000\n",
            "Epoch 59/250\n",
            "152/152 [==============================] - 0s 938us/step - loss: 6.2137e-04 - binary_accuracy: 1.0000\n",
            "Epoch 60/250\n",
            "152/152 [==============================] - 0s 1ms/step - loss: 6.0188e-04 - binary_accuracy: 1.0000\n",
            "Epoch 61/250\n",
            "152/152 [==============================] - 0s 945us/step - loss: 6.1016e-04 - binary_accuracy: 1.0000\n",
            "Epoch 62/250\n",
            "152/152 [==============================] - 0s 939us/step - loss: 6.1365e-04 - binary_accuracy: 1.0000\n",
            "Epoch 63/250\n",
            "152/152 [==============================] - 0s 982us/step - loss: 5.8947e-04 - binary_accuracy: 1.0000\n",
            "Epoch 64/250\n",
            "152/152 [==============================] - 0s 947us/step - loss: 5.6892e-04 - binary_accuracy: 1.0000\n",
            "Epoch 65/250\n",
            "152/152 [==============================] - 0s 914us/step - loss: 5.6798e-04 - binary_accuracy: 1.0000\n",
            "Epoch 66/250\n",
            "152/152 [==============================] - 0s 933us/step - loss: 6.3800e-04 - binary_accuracy: 1.0000\n",
            "Epoch 67/250\n",
            "152/152 [==============================] - 0s 1ms/step - loss: 5.9826e-04 - binary_accuracy: 1.0000\n",
            "Epoch 68/250\n",
            "152/152 [==============================] - 0s 939us/step - loss: 5.5808e-04 - binary_accuracy: 1.0000\n",
            "Epoch 69/250\n",
            "152/152 [==============================] - 0s 957us/step - loss: 5.4783e-04 - binary_accuracy: 1.0000\n",
            "Epoch 70/250\n",
            "152/152 [==============================] - 0s 1ms/step - loss: 5.3545e-04 - binary_accuracy: 1.0000\n",
            "Epoch 71/250\n",
            "152/152 [==============================] - 0s 978us/step - loss: 5.2388e-04 - binary_accuracy: 1.0000\n",
            "Epoch 72/250\n",
            "152/152 [==============================] - 0s 928us/step - loss: 5.2930e-04 - binary_accuracy: 1.0000\n",
            "Epoch 73/250\n",
            "152/152 [==============================] - 0s 984us/step - loss: 5.1498e-04 - binary_accuracy: 1.0000\n",
            "Epoch 74/250\n",
            "152/152 [==============================] - 0s 946us/step - loss: 5.1670e-04 - binary_accuracy: 1.0000\n",
            "Epoch 75/250\n",
            "152/152 [==============================] - 0s 943us/step - loss: 5.0871e-04 - binary_accuracy: 1.0000\n",
            "Epoch 76/250\n",
            "152/152 [==============================] - 0s 992us/step - loss: 4.8675e-04 - binary_accuracy: 1.0000\n",
            "Epoch 77/250\n",
            "152/152 [==============================] - 0s 1ms/step - loss: 4.8939e-04 - binary_accuracy: 1.0000\n",
            "Epoch 78/250\n",
            "152/152 [==============================] - 0s 969us/step - loss: 4.8151e-04 - binary_accuracy: 1.0000\n",
            "Epoch 79/250\n",
            "152/152 [==============================] - 0s 954us/step - loss: 4.6180e-04 - binary_accuracy: 1.0000\n",
            "Epoch 80/250\n",
            "152/152 [==============================] - 0s 987us/step - loss: 4.6108e-04 - binary_accuracy: 1.0000\n",
            "Epoch 81/250\n",
            "152/152 [==============================] - 0s 1ms/step - loss: 4.5896e-04 - binary_accuracy: 1.0000\n",
            "Epoch 82/250\n",
            "152/152 [==============================] - 0s 963us/step - loss: 4.4488e-04 - binary_accuracy: 1.0000\n",
            "Epoch 83/250\n",
            "152/152 [==============================] - 0s 976us/step - loss: 4.6380e-04 - binary_accuracy: 1.0000\n",
            "Epoch 84/250\n",
            "152/152 [==============================] - 0s 918us/step - loss: 4.3893e-04 - binary_accuracy: 1.0000\n",
            "Epoch 85/250\n",
            "152/152 [==============================] - 0s 944us/step - loss: 4.4276e-04 - binary_accuracy: 1.0000\n",
            "Epoch 86/250\n",
            "152/152 [==============================] - 0s 1ms/step - loss: 4.4351e-04 - binary_accuracy: 1.0000\n",
            "Epoch 87/250\n",
            "152/152 [==============================] - 0s 1ms/step - loss: 4.2984e-04 - binary_accuracy: 1.0000\n",
            "Epoch 88/250\n",
            "152/152 [==============================] - 0s 1ms/step - loss: 4.1329e-04 - binary_accuracy: 1.0000\n",
            "Epoch 89/250\n",
            "152/152 [==============================] - 0s 1ms/step - loss: 4.2136e-04 - binary_accuracy: 1.0000\n",
            "Epoch 90/250\n",
            "152/152 [==============================] - 0s 1ms/step - loss: 4.0620e-04 - binary_accuracy: 1.0000\n",
            "Epoch 91/250\n",
            "152/152 [==============================] - 0s 1ms/step - loss: 3.9473e-04 - binary_accuracy: 1.0000\n",
            "Epoch 92/250\n",
            "152/152 [==============================] - 0s 964us/step - loss: 3.9051e-04 - binary_accuracy: 1.0000\n",
            "Epoch 93/250\n",
            "152/152 [==============================] - 0s 945us/step - loss: 3.9676e-04 - binary_accuracy: 1.0000\n",
            "Epoch 94/250\n",
            "152/152 [==============================] - 0s 1ms/step - loss: 3.9214e-04 - binary_accuracy: 1.0000\n",
            "Epoch 95/250\n",
            "152/152 [==============================] - 0s 1ms/step - loss: 3.8920e-04 - binary_accuracy: 1.0000\n",
            "Epoch 96/250\n",
            "152/152 [==============================] - 0s 1ms/step - loss: 3.8419e-04 - binary_accuracy: 1.0000\n",
            "Epoch 97/250\n",
            "152/152 [==============================] - 0s 1ms/step - loss: 3.6291e-04 - binary_accuracy: 1.0000\n",
            "Epoch 98/250\n",
            "152/152 [==============================] - 0s 998us/step - loss: 3.7934e-04 - binary_accuracy: 1.0000\n",
            "Epoch 99/250\n",
            "152/152 [==============================] - 0s 1ms/step - loss: 3.5217e-04 - binary_accuracy: 1.0000\n",
            "Epoch 100/250\n",
            "152/152 [==============================] - 0s 1ms/step - loss: 3.6260e-04 - binary_accuracy: 1.0000\n",
            "Epoch 101/250\n",
            "152/152 [==============================] - 0s 1ms/step - loss: 3.4791e-04 - binary_accuracy: 1.0000\n",
            "Epoch 102/250\n",
            "152/152 [==============================] - 0s 1ms/step - loss: 3.6430e-04 - binary_accuracy: 1.0000\n",
            "Epoch 103/250\n",
            "152/152 [==============================] - 0s 1ms/step - loss: 3.5777e-04 - binary_accuracy: 1.0000\n",
            "Epoch 104/250\n",
            "152/152 [==============================] - 0s 948us/step - loss: 3.6285e-04 - binary_accuracy: 1.0000\n",
            "Epoch 105/250\n",
            "152/152 [==============================] - 0s 985us/step - loss: 3.2662e-04 - binary_accuracy: 1.0000\n",
            "Epoch 106/250\n",
            "152/152 [==============================] - 0s 976us/step - loss: 3.2034e-04 - binary_accuracy: 1.0000\n",
            "Epoch 107/250\n",
            "152/152 [==============================] - 0s 947us/step - loss: 3.2195e-04 - binary_accuracy: 1.0000\n",
            "Epoch 108/250\n",
            "152/152 [==============================] - 0s 1ms/step - loss: 3.1260e-04 - binary_accuracy: 1.0000\n",
            "Epoch 109/250\n",
            "152/152 [==============================] - 0s 1ms/step - loss: 3.0962e-04 - binary_accuracy: 1.0000\n",
            "Epoch 110/250\n",
            "152/152 [==============================] - 0s 943us/step - loss: 3.2174e-04 - binary_accuracy: 1.0000\n",
            "Epoch 111/250\n",
            "152/152 [==============================] - 0s 1ms/step - loss: 3.1076e-04 - binary_accuracy: 1.0000\n",
            "Epoch 112/250\n",
            "152/152 [==============================] - 0s 947us/step - loss: 2.9732e-04 - binary_accuracy: 1.0000\n",
            "Epoch 113/250\n",
            "152/152 [==============================] - 0s 979us/step - loss: 3.0194e-04 - binary_accuracy: 1.0000\n",
            "Epoch 114/250\n",
            "152/152 [==============================] - 0s 1ms/step - loss: 2.8671e-04 - binary_accuracy: 1.0000\n",
            "Epoch 115/250\n",
            "152/152 [==============================] - 0s 961us/step - loss: 2.8748e-04 - binary_accuracy: 1.0000\n",
            "Epoch 116/250\n",
            "152/152 [==============================] - 0s 999us/step - loss: 2.8346e-04 - binary_accuracy: 1.0000\n",
            "Epoch 117/250\n",
            "152/152 [==============================] - 0s 972us/step - loss: 2.9607e-04 - binary_accuracy: 1.0000\n",
            "Epoch 118/250\n",
            "152/152 [==============================] - 0s 934us/step - loss: 2.7555e-04 - binary_accuracy: 1.0000\n",
            "Epoch 119/250\n",
            "152/152 [==============================] - 0s 880us/step - loss: 2.8183e-04 - binary_accuracy: 1.0000\n",
            "Epoch 120/250\n",
            "152/152 [==============================] - 0s 966us/step - loss: 2.5932e-04 - binary_accuracy: 1.0000\n",
            "Epoch 121/250\n",
            "152/152 [==============================] - 0s 985us/step - loss: 2.6230e-04 - binary_accuracy: 1.0000\n",
            "Epoch 122/250\n",
            "152/152 [==============================] - 0s 1ms/step - loss: 2.5619e-04 - binary_accuracy: 1.0000\n",
            "Epoch 123/250\n",
            "152/152 [==============================] - 0s 842us/step - loss: 2.5312e-04 - binary_accuracy: 1.0000\n",
            "Epoch 124/250\n",
            "152/152 [==============================] - 0s 988us/step - loss: 2.5275e-04 - binary_accuracy: 1.0000\n",
            "Epoch 125/250\n",
            "152/152 [==============================] - 0s 970us/step - loss: 2.5689e-04 - binary_accuracy: 1.0000\n",
            "Epoch 126/250\n",
            "152/152 [==============================] - 0s 946us/step - loss: 2.4667e-04 - binary_accuracy: 1.0000\n",
            "Epoch 127/250\n",
            "152/152 [==============================] - 0s 979us/step - loss: 2.4417e-04 - binary_accuracy: 1.0000\n",
            "Epoch 128/250\n",
            "152/152 [==============================] - 0s 956us/step - loss: 2.3232e-04 - binary_accuracy: 1.0000\n",
            "Epoch 129/250\n",
            "152/152 [==============================] - 0s 884us/step - loss: 2.3223e-04 - binary_accuracy: 1.0000\n",
            "Epoch 130/250\n",
            "152/152 [==============================] - 0s 844us/step - loss: 2.2777e-04 - binary_accuracy: 1.0000\n",
            "Epoch 131/250\n",
            "152/152 [==============================] - 0s 827us/step - loss: 2.2789e-04 - binary_accuracy: 1.0000\n",
            "Epoch 132/250\n",
            "152/152 [==============================] - 0s 831us/step - loss: 2.4585e-04 - binary_accuracy: 1.0000\n",
            "Epoch 133/250\n",
            "152/152 [==============================] - 0s 912us/step - loss: 2.2814e-04 - binary_accuracy: 1.0000\n",
            "Epoch 134/250\n",
            "152/152 [==============================] - 0s 816us/step - loss: 2.2794e-04 - binary_accuracy: 1.0000\n",
            "Epoch 135/250\n",
            "152/152 [==============================] - 0s 881us/step - loss: 2.1392e-04 - binary_accuracy: 1.0000\n",
            "Epoch 136/250\n",
            "152/152 [==============================] - 0s 838us/step - loss: 2.2128e-04 - binary_accuracy: 1.0000\n",
            "Epoch 137/250\n",
            "152/152 [==============================] - 0s 872us/step - loss: 2.1883e-04 - binary_accuracy: 1.0000\n",
            "Epoch 138/250\n",
            "152/152 [==============================] - 0s 842us/step - loss: 2.1369e-04 - binary_accuracy: 1.0000\n",
            "Epoch 139/250\n",
            "152/152 [==============================] - 0s 876us/step - loss: 2.0415e-04 - binary_accuracy: 1.0000\n",
            "Epoch 140/250\n",
            "152/152 [==============================] - 0s 891us/step - loss: 2.1396e-04 - binary_accuracy: 1.0000\n",
            "Epoch 141/250\n",
            "152/152 [==============================] - 0s 869us/step - loss: 2.0890e-04 - binary_accuracy: 1.0000\n",
            "Epoch 142/250\n",
            "152/152 [==============================] - 0s 944us/step - loss: 1.9311e-04 - binary_accuracy: 1.0000\n",
            "Epoch 143/250\n",
            "152/152 [==============================] - 0s 839us/step - loss: 1.9298e-04 - binary_accuracy: 1.0000\n",
            "Epoch 144/250\n",
            "152/152 [==============================] - 0s 914us/step - loss: 1.8949e-04 - binary_accuracy: 1.0000\n",
            "Epoch 145/250\n",
            "152/152 [==============================] - 0s 860us/step - loss: 1.8520e-04 - binary_accuracy: 1.0000\n",
            "Epoch 146/250\n",
            "152/152 [==============================] - 0s 823us/step - loss: 1.8351e-04 - binary_accuracy: 1.0000\n",
            "Epoch 147/250\n",
            "152/152 [==============================] - 0s 903us/step - loss: 1.8748e-04 - binary_accuracy: 1.0000\n",
            "Epoch 148/250\n",
            "152/152 [==============================] - 0s 866us/step - loss: 1.8173e-04 - binary_accuracy: 1.0000\n",
            "Epoch 149/250\n",
            "152/152 [==============================] - 0s 842us/step - loss: 1.8580e-04 - binary_accuracy: 1.0000\n",
            "Epoch 150/250\n",
            "152/152 [==============================] - 0s 910us/step - loss: 1.8622e-04 - binary_accuracy: 1.0000\n",
            "Epoch 151/250\n",
            "152/152 [==============================] - 0s 844us/step - loss: 1.7621e-04 - binary_accuracy: 1.0000\n",
            "Epoch 152/250\n",
            "152/152 [==============================] - 0s 944us/step - loss: 1.8164e-04 - binary_accuracy: 1.0000\n",
            "Epoch 153/250\n",
            "152/152 [==============================] - 0s 887us/step - loss: 1.6963e-04 - binary_accuracy: 1.0000\n",
            "Epoch 154/250\n",
            "152/152 [==============================] - 0s 858us/step - loss: 1.6965e-04 - binary_accuracy: 1.0000\n",
            "Epoch 155/250\n",
            "152/152 [==============================] - 0s 889us/step - loss: 1.6112e-04 - binary_accuracy: 1.0000\n",
            "Epoch 156/250\n",
            "152/152 [==============================] - 0s 962us/step - loss: 1.6619e-04 - binary_accuracy: 1.0000\n",
            "Epoch 157/250\n",
            "152/152 [==============================] - 0s 1ms/step - loss: 1.6250e-04 - binary_accuracy: 1.0000\n",
            "Epoch 158/250\n",
            "152/152 [==============================] - 0s 1ms/step - loss: 1.6422e-04 - binary_accuracy: 1.0000\n",
            "Epoch 159/250\n",
            "152/152 [==============================] - 0s 882us/step - loss: 1.5650e-04 - binary_accuracy: 1.0000\n",
            "Epoch 160/250\n",
            "152/152 [==============================] - 0s 907us/step - loss: 1.5152e-04 - binary_accuracy: 1.0000\n",
            "Epoch 161/250\n",
            "152/152 [==============================] - 0s 899us/step - loss: 1.4969e-04 - binary_accuracy: 1.0000\n",
            "Epoch 162/250\n",
            "152/152 [==============================] - 0s 845us/step - loss: 1.6558e-04 - binary_accuracy: 1.0000\n",
            "Epoch 163/250\n",
            "152/152 [==============================] - 0s 918us/step - loss: 1.4517e-04 - binary_accuracy: 1.0000\n",
            "Epoch 164/250\n",
            "152/152 [==============================] - 0s 911us/step - loss: 1.4646e-04 - binary_accuracy: 1.0000\n",
            "Epoch 165/250\n",
            "152/152 [==============================] - 0s 934us/step - loss: 1.5376e-04 - binary_accuracy: 1.0000\n",
            "Epoch 166/250\n",
            "152/152 [==============================] - 0s 873us/step - loss: 1.5192e-04 - binary_accuracy: 1.0000\n",
            "Epoch 167/250\n",
            "152/152 [==============================] - 0s 849us/step - loss: 1.3772e-04 - binary_accuracy: 1.0000\n",
            "Epoch 168/250\n",
            "152/152 [==============================] - 0s 869us/step - loss: 1.3628e-04 - binary_accuracy: 1.0000\n",
            "Epoch 169/250\n",
            "152/152 [==============================] - 0s 878us/step - loss: 1.3551e-04 - binary_accuracy: 1.0000\n",
            "Epoch 170/250\n",
            "152/152 [==============================] - 0s 853us/step - loss: 1.3208e-04 - binary_accuracy: 1.0000\n",
            "Epoch 171/250\n",
            "152/152 [==============================] - 0s 881us/step - loss: 1.3338e-04 - binary_accuracy: 1.0000\n",
            "Epoch 172/250\n",
            "152/152 [==============================] - 0s 913us/step - loss: 1.2953e-04 - binary_accuracy: 1.0000\n",
            "Epoch 173/250\n",
            "152/152 [==============================] - 0s 850us/step - loss: 1.2962e-04 - binary_accuracy: 1.0000\n",
            "Epoch 174/250\n",
            "152/152 [==============================] - 0s 895us/step - loss: 1.2662e-04 - binary_accuracy: 1.0000\n",
            "Epoch 175/250\n",
            "152/152 [==============================] - 0s 837us/step - loss: 1.2419e-04 - binary_accuracy: 1.0000\n",
            "Epoch 176/250\n",
            "152/152 [==============================] - 0s 965us/step - loss: 1.2247e-04 - binary_accuracy: 1.0000\n",
            "Epoch 177/250\n",
            "152/152 [==============================] - 0s 967us/step - loss: 1.2361e-04 - binary_accuracy: 1.0000\n",
            "Epoch 178/250\n",
            "152/152 [==============================] - 0s 1ms/step - loss: 1.2245e-04 - binary_accuracy: 1.0000\n",
            "Epoch 179/250\n",
            "152/152 [==============================] - 0s 915us/step - loss: 1.1723e-04 - binary_accuracy: 1.0000\n",
            "Epoch 180/250\n",
            "152/152 [==============================] - 0s 906us/step - loss: 1.1485e-04 - binary_accuracy: 1.0000\n",
            "Epoch 181/250\n",
            "152/152 [==============================] - 0s 856us/step - loss: 1.1910e-04 - binary_accuracy: 1.0000\n",
            "Epoch 182/250\n",
            "152/152 [==============================] - 0s 901us/step - loss: 1.1061e-04 - binary_accuracy: 1.0000\n",
            "Epoch 183/250\n",
            "152/152 [==============================] - 0s 894us/step - loss: 1.2010e-04 - binary_accuracy: 1.0000\n",
            "Epoch 184/250\n",
            "152/152 [==============================] - 0s 990us/step - loss: 1.1013e-04 - binary_accuracy: 1.0000\n",
            "Epoch 185/250\n",
            "152/152 [==============================] - 0s 878us/step - loss: 1.0720e-04 - binary_accuracy: 1.0000\n",
            "Epoch 186/250\n",
            "152/152 [==============================] - 0s 860us/step - loss: 1.1412e-04 - binary_accuracy: 1.0000\n",
            "Epoch 187/250\n",
            "152/152 [==============================] - 0s 873us/step - loss: 1.2111e-04 - binary_accuracy: 1.0000\n",
            "Epoch 188/250\n",
            "152/152 [==============================] - 0s 860us/step - loss: 1.0543e-04 - binary_accuracy: 1.0000\n",
            "Epoch 189/250\n",
            "152/152 [==============================] - 0s 852us/step - loss: 9.9402e-05 - binary_accuracy: 1.0000\n",
            "Epoch 190/250\n",
            "152/152 [==============================] - 0s 899us/step - loss: 9.9818e-05 - binary_accuracy: 1.0000\n",
            "Epoch 191/250\n",
            "152/152 [==============================] - 0s 858us/step - loss: 9.8943e-05 - binary_accuracy: 1.0000\n",
            "Epoch 192/250\n",
            "152/152 [==============================] - 0s 890us/step - loss: 1.0835e-04 - binary_accuracy: 1.0000\n",
            "Epoch 193/250\n",
            "152/152 [==============================] - 0s 922us/step - loss: 1.0590e-04 - binary_accuracy: 1.0000\n",
            "Epoch 194/250\n",
            "152/152 [==============================] - 0s 883us/step - loss: 9.5515e-05 - binary_accuracy: 1.0000\n",
            "Epoch 195/250\n",
            "152/152 [==============================] - 0s 1ms/step - loss: 9.1518e-05 - binary_accuracy: 1.0000\n",
            "Epoch 196/250\n",
            "152/152 [==============================] - 0s 946us/step - loss: 9.1955e-05 - binary_accuracy: 1.0000\n",
            "Epoch 197/250\n",
            "152/152 [==============================] - 0s 891us/step - loss: 9.0554e-05 - binary_accuracy: 1.0000\n",
            "Epoch 198/250\n",
            "152/152 [==============================] - 0s 850us/step - loss: 9.4177e-05 - binary_accuracy: 1.0000\n",
            "Epoch 199/250\n",
            "152/152 [==============================] - 0s 1ms/step - loss: 8.7081e-05 - binary_accuracy: 1.0000\n",
            "Epoch 200/250\n",
            "152/152 [==============================] - 0s 876us/step - loss: 8.6598e-05 - binary_accuracy: 1.0000\n",
            "Epoch 201/250\n",
            "152/152 [==============================] - 0s 879us/step - loss: 8.9351e-05 - binary_accuracy: 1.0000\n",
            "Epoch 202/250\n",
            "152/152 [==============================] - 0s 859us/step - loss: 8.7277e-05 - binary_accuracy: 1.0000\n",
            "Epoch 203/250\n",
            "152/152 [==============================] - 0s 873us/step - loss: 8.4922e-05 - binary_accuracy: 1.0000\n",
            "Epoch 204/250\n",
            "152/152 [==============================] - 0s 878us/step - loss: 8.2693e-05 - binary_accuracy: 1.0000\n",
            "Epoch 205/250\n",
            "152/152 [==============================] - 0s 855us/step - loss: 8.1872e-05 - binary_accuracy: 1.0000\n",
            "Epoch 206/250\n",
            "152/152 [==============================] - 0s 1ms/step - loss: 8.0704e-05 - binary_accuracy: 1.0000\n",
            "Epoch 207/250\n",
            "152/152 [==============================] - 0s 890us/step - loss: 7.9177e-05 - binary_accuracy: 1.0000\n",
            "Epoch 208/250\n",
            "152/152 [==============================] - 0s 898us/step - loss: 7.6608e-05 - binary_accuracy: 1.0000\n",
            "Epoch 209/250\n",
            "152/152 [==============================] - 0s 905us/step - loss: 7.7507e-05 - binary_accuracy: 1.0000\n",
            "Epoch 210/250\n",
            "152/152 [==============================] - 0s 1ms/step - loss: 7.3465e-05 - binary_accuracy: 1.0000\n",
            "Epoch 211/250\n",
            "152/152 [==============================] - 0s 968us/step - loss: 7.7638e-05 - binary_accuracy: 1.0000\n",
            "Epoch 212/250\n",
            "152/152 [==============================] - 0s 1ms/step - loss: 7.5109e-05 - binary_accuracy: 1.0000\n",
            "Epoch 213/250\n",
            "152/152 [==============================] - 0s 1ms/step - loss: 7.9122e-05 - binary_accuracy: 1.0000\n",
            "Epoch 214/250\n",
            "152/152 [==============================] - 0s 858us/step - loss: 7.1668e-05 - binary_accuracy: 1.0000\n",
            "Epoch 215/250\n",
            "152/152 [==============================] - 0s 845us/step - loss: 7.4392e-05 - binary_accuracy: 1.0000\n",
            "Epoch 216/250\n",
            "152/152 [==============================] - 0s 856us/step - loss: 6.8903e-05 - binary_accuracy: 1.0000\n",
            "Epoch 217/250\n",
            "152/152 [==============================] - 0s 863us/step - loss: 6.8406e-05 - binary_accuracy: 1.0000\n",
            "Epoch 218/250\n",
            "152/152 [==============================] - 0s 955us/step - loss: 6.5448e-05 - binary_accuracy: 1.0000\n",
            "Epoch 219/250\n",
            "152/152 [==============================] - 0s 862us/step - loss: 6.6236e-05 - binary_accuracy: 1.0000\n",
            "Epoch 220/250\n",
            "152/152 [==============================] - 0s 972us/step - loss: 7.0664e-05 - binary_accuracy: 1.0000\n",
            "Epoch 221/250\n",
            "152/152 [==============================] - 0s 849us/step - loss: 7.8485e-05 - binary_accuracy: 1.0000\n",
            "Epoch 222/250\n",
            "152/152 [==============================] - 0s 884us/step - loss: 6.4238e-05 - binary_accuracy: 1.0000\n",
            "Epoch 223/250\n",
            "152/152 [==============================] - 0s 845us/step - loss: 6.7954e-05 - binary_accuracy: 1.0000\n",
            "Epoch 224/250\n",
            "152/152 [==============================] - 0s 865us/step - loss: 6.2383e-05 - binary_accuracy: 1.0000\n",
            "Epoch 225/250\n",
            "152/152 [==============================] - 0s 836us/step - loss: 5.9923e-05 - binary_accuracy: 1.0000\n",
            "Epoch 226/250\n",
            "152/152 [==============================] - 0s 840us/step - loss: 6.0548e-05 - binary_accuracy: 1.0000\n",
            "Epoch 227/250\n",
            "152/152 [==============================] - 0s 852us/step - loss: 5.8230e-05 - binary_accuracy: 1.0000\n",
            "Epoch 228/250\n",
            "152/152 [==============================] - 0s 992us/step - loss: 5.8064e-05 - binary_accuracy: 1.0000\n",
            "Epoch 229/250\n",
            "152/152 [==============================] - 0s 827us/step - loss: 6.0254e-05 - binary_accuracy: 1.0000\n",
            "Epoch 230/250\n",
            "152/152 [==============================] - 0s 894us/step - loss: 6.1043e-05 - binary_accuracy: 1.0000\n",
            "Epoch 231/250\n",
            "152/152 [==============================] - 0s 969us/step - loss: 5.4410e-05 - binary_accuracy: 1.0000\n",
            "Epoch 232/250\n",
            "152/152 [==============================] - 0s 843us/step - loss: 5.6544e-05 - binary_accuracy: 1.0000\n",
            "Epoch 233/250\n",
            "152/152 [==============================] - 0s 905us/step - loss: 5.3322e-05 - binary_accuracy: 1.0000\n",
            "Epoch 234/250\n",
            "152/152 [==============================] - 0s 855us/step - loss: 5.2553e-05 - binary_accuracy: 1.0000\n",
            "Epoch 235/250\n",
            "152/152 [==============================] - 0s 943us/step - loss: 5.3057e-05 - binary_accuracy: 1.0000\n",
            "Epoch 236/250\n",
            "152/152 [==============================] - 0s 931us/step - loss: 5.0643e-05 - binary_accuracy: 1.0000\n",
            "Epoch 237/250\n",
            "152/152 [==============================] - 0s 925us/step - loss: 5.1968e-05 - binary_accuracy: 1.0000\n",
            "Epoch 238/250\n",
            "152/152 [==============================] - 0s 859us/step - loss: 5.3006e-05 - binary_accuracy: 1.0000\n",
            "Epoch 239/250\n",
            "152/152 [==============================] - 0s 891us/step - loss: 5.7592e-05 - binary_accuracy: 1.0000\n",
            "Epoch 240/250\n",
            "152/152 [==============================] - 0s 866us/step - loss: 5.1229e-05 - binary_accuracy: 1.0000\n",
            "Epoch 241/250\n",
            "152/152 [==============================] - 0s 843us/step - loss: 4.6456e-05 - binary_accuracy: 1.0000\n",
            "Epoch 242/250\n",
            "152/152 [==============================] - 0s 920us/step - loss: 4.9675e-05 - binary_accuracy: 1.0000\n",
            "Epoch 243/250\n",
            "152/152 [==============================] - 0s 890us/step - loss: 4.6578e-05 - binary_accuracy: 1.0000\n",
            "Epoch 244/250\n",
            "152/152 [==============================] - 0s 885us/step - loss: 4.4813e-05 - binary_accuracy: 1.0000\n",
            "Epoch 245/250\n",
            "152/152 [==============================] - 0s 842us/step - loss: 4.3657e-05 - binary_accuracy: 1.0000\n",
            "Epoch 246/250\n",
            "152/152 [==============================] - 0s 856us/step - loss: 4.6437e-05 - binary_accuracy: 1.0000\n",
            "Epoch 247/250\n",
            "152/152 [==============================] - 0s 900us/step - loss: 4.3296e-05 - binary_accuracy: 1.0000\n",
            "Epoch 248/250\n",
            "152/152 [==============================] - 0s 1ms/step - loss: 4.2450e-05 - binary_accuracy: 1.0000\n",
            "Epoch 249/250\n",
            "152/152 [==============================] - 0s 1ms/step - loss: 4.2289e-05 - binary_accuracy: 1.0000\n",
            "Epoch 250/250\n",
            "152/152 [==============================] - 0s 915us/step - loss: 4.3489e-05 - binary_accuracy: 1.0000\n"
          ],
          "name": "stdout"
        }
      ]
    },
    {
      "cell_type": "code",
      "metadata": {
        "id": "a9s5gv5xxxYS",
        "outputId": "6d75c869-76a9-40a0-d9f6-a27d1f9d6d79",
        "colab": {
          "base_uri": "https://localhost:8080/",
          "height": 312
        }
      },
      "source": [
        "import matplotlib.pyplot as plt\n",
        "\n",
        "# list all data in history\n",
        "print(history.history.keys())\n",
        "# summarize history for accuracy\n",
        "\n",
        "# summarize history for loss\n",
        "plt.plot(history.history['loss'])\n",
        "plt.plot(history.history['binary_accuracy'])\n",
        "plt.title('model loss')\n",
        "plt.ylabel('loss')\n",
        "plt.xlabel('epoch')\n",
        "plt.legend(['train', 'test'], loc='upper left')\n",
        "plt.show()"
      ],
      "execution_count": 16,
      "outputs": [
        {
          "output_type": "stream",
          "text": [
            "dict_keys(['loss', 'binary_accuracy'])\n"
          ],
          "name": "stdout"
        },
        {
          "output_type": "display_data",
          "data": {
            "image/png": "[encoded data removed]",
            "text/plain": [
              "<Figure size 432x288 with 1 Axes>"
            ]
          },
          "metadata": {
            "tags": [],
            "needs_background": "light"
          }
        }
      ]
    },
    {
      "cell_type": "markdown",
      "metadata": {
        "id": "VPdNvRkfhMb1"
      },
      "source": [
        "Este es un ejemplo sencillo, pero recuerda que en modelos más grandes y complejos, necesitarán más iteraciones y a la vez será más lento el entrenamiento."
      ]
    },
    {
      "cell_type": "markdown",
      "metadata": {
        "id": "B0FwHqRchYD7"
      },
      "source": [
        "Como los pesos iniciales de la red son aleatorios, puede que las salidas que tengas en tu ordenador sean levemente distintas en cuanto a las iteraciones, pero llegarás a la «precisión binaria» (binara_accuracy) de 1.0."
      ]
    },
    {
      "cell_type": "markdown",
      "metadata": {
        "id": "Bfeer-uAhbUP"
      },
      "source": [
        "### Evaluamos y Predecimos"
      ]
    },
    {
      "cell_type": "markdown",
      "metadata": {
        "id": "-PiALlGnhhSI"
      },
      "source": [
        "Primero evaluamos el modelo"
      ]
    },
    {
      "cell_type": "code",
      "metadata": {
        "id": "R1aGDDq6bLWJ",
        "outputId": "42f9d30d-3da5-4d75-c5be-1d5c4bb486b1",
        "colab": {
          "base_uri": "https://localhost:8080/"
        }
      },
      "source": [
        "scores = model.evaluate(training_data, target_data)"
      ],
      "execution_count": 17,
      "outputs": [
        {
          "output_type": "stream",
          "text": [
            "152/152 [==============================] - 0s 722us/step - loss: 0.0014 - binary_accuracy: 1.0000\n"
          ],
          "name": "stdout"
        }
      ]
    },
    {
      "cell_type": "code",
      "metadata": {
        "id": "1wY6E-_tbQmu",
        "outputId": "cdea64a2-f676-49c5-9fda-a3d9288a3972",
        "colab": {
          "base_uri": "https://localhost:8080/"
        }
      },
      "source": [
        "print(\"\\n%s: %.2f%%\" % (model.metrics_names[1], scores[1]*100))"
      ],
      "execution_count": 18,
      "outputs": [
        {
          "output_type": "stream",
          "text": [
            "\n",
            "binary_accuracy: 100.00%\n"
          ],
          "name": "stdout"
        }
      ]
    },
    {
      "cell_type": "code",
      "metadata": {
        "id": "sJT0buCxbyRg",
        "outputId": "e91cf9c7-7e68-4522-c40f-1d49f162d6c8",
        "colab": {
          "base_uri": "https://localhost:8080/"
        }
      },
      "source": [
        "def usarRedNeuronalPredecirSalidas(entrada):\n",
        "  training_data = np.array([entrada], \"float32\")\n",
        "  prediccion = model.predict(training_data).round()[0]\n",
        "\n",
        "  salida1 = int(prediccion[0])\n",
        "  salida2 = int(prediccion[1])\n",
        "  return salida1, salida2\n",
        "\n",
        "\n",
        "entrada = temperaturaAleatoria()\n",
        "salida1, salida2 = usarRedNeuronalPredecirSalidas(entrada)\n",
        "print(\"Temperatura: \", entrada)\n",
        "print(actuador[1] + \": \" + estadosActuadores[salida1])\n",
        "print(actuador[2] + \": \" + estadosActuadores[salida2])"
      ],
      "execution_count": 19,
      "outputs": [
        {
          "output_type": "stream",
          "text": [
            "Temperatura:  37\n",
            "Ventilador: ON\n",
            "Lampara calor: OFF\n"
          ],
          "name": "stdout"
        }
      ]
    },
    {
      "cell_type": "code",
      "metadata": {
        "id": "xPATphbaeFfw",
        "outputId": "a0b5cce1-60c3-4a98-a778-73684d353ede",
        "colab": {
          "base_uri": "https://localhost:8080/",
          "height": 326
        }
      },
      "source": [
        "cantidadDatosEvaludar = 30\n",
        "\n",
        "historialTemperatura = []\n",
        "historialVentilador = []\n",
        "historialCalefactor = []\n",
        "puntoEquilibrio = []\n",
        "for i in range(cantidadDatosEvaludar):\n",
        "  entrada = temperaturaAleatoria()\n",
        "  salida1, salida2 = usarRedNeuronalPredecirSalidas(entrada)\n",
        "  historialTemperatura.append(entrada)\n",
        "  historialVentilador.append(salida1*100)\n",
        "  historialCalefactor.append(salida2*100)  \n",
        "  puntoEquilibrio.append(setPoint)\n",
        "    \n",
        "    \n",
        "    \n",
        "    \n",
        "    \n",
        "    \n",
        "    \n",
        "    \n",
        "import matplotlib.pyplot as plt\n",
        "import numpy as np\n",
        "import pandas as pd\n",
        " \n",
        "# Data\n",
        "df=pd.DataFrame({\n",
        "    't': range(0,len(historialTemperatura)), \n",
        "    sensores[1]: historialTemperatura, \n",
        "    actuador[1]: historialVentilador, \n",
        "    actuador[2]: historialCalefactor , \n",
        "    \"SetPoint\": puntoEquilibrio \n",
        "})\n",
        " \n",
        "# multiple line plot\n",
        "plt.rcParams[\"figure.figsize\"] = (20,5)\n",
        "plt.plot( 't', sensores[1], data=df, marker='o', markerfacecolor='r', markersize=12, color='r', linewidth=4)\n",
        "plt.plot( 't', actuador[1], data=df, marker='v', color='b', linewidth=2)\n",
        "plt.plot( 't', \"SetPoint\", data=df, marker='', color='g', linewidth=2)\n",
        "plt.plot( 't', actuador[2], data=df, marker='^', color='y', linewidth=2, linestyle='dashed')\n",
        "plt.legend()\n"
      ],
      "execution_count": 20,
      "outputs": [
        {
          "output_type": "execute_result",
          "data": {
            "text/plain": [
              "<matplotlib.legend.Legend at 0x7f215ed74fd0>"
            ]
          },
          "metadata": {
            "tags": []
          },
          "execution_count": 20
        },
        {
          "output_type": "display_data",
          "data": {
            "image/png": "[encoded data removed]",
            "text/plain": [
              "<Figure size 1440x360 with 1 Axes>"
            ]
          },
          "metadata": {
            "tags": [],
            "needs_background": "light"
          }
        }
      ]
    },
    {
      "cell_type": "markdown",
      "metadata": {
        "id": "sqVWYtyuh_V6"
      },
      "source": [
        "# Afinando parámetros de la red neuronal"
      ]
    },
    {
      "cell_type": "markdown",
      "metadata": {
        "id": "cbFWexHDiIHE"
      },
      "source": [
        "Cantidad de capas de la red (en nuestro caso son 3)\n",
        "\n",
        "Cantidad de neuronas en cada red (nosotros tenemos 1 de entrada, 2 en capa oculta y 2 de salida)\n",
        "\n",
        "Funciones de activación de cada capa. Nosotros utilizamos relu y sigmoid\n",
        "\n",
        "Al compilar el modelo definir las funciones de pérdida, optimizer y métricas.\n",
        "\n",
        "Cantidad de iteraciones de entrenamiento."
      ]
    },
    {
      "cell_type": "code",
      "metadata": {
        "id": "5fIQTuEdiAt9"
      },
      "source": [
        "#model = Sequential()\n",
        "#model.add(Conv2D(2, (3, 3), activation='relu'))\n",
        "#model.add(MaxPooling2D(pool_size=(2, 2)))\n",
        "#model.add(Flatten())"
      ],
      "execution_count": null,
      "outputs": []
    },
    {
      "cell_type": "markdown",
      "metadata": {
        "id": "LDF-XkEXiW2P"
      },
      "source": [
        "En este ejemplo que es muy sencillo, puedes intentar variar por ejemplo la cantidad de neuronas de entrada, probar con 8 o con 32 y ver qué resultados obtienes. Por ejemplo, si necesita más o menos iteraciones para alcanzar el 100% de aciertos. "
      ]
    },
    {
      "cell_type": "markdown",
      "metadata": {
        "id": "3ZVWK_y_idTK"
      },
      "source": [
        "# Guardar la red y usarla -de verdad-"
      ]
    },
    {
      "cell_type": "markdown",
      "metadata": {
        "id": "OHLNdQAkij2v"
      },
      "source": [
        "Si esto fuera un caso real, en el cual entrenamos una red, la ajustamos y obtenemos buenos resultados, ahora deberíamos Guardar esa red ya que esa red óptima, tiene los pesos que estábamos buscando. Sería tonto y lento entrenar cada vez la red antes de «publicar en producción»."
      ]
    },
    {
      "cell_type": "markdown",
      "metadata": {
        "id": "A98K8AhNin_r"
      },
      "source": [
        "Lo que hacemos es guardar esa red y en OTRO código cargaríamos la red y la utilizamos como si fuera una librería o una funcion que creamos. Pasándole entradas y obteniendo las predicciones."
      ]
    },
    {
      "cell_type": "markdown",
      "metadata": {
        "id": "t261Sjozir9G"
      },
      "source": [
        "Para guardar y cargar nuestra red, utilizaremos el siguiente código de ejemplo:"
      ]
    },
    {
      "cell_type": "code",
      "metadata": {
        "id": "t1chvayfkHyc"
      },
      "source": [
        "nombreModeloGuardado = \"model.json\"\n",
        "nombrePesosGuardados = \"model.h5\""
      ],
      "execution_count": 21,
      "outputs": []
    },
    {
      "cell_type": "code",
      "metadata": {
        "id": "JPduVpd1iefb",
        "outputId": "9e5334d7-9da4-4cfb-c52a-db2261837826",
        "colab": {
          "base_uri": "https://localhost:8080/"
        }
      },
      "source": [
        "# serializar el modelo a JSON\n",
        "model_json = model.to_json()\n",
        "with open(nombreModeloGuardado, \"w\") as json_file:\n",
        "    json_file.write(model_json)\n",
        "    print(\"Modelo guardado!\")\n"
      ],
      "execution_count": 22,
      "outputs": [
        {
          "output_type": "stream",
          "text": [
            "Modelo guardado!\n"
          ],
          "name": "stdout"
        }
      ]
    },
    {
      "cell_type": "code",
      "metadata": {
        "id": "bxvvBslQQikQ",
        "outputId": "d5cbe27a-bd95-42d8-b50f-f70923ff6b79",
        "colab": {
          "base_uri": "https://localhost:8080/"
        }
      },
      "source": [
        "# serializar los pesos a HDF5\n",
        "model.save_weights(nombrePesosGuardados)\n",
        "print(\"Pesos Guardados!\")"
      ],
      "execution_count": 23,
      "outputs": [
        {
          "output_type": "stream",
          "text": [
            "Pesos Guardados!\n"
          ],
          "name": "stdout"
        }
      ]
    },
    {
      "cell_type": "markdown",
      "metadata": {
        "id": "fNr9M1PlRbeb"
      },
      "source": [
        "Guardando el modelo como TensorFlow Lite, util para correr la red neuronal en algunos microcontroladores"
      ]
    },
    {
      "cell_type": "code",
      "metadata": {
        "id": "tdSbb7nWRa-W",
        "outputId": "04441e5a-bb37-4271-8456-7173fca996e4",
        "colab": {
          "base_uri": "https://localhost:8080/"
        }
      },
      "source": [
        "import tensorflow as tf\n",
        "\n",
        "converter = tf.lite.TFLiteConverter.from_keras_model(model)\n",
        "\n",
        "tflite_model = converter.convert()\n",
        "open(\"gesture_model.tflite\", \"wb\").write(tflite_model)\n",
        "\n",
        "import os\n",
        "basic_model_size = os.path.getsize(\"gesture_model.tflite\")\n",
        "print(\"Model is %d bytes\" % basic_model_size)"
      ],
      "execution_count": 27,
      "outputs": [
        {
          "output_type": "stream",
          "text": [
            "WARNING:tensorflow:From /usr/local/lib/python3.6/dist-packages/tensorflow/python/training/tracking/tracking.py:111: Model.state_updates (from tensorflow.python.keras.engine.training) is deprecated and will be removed in a future version.\n",
            "Instructions for updating:\n",
            "This property should not be used in TensorFlow 2.0, as updates are applied automatically.\n",
            "WARNING:tensorflow:From /usr/local/lib/python3.6/dist-packages/tensorflow/python/training/tracking/tracking.py:111: Layer.updates (from tensorflow.python.keras.engine.base_layer) is deprecated and will be removed in a future version.\n",
            "Instructions for updating:\n",
            "This property should not be used in TensorFlow 2.0, as updates are applied automatically.\n",
            "INFO:tensorflow:Assets written to: /tmp/tmphepcp5gb/assets\n",
            "Model is 1332 bytes\n"
          ],
          "name": "stdout"
        }
      ]
    },
    {
      "cell_type": "code",
      "metadata": {
        "id": "CcdbpBWwQ2xn",
        "outputId": "3b1edb99-64ff-4da9-ffbf-9c9bcda79533",
        "colab": {
          "base_uri": "https://localhost:8080/"
        }
      },
      "source": [
        "print(model.get_weights)\n",
        "\n",
        "\n",
        "print(model.get_output_shape_at)"
      ],
      "execution_count": 31,
      "outputs": [
        {
          "output_type": "stream",
          "text": [
            "<bound method Model.get_weights of <tensorflow.python.keras.engine.sequential.Sequential object at 0x7f219b5df828>>\n",
            "<bound method Layer.get_output_shape_at of <tensorflow.python.keras.engine.sequential.Sequential object at 0x7f219b5df828>>\n"
          ],
          "name": "stdout"
        }
      ]
    },
    {
      "cell_type": "code",
      "metadata": {
        "id": "YsKNsbuPQoZs",
        "outputId": "c6cdd2ec-1e6c-4d0e-f190-bff1d1eadbf4",
        "colab": {
          "base_uri": "https://localhost:8080/"
        }
      },
      "source": [
        "def get_pesos_model(modelo, redondeo_pesos = 4):\n",
        "  total_neuronas = 0\n",
        "  matrix_pesos = []\n",
        "\n",
        "  for m in modelo.layers:  \n",
        "    weight = m.get_weights()\n",
        "    print(\"capa\")\n",
        "    print(matrix_pesos)\n",
        "    for w in weight:\n",
        "      weight0 = np.array(w)\n",
        "      for i in weight0:\n",
        "        if i.shape != ():\n",
        "          total_neuronas = total_neuronas + i.shape[0]\n",
        "          vector = i.tolist()\n",
        "        else:\n",
        "          total_neuronas = total_neuronas + 1\n",
        "          vector = [i.tolist()]\n",
        "\n",
        "        vector_pesos = list()\n",
        "        for i in vector:\n",
        "          vector_pesos.append(round(i, redondeo_pesos))\n",
        "        matrix_pesos.append(vector_pesos)\n",
        "  return (total_neuronas, matrix_pesos)\n",
        "\n",
        "(total_neuronas, matrix_pesos) = get_pesos_model(model)\n",
        "print(\"Total neuronas: \", total_neuronas)\n",
        "print(matrix_pesos)"
      ],
      "execution_count": 92,
      "outputs": [
        {
          "output_type": "stream",
          "text": [
            "capa\n",
            "[]\n",
            "capa\n",
            "[[0.3958, -0.7383], [-7.5395], [0.0]]\n",
            "Total neuronas:  10\n",
            "[[0.3958, -0.7383], [-7.5395], [0.0], [16.5268, -28.6164], [0.643, -1.1752], [-9.1054], [5.6474]]\n"
          ],
          "name": "stdout"
        }
      ]
    },
    {
      "cell_type": "code",
      "metadata": {
        "id": "5voM2kwrgHJ7",
        "outputId": "1794d568-d29b-449e-e1f4-b04ada8f8c62",
        "colab": {
          "base_uri": "https://localhost:8080/"
        }
      },
      "source": [
        "model.summary()"
      ],
      "execution_count": 90,
      "outputs": [
        {
          "output_type": "stream",
          "text": [
            "Model: \"sequential\"\n",
            "_________________________________________________________________\n",
            "Layer (type)                 Output Shape              Param #   \n",
            "=================================================================\n",
            "dense (Dense)                (None, 2)                 4         \n",
            "_________________________________________________________________\n",
            "dense_1 (Dense)              (None, 2)                 6         \n",
            "=================================================================\n",
            "Total params: 10\n",
            "Trainable params: 10\n",
            "Non-trainable params: 0\n",
            "_________________________________________________________________\n"
          ],
          "name": "stdout"
        }
      ]
    },
    {
      "cell_type": "markdown",
      "metadata": {
        "id": "AvTWSP1Ei62U"
      },
      "source": [
        "\n",
        "Para cargarla:"
      ]
    },
    {
      "cell_type": "code",
      "metadata": {
        "id": "qsk6dXkhi9U1",
        "outputId": "7842bf6b-cdf1-4e52-b9f7-b08023a77c82",
        "colab": {
          "base_uri": "https://localhost:8080/",
          "height": 52
        }
      },
      "source": [
        "from keras.models import model_from_json\n",
        "\n",
        "# cargar json y crear el modelo\n",
        "json_file = open(nombreModeloGuardado, 'r')\n",
        "loaded_model_json = json_file.read()\n",
        "json_file.close()\n",
        "loaded_model = model_from_json(loaded_model_json)\n",
        "print(\"Modelo Cargado!\")\n",
        "\n",
        "\n",
        "# cargar pesos al nuevo modelo\n",
        "loaded_model.load_weights(nombrePesosGuardados)\n",
        "print(\"Pesos Cargados!\")\n",
        " \n",
        "# Compilar modelo cargado y listo para usar.\n",
        "loaded_model.compile(loss='mean_squared_error', optimizer='adam', metrics=['binary_accuracy'])\n"
      ],
      "execution_count": null,
      "outputs": [
        {
          "output_type": "stream",
          "text": [
            "Modelo Cargado!\n",
            "Pesos Cargados!\n"
          ],
          "name": "stdout"
        }
      ]
    },
    {
      "cell_type": "markdown",
      "metadata": {
        "id": "ytLKciNDk74_"
      },
      "source": [
        "Luego de esto, ya usaríamos normalmente loaded_model.predict() y listo!"
      ]
    },
    {
      "cell_type": "code",
      "metadata": {
        "id": "vf3RN085jiSF",
        "outputId": "91133da5-6f32-4503-e355-2e0740039c56",
        "colab": {
          "base_uri": "https://localhost:8080/",
          "height": 70
        }
      },
      "source": [
        "def usarRedaNeuronalCargadParaPredecirSalidas(entrada):\n",
        "  training_data = np.array([entrada], \"float32\")\n",
        "  prediccion = loaded_model.predict(training_data).round()[0]\n",
        "\n",
        "  salida1 = int(prediccion[0])\n",
        "  salida2 = int(prediccion[1])\n",
        "  return salida1, salida2\n",
        "\n",
        "\n",
        "entrada = temperaturaAleatoria()\n",
        "salida1, salida2 = usarRedaNeuronalCargadParaPredecirSalidas(entrada)\n",
        "print(\"Temperatura: \", entrada)\n",
        "print(actuador[1] + \": \" + estadosActuadores[salida1])\n",
        "print(actuador[2] + \": \" + estadosActuadores[salida2])"
      ],
      "execution_count": null,
      "outputs": [
        {
          "output_type": "stream",
          "text": [
            "Temperatura:  14\n",
            "Ventilador: OFF\n",
            "Lampara calor: ON\n"
          ],
          "name": "stdout"
        }
      ]
    },
    {
      "cell_type": "code",
      "metadata": {
        "id": "ws47TT7L0MdY",
        "outputId": "a09a66f6-78fd-453d-9c58-bdbb6c54d003",
        "colab": {
          "base_uri": "https://localhost:8080/",
          "height": 341
        }
      },
      "source": [
        "cantidadDatosEvaludar = 30\n",
        "\n",
        "historialTemperatura = []\n",
        "historialVentilador = []\n",
        "historialCalefactor = []\n",
        "puntoEquilibrio = []\n",
        "for i in range(cantidadDatosEvaludar):\n",
        "  entrada = temperaturaAleatoria()\n",
        "  salida1, salida2 = usarRedaNeuronalCargadParaPredecirSalidas(entrada)\n",
        "  historialTemperatura.append(entrada)\n",
        "  historialVentilador.append(salida1*100)\n",
        "  historialCalefactor.append(salida2*100)  \n",
        "  puntoEquilibrio.append(setPoint)\n",
        "    \n",
        "    \n",
        "    \n",
        "    \n",
        "    \n",
        "    \n",
        "    \n",
        "    \n",
        "import matplotlib.pyplot as plt\n",
        "import numpy as np\n",
        "import pandas as pd\n",
        " \n",
        "# Data\n",
        "df=pd.DataFrame({\n",
        "    't': range(0,len(historialTemperatura)), \n",
        "    sensores[1]: historialTemperatura, \n",
        "    actuador[1]: historialVentilador, \n",
        "    actuador[2]: historialCalefactor , \n",
        "    \"SetPoint\": puntoEquilibrio \n",
        "})\n",
        " \n",
        "# multiple line plot\n",
        "plt.rcParams[\"figure.figsize\"] = (20,5)\n",
        "plt.plot( 't', sensores[1], data=df, marker='o', markerfacecolor='r', markersize=12, color='r', linewidth=4)\n",
        "plt.plot( 't', actuador[1], data=df, marker='v', color='b', linewidth=2)\n",
        "plt.plot( 't', \"SetPoint\", data=df, marker='', color='g', linewidth=2)\n",
        "plt.plot( 't', actuador[2], data=df, marker='^', color='y', linewidth=2, linestyle='dashed')\n",
        "plt.legend()\n"
      ],
      "execution_count": null,
      "outputs": [
        {
          "output_type": "execute_result",
          "data": {
            "text/plain": [
              "<matplotlib.legend.Legend at 0x7fd0ef64e0b8>"
            ]
          },
          "metadata": {
            "tags": []
          },
          "execution_count": 24
        },
        {
          "output_type": "display_data",
          "data": {
            "image/png": "[encoded data removed]",
            "text/plain": [
              "<Figure size 1440x360 with 1 Axes>"
            ]
          },
          "metadata": {
            "tags": []
          }
        }
      ]
    },
    {
      "cell_type": "markdown",
      "metadata": {
        "id": "5oWGQy2_m2f-"
      },
      "source": [
        "# ¿Vale la pena una red neuronal? ¿porqué no programar con if-else?"
      ]
    },
    {
      "cell_type": "markdown",
      "metadata": {
        "id": "j8jqIJEBnLcH"
      },
      "source": [
        "Luego de visto todo esto, ¿no conviene hacer una programación «tradicional» en vez de entrenar una red neuronal? Pues siempre dependerá del caso."
      ]
    },
    {
      "cell_type": "markdown",
      "metadata": {
        "id": "YTsBwZ_UnTyc"
      },
      "source": [
        "No quiere decir que haya que reemplazar todo el código del mundo con redes neuronales, pero sí pensar en que casos las redes neuronales nos brindan una flexibilidad y un poder de predicción increíbles -y que se justifican el tiempo de desarrollo-."
      ]
    },
    {
      "cell_type": "markdown",
      "metadata": {
        "id": "uIKGNcpqnatk"
      },
      "source": [
        "Hemos utilizado la librería Keras -y a través de ella, Tensorflow como backend- y creamos el modelo, entrenamos los datos y obtuvimos un buen resultado. Este es el puntapié inicial para seguir viendo diversas arquitecturas de Redes Neuronales e ir aprendiendo poco a poco con Python."
      ]
    }
  ]
}